{
 "cells": [
  {
   "cell_type": "code",
   "execution_count": 1,
   "metadata": {},
   "outputs": [],
   "source": [
    "import pandas as pd\n",
    "from datasets import Dataset, load_metric\n",
    "from torch.utils.data import DataLoader\n",
    "from transformers import AutoModelForSequenceClassification, AutoTokenizer, DataCollatorWithPadding, get_scheduler\n",
    "import torch\n",
    "import matplotlib.pyplot as plt\n",
    "from tqdm.auto import tqdm\n",
    "import numpy as np\n",
    "from sklearn.metrics import accuracy_score, precision_recall_fscore_support\n",
    "\n",
    "import dill"
   ]
  },
  {
   "cell_type": "code",
   "execution_count": 2,
   "metadata": {},
   "outputs": [
    {
     "name": "stdout",
     "output_type": "stream",
     "text": [
      "cuda\n"
     ]
    }
   ],
   "source": [
    "device = 'cuda' if torch.cuda.is_available() else 'cpu'\n",
    "print(device)"
   ]
  },
  {
   "cell_type": "code",
   "execution_count": 3,
   "metadata": {},
   "outputs": [
    {
     "data": {
      "text/html": [
       "<div>\n",
       "<style scoped>\n",
       "    .dataframe tbody tr th:only-of-type {\n",
       "        vertical-align: middle;\n",
       "    }\n",
       "\n",
       "    .dataframe tbody tr th {\n",
       "        vertical-align: top;\n",
       "    }\n",
       "\n",
       "    .dataframe thead th {\n",
       "        text-align: right;\n",
       "    }\n",
       "</style>\n",
       "<table border=\"1\" class=\"dataframe\">\n",
       "  <thead>\n",
       "    <tr style=\"text-align: right;\">\n",
       "      <th></th>\n",
       "      <th>text</th>\n",
       "      <th>Domain</th>\n",
       "    </tr>\n",
       "  </thead>\n",
       "  <tbody>\n",
       "    <tr>\n",
       "      <th>0</th>\n",
       "      <td>the quality of being beneficial and generally ...</td>\n",
       "      <td>Philosophy and psychology</td>\n",
       "    </tr>\n",
       "    <tr>\n",
       "      <th>1</th>\n",
       "      <td>insure again by transferring to another insura...</td>\n",
       "      <td>Business, economics, and finance</td>\n",
       "    </tr>\n",
       "    <tr>\n",
       "      <th>2</th>\n",
       "      <td>foolish gibberish</td>\n",
       "      <td>Language and linguistics</td>\n",
       "    </tr>\n",
       "    <tr>\n",
       "      <th>3</th>\n",
       "      <td>the property of being a relatively small amoun...</td>\n",
       "      <td>Mathematics</td>\n",
       "    </tr>\n",
       "    <tr>\n",
       "      <th>4</th>\n",
       "      <td>an arrangement of a piece of music for perform...</td>\n",
       "      <td>Music</td>\n",
       "    </tr>\n",
       "  </tbody>\n",
       "</table>\n",
       "</div>"
      ],
      "text/plain": [
       "                                                text  \\\n",
       "0  the quality of being beneficial and generally ...   \n",
       "1  insure again by transferring to another insura...   \n",
       "2                                  foolish gibberish   \n",
       "3  the property of being a relatively small amoun...   \n",
       "4  an arrangement of a piece of music for perform...   \n",
       "\n",
       "                             Domain  \n",
       "0         Philosophy and psychology  \n",
       "1  Business, economics, and finance  \n",
       "2          Language and linguistics  \n",
       "3                       Mathematics  \n",
       "4                             Music  "
      ]
     },
     "execution_count": 3,
     "metadata": {},
     "output_type": "execute_result"
    }
   ],
   "source": [
    "df_train = pd.read_csv('./train.tsv', sep='\\t', names=['text', 'Domain'])\n",
    "df_train.head()"
   ]
  },
  {
   "cell_type": "code",
   "execution_count": 4,
   "metadata": {},
   "outputs": [
    {
     "data": {
      "text/html": [
       "<div>\n",
       "<style scoped>\n",
       "    .dataframe tbody tr th:only-of-type {\n",
       "        vertical-align: middle;\n",
       "    }\n",
       "\n",
       "    .dataframe tbody tr th {\n",
       "        vertical-align: top;\n",
       "    }\n",
       "\n",
       "    .dataframe thead th {\n",
       "        text-align: right;\n",
       "    }\n",
       "</style>\n",
       "<table border=\"1\" class=\"dataframe\">\n",
       "  <thead>\n",
       "    <tr style=\"text-align: right;\">\n",
       "      <th></th>\n",
       "      <th>text</th>\n",
       "      <th>Domain</th>\n",
       "    </tr>\n",
       "  </thead>\n",
       "  <tbody>\n",
       "    <tr>\n",
       "      <th>0</th>\n",
       "      <td>(physics) statistical law obeyed by a system o...</td>\n",
       "      <td>Physics and astronomy</td>\n",
       "    </tr>\n",
       "    <tr>\n",
       "      <th>1</th>\n",
       "      <td>(physics) the process in which incident radiat...</td>\n",
       "      <td>Physics and astronomy</td>\n",
       "    </tr>\n",
       "    <tr>\n",
       "      <th>2</th>\n",
       "      <td>(physics) the exponential return of a system t...</td>\n",
       "      <td>Physics and astronomy</td>\n",
       "    </tr>\n",
       "    <tr>\n",
       "      <th>3</th>\n",
       "      <td>(physics) a coefficient that expresses how muc...</td>\n",
       "      <td>Physics and astronomy</td>\n",
       "    </tr>\n",
       "    <tr>\n",
       "      <th>4</th>\n",
       "      <td>(physics) the point of minimum displacement in...</td>\n",
       "      <td>Physics and astronomy</td>\n",
       "    </tr>\n",
       "  </tbody>\n",
       "</table>\n",
       "</div>"
      ],
      "text/plain": [
       "                                                text                 Domain\n",
       "0  (physics) statistical law obeyed by a system o...  Physics and astronomy\n",
       "1  (physics) the process in which incident radiat...  Physics and astronomy\n",
       "2  (physics) the exponential return of a system t...  Physics and astronomy\n",
       "3  (physics) a coefficient that expresses how muc...  Physics and astronomy\n",
       "4  (physics) the point of minimum displacement in...  Physics and astronomy"
      ]
     },
     "execution_count": 4,
     "metadata": {},
     "output_type": "execute_result"
    }
   ],
   "source": [
    "df_test = pd.read_csv('./test.tsv', sep='\\t', names=['text', 'Domain'])\n",
    "df_test.head()"
   ]
  },
  {
   "cell_type": "code",
   "execution_count": 5,
   "metadata": {},
   "outputs": [],
   "source": [
    "# df_train.Domain.value_counts().plot(kind='pie', figsize=(8,8), title=\"Train partition\", ylabel='')"
   ]
  },
  {
   "cell_type": "code",
   "execution_count": 6,
   "metadata": {},
   "outputs": [],
   "source": [
    "# df_test.Domain.value_counts().plot(kind='pie', figsize=(8,8), title=\"Test partition\", ylabel='')"
   ]
  },
  {
   "cell_type": "code",
   "execution_count": 7,
   "metadata": {},
   "outputs": [
    {
     "data": {
      "text/html": [
       "<div>\n",
       "<style scoped>\n",
       "    .dataframe tbody tr th:only-of-type {\n",
       "        vertical-align: middle;\n",
       "    }\n",
       "\n",
       "    .dataframe tbody tr th {\n",
       "        vertical-align: top;\n",
       "    }\n",
       "\n",
       "    .dataframe thead th {\n",
       "        text-align: right;\n",
       "    }\n",
       "</style>\n",
       "<table border=\"1\" class=\"dataframe\">\n",
       "  <thead>\n",
       "    <tr style=\"text-align: right;\">\n",
       "      <th></th>\n",
       "      <th>text</th>\n",
       "      <th>labels</th>\n",
       "    </tr>\n",
       "  </thead>\n",
       "  <tbody>\n",
       "    <tr>\n",
       "      <th>0</th>\n",
       "      <td>the quality of being beneficial and generally ...</td>\n",
       "      <td>0</td>\n",
       "    </tr>\n",
       "    <tr>\n",
       "      <th>1</th>\n",
       "      <td>insure again by transferring to another insura...</td>\n",
       "      <td>1</td>\n",
       "    </tr>\n",
       "    <tr>\n",
       "      <th>2</th>\n",
       "      <td>foolish gibberish</td>\n",
       "      <td>2</td>\n",
       "    </tr>\n",
       "    <tr>\n",
       "      <th>3</th>\n",
       "      <td>the property of being a relatively small amoun...</td>\n",
       "      <td>3</td>\n",
       "    </tr>\n",
       "    <tr>\n",
       "      <th>4</th>\n",
       "      <td>an arrangement of a piece of music for perform...</td>\n",
       "      <td>4</td>\n",
       "    </tr>\n",
       "  </tbody>\n",
       "</table>\n",
       "</div>"
      ],
      "text/plain": [
       "                                                text  labels\n",
       "0  the quality of being beneficial and generally ...       0\n",
       "1  insure again by transferring to another insura...       1\n",
       "2                                  foolish gibberish       2\n",
       "3  the property of being a relatively small amoun...       3\n",
       "4  an arrangement of a piece of music for perform...       4"
      ]
     },
     "execution_count": 7,
     "metadata": {},
     "output_type": "execute_result"
    }
   ],
   "source": [
    "label2id = {}\n",
    "\n",
    "def encode_domain(x):\n",
    "    if x not in label2id.keys():\n",
    "        label2id[x]=len(label2id)\n",
    "    return label2id[x]\n",
    "\n",
    "df_train['labels'] = df_train['Domain'].apply(lambda x: encode_domain(x))\n",
    "assert df_train['labels'].max() == 33, \"The maximum encoded category should be 33\" #Hay 34 clases en total\n",
    "df_train = df_train.drop(columns='Domain')\n",
    "df_train.head()"
   ]
  },
  {
   "cell_type": "code",
   "execution_count": 8,
   "metadata": {},
   "outputs": [
    {
     "data": {
      "text/html": [
       "<div>\n",
       "<style scoped>\n",
       "    .dataframe tbody tr th:only-of-type {\n",
       "        vertical-align: middle;\n",
       "    }\n",
       "\n",
       "    .dataframe tbody tr th {\n",
       "        vertical-align: top;\n",
       "    }\n",
       "\n",
       "    .dataframe thead th {\n",
       "        text-align: right;\n",
       "    }\n",
       "</style>\n",
       "<table border=\"1\" class=\"dataframe\">\n",
       "  <thead>\n",
       "    <tr style=\"text-align: right;\">\n",
       "      <th></th>\n",
       "      <th>text</th>\n",
       "      <th>labels</th>\n",
       "    </tr>\n",
       "  </thead>\n",
       "  <tbody>\n",
       "    <tr>\n",
       "      <th>0</th>\n",
       "      <td>(physics) statistical law obeyed by a system o...</td>\n",
       "      <td>14</td>\n",
       "    </tr>\n",
       "    <tr>\n",
       "      <th>1</th>\n",
       "      <td>(physics) the process in which incident radiat...</td>\n",
       "      <td>14</td>\n",
       "    </tr>\n",
       "    <tr>\n",
       "      <th>2</th>\n",
       "      <td>(physics) the exponential return of a system t...</td>\n",
       "      <td>14</td>\n",
       "    </tr>\n",
       "    <tr>\n",
       "      <th>3</th>\n",
       "      <td>(physics) a coefficient that expresses how muc...</td>\n",
       "      <td>14</td>\n",
       "    </tr>\n",
       "    <tr>\n",
       "      <th>4</th>\n",
       "      <td>(physics) the point of minimum displacement in...</td>\n",
       "      <td>14</td>\n",
       "    </tr>\n",
       "  </tbody>\n",
       "</table>\n",
       "</div>"
      ],
      "text/plain": [
       "                                                text  labels\n",
       "0  (physics) statistical law obeyed by a system o...      14\n",
       "1  (physics) the process in which incident radiat...      14\n",
       "2  (physics) the exponential return of a system t...      14\n",
       "3  (physics) a coefficient that expresses how muc...      14\n",
       "4  (physics) the point of minimum displacement in...      14"
      ]
     },
     "execution_count": 8,
     "metadata": {},
     "output_type": "execute_result"
    }
   ],
   "source": [
    "df_test['labels'] = df_test['Domain'].apply(lambda x: encode_domain(x))\n",
    "assert df_test['labels'].max() == 33, \"The maximum encoded category should be 33\" #Hay 34 clases en total\n",
    "df_test = df_test.drop(columns='Domain')\n",
    "df_test.head()"
   ]
  },
  {
   "cell_type": "code",
   "execution_count": 9,
   "metadata": {},
   "outputs": [
    {
     "name": "stdout",
     "output_type": "stream",
     "text": [
      "{0: 'Philosophy and psychology', 1: 'Business, economics, and finance', 2: 'Language and linguistics', 3: 'Mathematics', 4: 'Music', 5: 'Animals', 6: 'Warfare and defense', 7: 'Literature and theatre', 8: 'Numismatics and currencies', 9: 'Religion, mysticism and mythology', 10: 'Biology', 11: 'Media', 12: 'Geography and places', 13: 'Education', 14: 'Physics and astronomy', 15: 'Health and medicine', 16: 'Heraldry, honors, and vexillology', 17: 'Engineering and technology', 18: 'Chemistry and mineralogy', 19: 'Law and crime', 20: 'Computing', 21: 'Art, architecture, and archaeology', 22: 'Food and drink', 23: 'Textile and clothing', 24: 'Sport and recreation', 25: 'Transport and travel', 26: 'Geology and geophysics', 27: 'Farming', 28: 'Politics and government', 29: 'Meteorology', 30: 'Royalty and nobility', 31: 'Culture and society', 32: 'Games and video games', 33: 'History'}\n"
     ]
    }
   ],
   "source": [
    "id2label = {index: label for label, index in label2id.items()}\n",
    "print(id2label)"
   ]
  },
  {
   "cell_type": "code",
   "execution_count": 10,
   "metadata": {},
   "outputs": [
    {
     "data": {
      "image/png": "[encoded data removed]",
      "text/plain": [
       "<Figure size 640x480 with 1 Axes>"
      ]
     },
     "metadata": {},
     "output_type": "display_data"
    }
   ],
   "source": [
    "longitudes = df_train['text'].apply(len)\n",
    "\n",
    "# Crear el histograma usando el método plot de pandas\n",
    "longitudes.plot(kind='hist', bins=30, color='skyblue', edgecolor='black')\n",
    "\n",
    "# Configurar el título y etiquetas de los ejes\n",
    "plt.title('Distribución de la longitud de las glosas')\n",
    "plt.xlabel('Longitud de la glosa')\n",
    "plt.ylabel('Frecuencia')\n",
    "\n",
    "# Mostrar el histograma\n",
    "plt.show()"
   ]
  },
  {
   "cell_type": "markdown",
   "metadata": {},
   "source": [
    "Vamos a crear la partición de validación y ya podemos crear los tres Datasets"
   ]
  },
  {
   "cell_type": "code",
   "execution_count": 11,
   "metadata": {},
   "outputs": [],
   "source": [
    "train_size = 0.85\n",
    "train=df_train.sample(frac=train_size,random_state=200).reset_index(drop=True)\n",
    "valid=df_train.drop(train.index).reset_index(drop=True)\n",
    "train_dataset = Dataset.from_pandas(train)\n",
    "valid_dataset = Dataset.from_pandas(valid)\n",
    "test_dataset = Dataset.from_pandas(df_test)"
   ]
  },
  {
   "cell_type": "markdown",
   "metadata": {},
   "source": [
    "## Búsqueda de hiperparametros"
   ]
  },
  {
   "cell_type": "code",
   "execution_count": 15,
   "metadata": {},
   "outputs": [],
   "source": [
    "model_ckpt='distilbert-base-uncased'\n",
    "tokenizer = AutoTokenizer.from_pretrained(model_ckpt)"
   ]
  },
  {
   "cell_type": "code",
   "execution_count": 16,
   "metadata": {},
   "outputs": [],
   "source": [
    "def preprocess_function(examples):\n",
    "    return tokenizer(examples[\"text\"],truncation=True, max_length = 512)"
   ]
  },
  {
   "cell_type": "code",
   "execution_count": 17,
   "metadata": {},
   "outputs": [
    {
     "data": {
      "application/vnd.jupyter.widget-view+json": {
       "model_id": "60bcf9ab972c4605999ada728270959a",
       "version_major": 2,
       "version_minor": 0
      },
      "text/plain": [
       "Map:   0%|          | 0/10072 [00:00<?, ? examples/s]"
      ]
     },
     "metadata": {},
     "output_type": "display_data"
    },
    {
     "data": {
      "application/vnd.jupyter.widget-view+json": {
       "model_id": "4f5687708c0848a4b59aad2f0d836c9a",
       "version_major": 2,
       "version_minor": 0
      },
      "text/plain": [
       "Map:   0%|          | 0/1777 [00:00<?, ? examples/s]"
      ]
     },
     "metadata": {},
     "output_type": "display_data"
    },
    {
     "data": {
      "application/vnd.jupyter.widget-view+json": {
       "model_id": "0b657c4750094126aa35ab050e94be35",
       "version_major": 2,
       "version_minor": 0
      },
      "text/plain": [
       "Map:   0%|          | 0/1540 [00:00<?, ? examples/s]"
      ]
     },
     "metadata": {},
     "output_type": "display_data"
    }
   ],
   "source": [
    "tokenized_train = train_dataset.map(preprocess_function, batched=True)\n",
    "tokenized_valid = valid_dataset.map(preprocess_function, batched=True)\n",
    "tokenized_test = test_dataset.map(preprocess_function, batched=True)\n",
    "tokenized_train = tokenized_train.remove_columns([\"text\"])\n",
    "tokenized_valid = tokenized_valid.remove_columns([\"text\"])\n",
    "tokenized_test = tokenized_test.remove_columns([\"text\"])\n",
    "\n",
    "tokenized_train.set_format(\"torch\")\n",
    "tokenized_valid.set_format(\"torch\")\n",
    "tokenized_test.set_format(\"torch\")\n",
    "data_collator = DataCollatorWithPadding(tokenizer=tokenizer)\n",
    "train_dataloader = DataLoader(tokenized_train, batch_size=32, shuffle=True, collate_fn=data_collator)\n",
    "valid_dataloader = DataLoader(tokenized_valid, batch_size=64, shuffle=False, collate_fn=data_collator)\n",
    "test_dataloader = DataLoader(tokenized_test, batch_size=64, shuffle=False, collate_fn=data_collator)"
   ]
  },
  {
   "cell_type": "code",
   "execution_count": 16,
   "metadata": {},
   "outputs": [
    {
     "name": "stderr",
     "output_type": "stream",
     "text": [
      "Some weights of DistilBertForSequenceClassification were not initialized from the model checkpoint at distilbert-base-uncased and are newly initialized: ['pre_classifier.bias', 'classifier.weight', 'classifier.bias', 'pre_classifier.weight']\n",
      "You should probably TRAIN this model on a down-stream task to be able to use it for predictions and inference.\n"
     ]
    },
    {
     "data": {
      "text/plain": [
       "DistilBertForSequenceClassification(\n",
       "  (distilbert): DistilBertModel(\n",
       "    (embeddings): Embeddings(\n",
       "      (word_embeddings): Embedding(30522, 768, padding_idx=0)\n",
       "      (position_embeddings): Embedding(512, 768)\n",
       "      (LayerNorm): LayerNorm((768,), eps=1e-12, elementwise_affine=True)\n",
       "      (dropout): Dropout(p=0.1, inplace=False)\n",
       "    )\n",
       "    (transformer): Transformer(\n",
       "      (layer): ModuleList(\n",
       "        (0-5): 6 x TransformerBlock(\n",
       "          (attention): MultiHeadSelfAttention(\n",
       "            (dropout): Dropout(p=0.1, inplace=False)\n",
       "            (q_lin): Linear(in_features=768, out_features=768, bias=True)\n",
       "            (k_lin): Linear(in_features=768, out_features=768, bias=True)\n",
       "            (v_lin): Linear(in_features=768, out_features=768, bias=True)\n",
       "            (out_lin): Linear(in_features=768, out_features=768, bias=True)\n",
       "          )\n",
       "          (sa_layer_norm): LayerNorm((768,), eps=1e-12, elementwise_affine=True)\n",
       "          (ffn): FFN(\n",
       "            (dropout): Dropout(p=0.1, inplace=False)\n",
       "            (lin1): Linear(in_features=768, out_features=3072, bias=True)\n",
       "            (lin2): Linear(in_features=3072, out_features=768, bias=True)\n",
       "            (activation): GELUActivation()\n",
       "          )\n",
       "          (output_layer_norm): LayerNorm((768,), eps=1e-12, elementwise_affine=True)\n",
       "        )\n",
       "      )\n",
       "    )\n",
       "  )\n",
       "  (pre_classifier): Linear(in_features=768, out_features=768, bias=True)\n",
       "  (classifier): Linear(in_features=768, out_features=34, bias=True)\n",
       "  (dropout): Dropout(p=0.2, inplace=False)\n",
       ")"
      ]
     },
     "execution_count": 16,
     "metadata": {},
     "output_type": "execute_result"
    }
   ],
   "source": [
    "num_labels=34\n",
    "model = AutoModelForSequenceClassification.from_pretrained(model_ckpt, num_labels=num_labels, id2label=id2label, label2id=label2id)\n",
    "optimizer = torch.optim.AdamW(model.parameters(), lr=2e-5)\n",
    "\n",
    "num_epochs = 10\n",
    "num_training_steps = num_epochs * len(train_dataloader)\n",
    "lr_scheduler = get_scheduler(\n",
    "    \"linear\",\n",
    "    optimizer=optimizer,\n",
    "    num_warmup_steps=0,\n",
    "    num_training_steps=num_training_steps\n",
    ")\n",
    "model.to(device)"
   ]
  },
  {
   "cell_type": "code",
   "execution_count": 17,
   "metadata": {},
   "outputs": [
    {
     "data": {
      "application/vnd.jupyter.widget-view+json": {
       "model_id": "8f22dabcdef5411287754da36f6cc597",
       "version_major": 2,
       "version_minor": 0
      },
      "text/plain": [
       "  0%|          | 0/3150 [00:00<?, ?it/s]"
      ]
     },
     "metadata": {},
     "output_type": "display_data"
    },
    {
     "name": "stdout",
     "output_type": "stream",
     "text": [
      "Epoch 1, Iteration 50, Training Loss: 0.7770, Validation Loss: 2.6245\n",
      "Epoch 1, Iteration 100, Training Loss: 0.5591, Validation Loss: 1.8809\n",
      "Epoch 1, Iteration 150, Training Loss: 0.3983, Validation Loss: 1.3924\n",
      "Epoch 1, Iteration 200, Training Loss: 0.3133, Validation Loss: 1.0825\n",
      "Epoch 1, Iteration 250, Training Loss: 0.2597, Validation Loss: 0.9111\n",
      "Epoch 1, Iteration 300, Training Loss: 0.2281, Validation Loss: 0.7807\n",
      "Epoch 2, Iteration 50, Training Loss: 0.1883, Validation Loss: 0.6582\n",
      "Epoch 2, Iteration 100, Training Loss: 0.1510, Validation Loss: 0.6126\n",
      "Epoch 2, Iteration 150, Training Loss: 0.1513, Validation Loss: 0.5533\n",
      "Epoch 2, Iteration 200, Training Loss: 0.1431, Validation Loss: 0.5085\n",
      "Epoch 2, Iteration 250, Training Loss: 0.1324, Validation Loss: 0.4798\n",
      "Epoch 2, Iteration 300, Training Loss: 0.1268, Validation Loss: 0.4302\n",
      "Epoch 3, Iteration 50, Training Loss: 0.0970, Validation Loss: 0.3955\n",
      "Epoch 3, Iteration 100, Training Loss: 0.0873, Validation Loss: 0.3714\n",
      "Epoch 3, Iteration 150, Training Loss: 0.0920, Validation Loss: 0.3551\n",
      "Epoch 3, Iteration 200, Training Loss: 0.0884, Validation Loss: 0.3209\n",
      "Epoch 3, Iteration 250, Training Loss: 0.0739, Validation Loss: 0.3018\n",
      "Epoch 3, Iteration 300, Training Loss: 0.0752, Validation Loss: 0.2844\n",
      "Epoch 4, Iteration 50, Training Loss: 0.0604, Validation Loss: 0.2679\n",
      "Epoch 4, Iteration 100, Training Loss: 0.0563, Validation Loss: 0.2620\n",
      "Epoch 4, Iteration 150, Training Loss: 0.0523, Validation Loss: 0.2364\n",
      "Epoch 4, Iteration 200, Training Loss: 0.0540, Validation Loss: 0.2280\n",
      "Epoch 4, Iteration 250, Training Loss: 0.0513, Validation Loss: 0.2224\n",
      "Epoch 4, Iteration 300, Training Loss: 0.0409, Validation Loss: 0.2105\n",
      "Epoch 5, Iteration 50, Training Loss: 0.0432, Validation Loss: 0.2012\n",
      "Epoch 5, Iteration 100, Training Loss: 0.0300, Validation Loss: 0.1981\n",
      "Epoch 5, Iteration 150, Training Loss: 0.0287, Validation Loss: 0.1980\n",
      "Epoch 5, Iteration 200, Training Loss: 0.0322, Validation Loss: 0.1873\n",
      "Epoch 5, Iteration 250, Training Loss: 0.0297, Validation Loss: 0.1761\n",
      "Epoch 5, Iteration 300, Training Loss: 0.0338, Validation Loss: 0.1720\n",
      "Epoch 6, Iteration 50, Training Loss: 0.0285, Validation Loss: 0.1669\n",
      "Epoch 6, Iteration 100, Training Loss: 0.0233, Validation Loss: 0.1572\n",
      "Epoch 6, Iteration 150, Training Loss: 0.0184, Validation Loss: 0.1586\n",
      "Epoch 6, Iteration 200, Training Loss: 0.0193, Validation Loss: 0.1501\n",
      "Epoch 6, Iteration 250, Training Loss: 0.0203, Validation Loss: 0.1479\n",
      "Epoch 6, Iteration 300, Training Loss: 0.0200, Validation Loss: 0.1404\n",
      "Epoch 7, Iteration 50, Training Loss: 0.0229, Validation Loss: 0.1454\n",
      "Epoch 7, Iteration 100, Training Loss: 0.0124, Validation Loss: 0.1407\n",
      "Epoch 7, Iteration 150, Training Loss: 0.0164, Validation Loss: 0.1403\n",
      "Epoch 7, Iteration 200, Training Loss: 0.0128, Validation Loss: 0.1351\n",
      "Epoch 7, Iteration 250, Training Loss: 0.0150, Validation Loss: 0.1353\n",
      "Epoch 7, Iteration 300, Training Loss: 0.0107, Validation Loss: 0.1307\n",
      "Epoch 8, Iteration 50, Training Loss: 0.0177, Validation Loss: 0.1310\n",
      "Epoch 8, Iteration 100, Training Loss: 0.0106, Validation Loss: 0.1280\n",
      "Epoch 8, Iteration 150, Training Loss: 0.0099, Validation Loss: 0.1262\n",
      "Epoch 8, Iteration 200, Training Loss: 0.0081, Validation Loss: 0.1265\n",
      "Epoch 8, Iteration 250, Training Loss: 0.0106, Validation Loss: 0.1239\n",
      "Epoch 8, Iteration 300, Training Loss: 0.0090, Validation Loss: 0.1214\n",
      "Epoch 9, Iteration 50, Training Loss: 0.0156, Validation Loss: 0.1218\n",
      "Epoch 9, Iteration 100, Training Loss: 0.0084, Validation Loss: 0.1215\n",
      "Epoch 9, Iteration 150, Training Loss: 0.0083, Validation Loss: 0.1210\n",
      "Epoch 9, Iteration 200, Training Loss: 0.0080, Validation Loss: 0.1200\n",
      "Epoch 9, Iteration 250, Training Loss: 0.0095, Validation Loss: 0.1192\n",
      "Epoch 9, Iteration 300, Training Loss: 0.0060, Validation Loss: 0.1185\n",
      "Epoch 10, Iteration 50, Training Loss: 0.0138, Validation Loss: 0.1188\n",
      "Epoch 10, Iteration 100, Training Loss: 0.0082, Validation Loss: 0.1185\n",
      "Epoch 10, Iteration 150, Training Loss: 0.0059, Validation Loss: 0.1182\n",
      "Epoch 10, Iteration 200, Training Loss: 0.0069, Validation Loss: 0.1181\n",
      "Epoch 10, Iteration 250, Training Loss: 0.0057, Validation Loss: 0.1179\n",
      "Epoch 10, Iteration 300, Training Loss: 0.0066, Validation Loss: 0.1180\n"
     ]
    }
   ],
   "source": [
    "\n",
    "    \n",
    "progress_bar = tqdm(range(num_training_steps))\n",
    "train_losses=[]\n",
    "valid_losses=[]\n",
    "\n",
    "for epoch in range(num_epochs):    \n",
    "    train_loss=0.0\n",
    "    model.train()\n",
    "    if epoch ==3:\n",
    "        torch.save(model, \"./Pretrained/distilbertEpoch4Tasa2e-5\")\n",
    "    for batch_num, batch in enumerate(train_dataloader):\n",
    "        batch = {k: v.to(device) for k, v in batch.items()}\n",
    "        outputs = model(**batch)\n",
    "        loss = outputs.loss\n",
    "        loss.backward()\n",
    "        optimizer.step()\n",
    "        lr_scheduler.step()\n",
    "        optimizer.zero_grad()\n",
    "        progress_bar.update(1)\n",
    "\n",
    "        train_loss += loss.item()\n",
    "\n",
    "        if (batch_num + 1) % 50 == 0:\n",
    "            model.eval()  # Establecer el modelo en modo de evaluación\n",
    "            val_loss = 0.0\n",
    "\n",
    "            with torch.no_grad():\n",
    "                for val_batch in valid_dataloader:\n",
    "                    val_batch = {k: v.to(device) for k, v in val_batch.items()}\n",
    "                    val_outputs = model(**val_batch)\n",
    "                    val_loss += val_outputs.loss.item()\n",
    "\n",
    "            # Calcular la pérdida de validación promedio\n",
    "            avg_val_loss = val_loss / len(valid_dataloader)\n",
    "\n",
    "            # Guardar los valores de pérdida\n",
    "            train_losses.append(train_loss / 200)\n",
    "            valid_losses.append(avg_val_loss)\n",
    "\n",
    "            print(f\"Epoch {epoch + 1}, Iteration {batch_num + 1}, Training Loss: {train_loss / 200:.4f}, Validation Loss: {avg_val_loss:.4f}\")\n",
    "            train_loss=0.0\n",
    "\n"
   ]
  },
  {
   "cell_type": "code",
   "execution_count": 22,
   "metadata": {},
   "outputs": [
    {
     "data": {
      "image/png": "[encoded data removed]",
      "text/plain": [
       "<Figure size 640x480 with 2 Axes>"
      ]
     },
     "metadata": {},
     "output_type": "display_data"
    }
   ],
   "source": [
    "iterations_x = np.arange(1, len(train_losses) + 1) * 50  # Crea un array de valores para cada 200 iteraciones\n",
    "\n",
    "epochs_x = np.arange(0, num_epochs)  # Crea un array de valores para las épocas\n",
    "\n",
    "fig, ax1 = plt.subplots()\n",
    "\n",
    "ax1.plot(iterations_x, train_losses, label='Training Loss', color='blue')\n",
    "ax1.plot(iterations_x, valid_losses, label='Validation Loss', color='orange')\n",
    "ax1.set_xlabel('Iterations')\n",
    "ax1.set_ylabel('Loss', color='black')\n",
    "ax1.legend(loc='upper right')\n",
    "ax1.xaxis.set_label_coords(0.15, -0.1)\n",
    "\n",
    "ax1.grid(True, linestyle='--', alpha=0.7)\n",
    "ax1.set_facecolor('#f0f0f0')\n",
    "\n",
    "# Crear un segundo eje x para las épocas\n",
    "ax2 = ax1.twiny()\n",
    "ax2.set_xticks(epochs_x)\n",
    "ax2.set_xlabel('Epochs')\n",
    "ax2.set_ylabel('Loss', color='black') \n",
    "ax2.xaxis.set_label_coords(0.15, 1.1)\n",
    "title = ax1.set_title(\"Training loop train_batch_size=32\")\n",
    "title.set_y(2)\n",
    "\n",
    "\n",
    "plt.show()"
   ]
  },
  {
   "cell_type": "code",
   "execution_count": 19,
   "metadata": {},
   "outputs": [],
   "source": [
    "\n",
    "def compute_metrics(preds, labels):\n",
    "\n",
    "    # Obtain predicted class labels by finding the column index with the maximum probability\n",
    "\n",
    "    # Compute macro precision, recall, and F1 score using sklearn's precision_recall_fscore_support function\n",
    "    precision, recall, f1, _ = precision_recall_fscore_support(labels, preds, average='micro')\n",
    "\n",
    "    # Calculate the accuracy score using sklearn's accuracy_score function\n",
    "    acc = accuracy_score(labels, preds)\n",
    "\n",
    "    # Return the computed metrics as a dictionary\n",
    "\n",
    "    return {\n",
    "    'Accuracy': acc,\n",
    "    'F1': f1,\n",
    "    'Precision': precision,\n",
    "    'Recall': recall\n",
    "    }\n"
   ]
  },
  {
   "cell_type": "code",
   "execution_count": 22,
   "metadata": {},
   "outputs": [
    {
     "name": "stdout",
     "output_type": "stream",
     "text": [
      "{'Accuracy': 0.8649350649350649, 'F1': 0.8649350649350649, 'Precision': 0.8649350649350649, 'Recall': 0.8649350649350649}\n"
     ]
    }
   ],
   "source": [
    "model = torch.load(\"./Pretrained/distilbertEpoch4Tasa2e-5\")\n",
    "model.eval()\n",
    "\n",
    "all_preds = []\n",
    "all_labels = []\n",
    "\n",
    "with torch.no_grad():\n",
    "    for batch in test_dataloader:\n",
    "        batch = {k: v.to(device) for k, v in batch.items()}\n",
    "        outputs = model(**batch)\n",
    "        logits = outputs.logits\n",
    "        preds = logits.argmax(dim=-1).cpu().numpy()\n",
    "        labels = batch['labels'].cpu().numpy()\n",
    "\n",
    "        all_preds.extend(preds)\n",
    "        all_labels.extend(labels)\n",
    "\n",
    "metrics = compute_metrics(all_preds, all_labels)\n",
    "\n",
    "print(metrics)"
   ]
  },
  {
   "cell_type": "markdown",
   "metadata": {},
   "source": [
    "0.8571428571428571, 0.8649350649350649"
   ]
  },
  {
   "cell_type": "code",
   "execution_count": 45,
   "metadata": {},
   "outputs": [],
   "source": [
    "torch.save(model, \"./Pretrained/distilbertEpoch10Tasa2e-5\")"
   ]
  },
  {
   "cell_type": "code",
   "execution_count": 50,
   "metadata": {},
   "outputs": [
    {
     "name": "stdout",
     "output_type": "stream",
     "text": [
      "28\n"
     ]
    }
   ],
   "source": []
  },
  {
   "cell_type": "markdown",
   "metadata": {},
   "source": [
    "## Probando otros modelos\n",
    "#### Bert-Base"
   ]
  },
  {
   "cell_type": "code",
   "execution_count": 25,
   "metadata": {},
   "outputs": [
    {
     "data": {
      "application/vnd.jupyter.widget-view+json": {
       "model_id": "a91b1090fcc94c9690b5b1abe6e00eab",
       "version_major": 2,
       "version_minor": 0
      },
      "text/plain": [
       "Map:   0%|          | 0/10072 [00:00<?, ? examples/s]"
      ]
     },
     "metadata": {},
     "output_type": "display_data"
    },
    {
     "data": {
      "application/vnd.jupyter.widget-view+json": {
       "model_id": "1df22e70bd5d4e7fb4347b3673c55f68",
       "version_major": 2,
       "version_minor": 0
      },
      "text/plain": [
       "Map:   0%|          | 0/1777 [00:00<?, ? examples/s]"
      ]
     },
     "metadata": {},
     "output_type": "display_data"
    },
    {
     "data": {
      "application/vnd.jupyter.widget-view+json": {
       "model_id": "8b341b84e5204763b1e937f315294aac",
       "version_major": 2,
       "version_minor": 0
      },
      "text/plain": [
       "Map:   0%|          | 0/1540 [00:00<?, ? examples/s]"
      ]
     },
     "metadata": {},
     "output_type": "display_data"
    }
   ],
   "source": [
    "model_ckpt='bert-base-uncased'\n",
    "tokenizer = AutoTokenizer.from_pretrained(model_ckpt)\n",
    "def preprocess_function(examples):\n",
    "    return tokenizer(examples[\"text\"],truncation=True, max_length = 512)\n",
    "tokenized_train = train_dataset.map(preprocess_function, batched=True)\n",
    "tokenized_valid = valid_dataset.map(preprocess_function, batched=True)\n",
    "tokenized_test = test_dataset.map(preprocess_function, batched=True)\n",
    "tokenized_train = tokenized_train.remove_columns([\"text\"])\n",
    "tokenized_valid = tokenized_valid.remove_columns([\"text\"])\n",
    "tokenized_test = tokenized_test.remove_columns([\"text\"])\n",
    "\n",
    "tokenized_train.set_format(\"torch\")\n",
    "tokenized_valid.set_format(\"torch\")\n",
    "tokenized_test.set_format(\"torch\")\n",
    "data_collator = DataCollatorWithPadding(tokenizer=tokenizer)\n",
    "train_dataloader = DataLoader(tokenized_train, batch_size=32, shuffle=True, collate_fn=data_collator)\n",
    "valid_dataloader = DataLoader(tokenized_valid, batch_size=64, shuffle=False, collate_fn=data_collator)\n",
    "test_dataloader = DataLoader(tokenized_test, batch_size=64, shuffle=False, collate_fn=data_collator)\n"
   ]
  },
  {
   "cell_type": "code",
   "execution_count": 32,
   "metadata": {},
   "outputs": [
    {
     "name": "stderr",
     "output_type": "stream",
     "text": [
      "Some weights of BertForSequenceClassification were not initialized from the model checkpoint at bert-base-uncased and are newly initialized: ['classifier.weight', 'classifier.bias']\n",
      "You should probably TRAIN this model on a down-stream task to be able to use it for predictions and inference.\n"
     ]
    },
    {
     "data": {
      "application/vnd.jupyter.widget-view+json": {
       "model_id": "3973019192784476be9f6b5e5ef43f30",
       "version_major": 2,
       "version_minor": 0
      },
      "text/plain": [
       "  0%|          | 0/3150 [00:00<?, ?it/s]"
      ]
     },
     "metadata": {},
     "output_type": "display_data"
    },
    {
     "name": "stdout",
     "output_type": "stream",
     "text": [
      "Epoch 1, Iteration 50, Training Loss: 0.6467, Validation Loss: 1.7905\n",
      "Epoch 1, Iteration 100, Training Loss: 0.3588, Validation Loss: 1.0963\n",
      "Epoch 1, Iteration 150, Training Loss: 0.2634, Validation Loss: 0.7949\n",
      "Epoch 1, Iteration 200, Training Loss: 0.1973, Validation Loss: 0.6525\n",
      "Epoch 1, Iteration 250, Training Loss: 0.1734, Validation Loss: 0.5698\n",
      "Epoch 1, Iteration 300, Training Loss: 0.1610, Validation Loss: 0.5386\n",
      "Epoch 2, Iteration 50, Training Loss: 0.1067, Validation Loss: 0.4091\n",
      "Epoch 2, Iteration 100, Training Loss: 0.1019, Validation Loss: 0.3658\n",
      "Epoch 2, Iteration 150, Training Loss: 0.0914, Validation Loss: 0.3749\n",
      "Epoch 2, Iteration 200, Training Loss: 0.0893, Validation Loss: 0.2946\n",
      "Epoch 2, Iteration 250, Training Loss: 0.0859, Validation Loss: 0.2556\n",
      "Epoch 2, Iteration 300, Training Loss: 0.0890, Validation Loss: 0.2552\n",
      "Epoch 3, Iteration 50, Training Loss: 0.0602, Validation Loss: 0.2074\n",
      "Epoch 3, Iteration 100, Training Loss: 0.0486, Validation Loss: 0.2043\n",
      "Epoch 3, Iteration 150, Training Loss: 0.0379, Validation Loss: 0.1846\n",
      "Epoch 3, Iteration 200, Training Loss: 0.0368, Validation Loss: 0.1748\n",
      "Epoch 3, Iteration 250, Training Loss: 0.0333, Validation Loss: 0.1798\n",
      "Epoch 3, Iteration 300, Training Loss: 0.0413, Validation Loss: 0.1526\n",
      "Epoch 4, Iteration 50, Training Loss: 0.0293, Validation Loss: 0.1413\n",
      "Epoch 4, Iteration 100, Training Loss: 0.0204, Validation Loss: 0.1450\n",
      "Epoch 4, Iteration 150, Training Loss: 0.0169, Validation Loss: 0.1338\n",
      "Epoch 4, Iteration 200, Training Loss: 0.0178, Validation Loss: 0.1308\n",
      "Epoch 4, Iteration 250, Training Loss: 0.0160, Validation Loss: 0.1226\n",
      "Epoch 4, Iteration 300, Training Loss: 0.0137, Validation Loss: 0.1200\n",
      "Epoch 5, Iteration 50, Training Loss: 0.0118, Validation Loss: 0.1125\n",
      "Epoch 5, Iteration 100, Training Loss: 0.0070, Validation Loss: 0.1109\n",
      "Epoch 5, Iteration 150, Training Loss: 0.0095, Validation Loss: 0.1142\n",
      "Epoch 5, Iteration 200, Training Loss: 0.0091, Validation Loss: 0.1083\n",
      "Epoch 5, Iteration 250, Training Loss: 0.0074, Validation Loss: 0.1134\n",
      "Epoch 5, Iteration 300, Training Loss: 0.0081, Validation Loss: 0.1072\n",
      "Epoch 6, Iteration 50, Training Loss: 0.0067, Validation Loss: 0.1084\n",
      "Epoch 6, Iteration 100, Training Loss: 0.0036, Validation Loss: 0.1155\n",
      "Epoch 6, Iteration 150, Training Loss: 0.0029, Validation Loss: 0.1094\n",
      "Epoch 6, Iteration 200, Training Loss: 0.0038, Validation Loss: 0.1065\n",
      "Epoch 6, Iteration 250, Training Loss: 0.0039, Validation Loss: 0.1070\n",
      "Epoch 6, Iteration 300, Training Loss: 0.0045, Validation Loss: 0.1071\n",
      "Epoch 7, Iteration 50, Training Loss: 0.0037, Validation Loss: 0.1060\n",
      "Epoch 7, Iteration 100, Training Loss: 0.0028, Validation Loss: 0.0988\n",
      "Epoch 7, Iteration 150, Training Loss: 0.0037, Validation Loss: 0.0953\n",
      "Epoch 7, Iteration 200, Training Loss: 0.0021, Validation Loss: 0.0947\n",
      "Epoch 7, Iteration 250, Training Loss: 0.0019, Validation Loss: 0.0948\n",
      "Epoch 7, Iteration 300, Training Loss: 0.0023, Validation Loss: 0.0959\n",
      "Epoch 8, Iteration 50, Training Loss: 0.0028, Validation Loss: 0.0997\n",
      "Epoch 8, Iteration 100, Training Loss: 0.0020, Validation Loss: 0.0989\n",
      "Epoch 8, Iteration 150, Training Loss: 0.0025, Validation Loss: 0.0986\n",
      "Epoch 8, Iteration 200, Training Loss: 0.0022, Validation Loss: 0.0977\n",
      "Epoch 8, Iteration 250, Training Loss: 0.0017, Validation Loss: 0.0966\n",
      "Epoch 8, Iteration 300, Training Loss: 0.0013, Validation Loss: 0.0968\n",
      "Epoch 9, Iteration 50, Training Loss: 0.0026, Validation Loss: 0.0989\n",
      "Epoch 9, Iteration 100, Training Loss: 0.0016, Validation Loss: 0.0994\n",
      "Epoch 9, Iteration 150, Training Loss: 0.0013, Validation Loss: 0.0995\n",
      "Epoch 9, Iteration 200, Training Loss: 0.0015, Validation Loss: 0.0994\n",
      "Epoch 9, Iteration 250, Training Loss: 0.0015, Validation Loss: 0.0994\n",
      "Epoch 9, Iteration 300, Training Loss: 0.0014, Validation Loss: 0.0992\n",
      "Epoch 10, Iteration 50, Training Loss: 0.0023, Validation Loss: 0.0992\n",
      "Epoch 10, Iteration 100, Training Loss: 0.0011, Validation Loss: 0.0994\n",
      "Epoch 10, Iteration 150, Training Loss: 0.0014, Validation Loss: 0.0994\n",
      "Epoch 10, Iteration 200, Training Loss: 0.0015, Validation Loss: 0.0990\n",
      "Epoch 10, Iteration 250, Training Loss: 0.0011, Validation Loss: 0.0990\n",
      "Epoch 10, Iteration 300, Training Loss: 0.0011, Validation Loss: 0.0990\n"
     ]
    }
   ],
   "source": [
    "\n",
    "num_labels=34\n",
    "model = AutoModelForSequenceClassification.from_pretrained(model_ckpt, num_labels=num_labels, id2label=id2label, label2id=label2id)\n",
    "optimizer = torch.optim.AdamW(model.parameters(), lr=5e-5)\n",
    "\n",
    "num_epochs = 10\n",
    "num_training_steps = num_epochs * len(train_dataloader)\n",
    "lr_scheduler = get_scheduler(\n",
    "    \"linear\",\n",
    "    optimizer=optimizer,\n",
    "    num_warmup_steps=0,\n",
    "    num_training_steps=num_training_steps\n",
    ")\n",
    "\n",
    "model.to(device)\n",
    "\n",
    "    \n",
    "progress_bar = tqdm(range(num_training_steps))\n",
    "train_losses=[]\n",
    "valid_losses=[]\n",
    "\n",
    "for epoch in range(num_epochs):    \n",
    "    train_loss=0.0\n",
    "    model.train()\n",
    "    if epoch==3:\n",
    "        torch.save(model, \"./Pretrained/bertEntrenadoEpoch4Tasa5e-5\")     \n",
    "    for batch_num, batch in enumerate(train_dataloader):\n",
    "        batch = {k: v.to(device) for k, v in batch.items()}\n",
    "        outputs = model(**batch)\n",
    "        loss = outputs.loss\n",
    "        loss.backward()\n",
    "        optimizer.step()\n",
    "        lr_scheduler.step()\n",
    "        optimizer.zero_grad()\n",
    "        progress_bar.update(1)\n",
    "\n",
    "        train_loss += loss.item()\n",
    "\n",
    "        if (batch_num + 1) % 50 == 0:\n",
    "            model.eval()  # Establecer el modelo en modo de evaluación\n",
    "            val_loss = 0.0\n",
    "\n",
    "            with torch.no_grad():\n",
    "                for val_batch in valid_dataloader:\n",
    "                    val_batch = {k: v.to(device) for k, v in val_batch.items()}\n",
    "                    val_outputs = model(**val_batch)\n",
    "                    val_loss += val_outputs.loss.item()\n",
    "\n",
    "            # Calcular la pérdida de validación promedio\n",
    "            avg_val_loss = val_loss / len(valid_dataloader)\n",
    "\n",
    "            # Guardar los valores de pérdida\n",
    "            train_losses.append(train_loss / 200)\n",
    "            valid_losses.append(avg_val_loss)\n",
    "\n",
    "            print(f\"Epoch {epoch + 1}, Iteration {batch_num + 1}, Training Loss: {train_loss / 200:.4f}, Validation Loss: {avg_val_loss:.4f}\")\n",
    "            train_loss=0.0\n",
    "\n",
    "torch.save(model, \"./Pretrained/bertEntrenadoEpoch10Tasa5e-5\")\n"
   ]
  },
  {
   "cell_type": "code",
   "execution_count": 33,
   "metadata": {},
   "outputs": [
    {
     "data": {
      "image/png": "[encoded data removed]",
      "text/plain": [
       "<Figure size 640x480 with 2 Axes>"
      ]
     },
     "metadata": {},
     "output_type": "display_data"
    }
   ],
   "source": [
    "\n",
    "iterations_x = np.arange(1, len(train_losses) + 1) * 50  # Crea un array de valores para cada 200 iteraciones\n",
    "\n",
    "epochs_x = np.arange(0, num_epochs)  # Crea un array de valores para las épocas\n",
    "\n",
    "fig, ax1 = plt.subplots()\n",
    "\n",
    "ax1.plot(iterations_x, train_losses, label='Training Loss', color='blue')\n",
    "ax1.plot(iterations_x, valid_losses, label='Validation Loss', color='orange')\n",
    "ax1.set_xlabel('Iterations')\n",
    "ax1.set_ylabel('Loss', color='black')\n",
    "ax1.legend(loc='upper right')\n",
    "ax1.xaxis.set_label_coords(0.15, -0.1)\n",
    "\n",
    "ax1.grid(True, linestyle='--', alpha=0.7)\n",
    "ax1.set_facecolor('#f0f0f0')\n",
    "\n",
    "# Crear un segundo eje x para las épocas\n",
    "ax2 = ax1.twiny()\n",
    "ax2.set_xticks(epochs_x)\n",
    "ax2.set_xlabel('Epochs')\n",
    "ax2.set_ylabel('Loss', color='black') \n",
    "ax2.xaxis.set_label_coords(0.15, 1.1)\n",
    "\n",
    "title = ax1.set_title(\"Training loop α=5e-5\")\n",
    "title.set_y(2)\n",
    "\n",
    "plt.show()\n"
   ]
  },
  {
   "cell_type": "code",
   "execution_count": 35,
   "metadata": {},
   "outputs": [
    {
     "name": "stdout",
     "output_type": "stream",
     "text": [
      "{'Accuracy': 0.814935064935065, 'F1': 0.8149350649350651, 'Precision': 0.814935064935065, 'Recall': 0.814935064935065}\n"
     ]
    }
   ],
   "source": [
    "\n",
    "model = torch.load(\"./Pretrained/bertEntrenadoEpoch4Tasa5e-5\")\n",
    "model.eval()\n",
    "\n",
    "all_preds = []\n",
    "all_labels = []\n",
    "\n",
    "with torch.no_grad():\n",
    "    for batch in test_dataloader:\n",
    "        batch = {k: v.to(device) for k, v in batch.items()}\n",
    "        outputs = model(**batch)\n",
    "        logits = outputs.logits\n",
    "        preds = logits.argmax(dim=-1).cpu().numpy()\n",
    "        labels = batch['labels'].cpu().numpy()\n",
    "\n",
    "        all_preds.extend(preds)\n",
    "        all_labels.extend(labels)\n",
    "\n",
    "metrics = compute_metrics(all_preds, all_labels)\n",
    "print(metrics)\n"
   ]
  },
  {
   "cell_type": "markdown",
   "metadata": {},
   "source": [
    "#### Roberta"
   ]
  },
  {
   "cell_type": "code",
   "execution_count": null,
   "metadata": {},
   "outputs": [],
   "source": [
    "model_ckpt='roberta-base'\n",
    "tokenizer = AutoTokenizer.from_pretrained(model_ckpt)\n",
    "def preprocess_function(examples):\n",
    "    return tokenizer(examples[\"text\"],truncation=True, max_length = 512)\n",
    "tokenized_train = train_dataset.map(preprocess_function, batched=True)\n",
    "tokenized_valid = valid_dataset.map(preprocess_function, batched=True)\n",
    "tokenized_test = test_dataset.map(preprocess_function, batched=True)\n",
    "tokenized_train = tokenized_train.remove_columns([\"text\"])\n",
    "tokenized_valid = tokenized_valid.remove_columns([\"text\"])\n",
    "tokenized_test = tokenized_test.remove_columns([\"text\"])\n",
    "\n",
    "tokenized_train.set_format(\"torch\")\n",
    "tokenized_valid.set_format(\"torch\")\n",
    "tokenized_test.set_format(\"torch\")\n",
    "data_collator = DataCollatorWithPadding(tokenizer=tokenizer)\n",
    "train_dataloader = DataLoader(tokenized_train, batch_size=8, shuffle=True, collate_fn=data_collator)\n",
    "valid_dataloader = DataLoader(tokenized_valid, batch_size=64, shuffle=False, collate_fn=data_collator)\n",
    "test_dataloader = DataLoader(tokenized_valid, batch_size=64, shuffle=False, collate_fn=data_collator)\n",
    "\n",
    "num_labels=34\n",
    "model = AutoModelForSequenceClassification.from_pretrained(model_ckpt, num_labels=num_labels, id2label=id2label, label2id=label2id)\n",
    "optimizer = torch.optim.AdamW(model.parameters(), lr=4e-4)\n",
    "\n",
    "num_epochs = 10 ##Hyperparameter\n",
    "num_training_steps = num_epochs * len(train_dataloader)\n",
    "lr_scheduler = get_scheduler(\n",
    "    \"linear\",\n",
    "    optimizer=optimizer,\n",
    "    num_warmup_steps=0,\n",
    "    num_training_steps=num_training_steps\n",
    ")\n",
    "\n",
    "model.to(device)\n",
    "\n",
    "    \n",
    "progress_bar = tqdm(range(num_training_steps))\n",
    "train_losses=[]\n",
    "valid_losses=[]\n",
    "\n",
    "for epoch in range(num_epochs):    \n",
    "    train_loss=0.0\n",
    "    model.train()\n",
    "    for batch_num, batch in enumerate(train_dataloader):\n",
    "        batch = {k: v.to(device) for k, v in batch.items()}\n",
    "        outputs = model(**batch)\n",
    "        loss = outputs.loss\n",
    "        loss.backward()\n",
    "        optimizer.step()\n",
    "        lr_scheduler.step()\n",
    "        optimizer.zero_grad()\n",
    "        progress_bar.update(1)\n",
    "\n",
    "        train_loss += loss.item()\n",
    "\n",
    "        if (batch_num + 1) % 200 == 0:\n",
    "            model.eval()  # Establecer el modelo en modo de evaluación\n",
    "            val_loss = 0.0\n",
    "\n",
    "            with torch.no_grad():\n",
    "                for val_batch in valid_dataloader:\n",
    "                    val_batch = {k: v.to(device) for k, v in val_batch.items()}\n",
    "                    val_outputs = model(**val_batch)\n",
    "                    val_loss += val_outputs.loss.item()\n",
    "\n",
    "            # Calcular la pérdida de validación promedio\n",
    "            avg_val_loss = val_loss / len(valid_dataloader)\n",
    "\n",
    "            # Guardar los valores de pérdida\n",
    "            train_losses.append(train_loss / 200)\n",
    "            valid_losses.append(avg_val_loss)\n",
    "\n",
    "            print(f\"Epoch {epoch + 1}, Iteration {batch_num + 1}, Training Loss: {train_loss / 200:.4f}, Validation Loss: {avg_val_loss:.4f}\")\n",
    "            train_loss=0.0\n",
    "\n",
    "\n",
    "iterations_x = np.arange(1, len(train_losses) + 1) * 200  # Crea un array de valores para cada 200 iteraciones\n",
    "\n",
    "epochs_x = np.arange(0, num_epochs)  # Crea un array de valores para las épocas\n",
    "\n",
    "fig, ax1 = plt.subplots()\n",
    "\n",
    "ax1.plot(iterations_x, train_losses, label='Training Loss', color='blue')\n",
    "ax1.plot(iterations_x, valid_losses, label='Validation Loss', color='orange')\n",
    "ax1.set_xlabel('Iterations')\n",
    "ax1.set_ylabel('Loss', color='black')\n",
    "ax1.legend(loc='upper right')\n",
    "ax1.xaxis.set_label_coords(0.15, -0.1)\n",
    "\n",
    "ax1.grid(True, linestyle='--', alpha=0.7)\n",
    "ax1.set_facecolor('#f0f0f0')\n",
    "\n",
    "# Crear un segundo eje x para las épocas\n",
    "ax2 = ax1.twiny()\n",
    "ax2.set_xticks(epochs_x)\n",
    "ax2.set_xlabel('Epochs')\n",
    "ax2.set_ylabel('Loss', color='black') \n",
    "ax2.xaxis.set_label_coords(0.15, 1.1)\n",
    "\n",
    "title = ax1.set_title(\"Training loop α=8e-4\")\n",
    "title.set_y(2)\n",
    "\n",
    "plt.show()\n",
    "\n",
    "\n",
    "model.eval()\n",
    "\n",
    "all_preds = []\n",
    "all_labels = []\n",
    "\n",
    "with torch.no_grad():\n",
    "    for batch in test_dataloader:\n",
    "        batch = {k: v.to(device) for k, v in batch.items()}\n",
    "        outputs = model(**batch)\n",
    "        logits = outputs.logits\n",
    "        preds = logits.argmax(dim=-1).cpu().numpy()\n",
    "        labels = batch['labels'].cpu().numpy()\n",
    "\n",
    "        all_preds.extend(preds)\n",
    "        all_labels.extend(labels)\n",
    "\n",
    "metrics = compute_metrics(all_preds, all_labels)\n",
    "print(metrics)\n",
    "\n",
    "torch.save(model, \"./Pretrained/distilbertSuperEntrenado\")"
   ]
  }
 ],
 "metadata": {
  "kernelspec": {
   "display_name": ".virtual",
   "language": "python",
   "name": "python3"
  },
  "language_info": {
   "codemirror_mode": {
    "name": "ipython",
    "version": 3
   },
   "file_extension": ".py",
   "mimetype": "text/x-python",
   "name": "python",
   "nbconvert_exporter": "python",
   "pygments_lexer": "ipython3",
   "version": "3.11.6"
  }
 },
 "nbformat": 4,
 "nbformat_minor": 2
}
