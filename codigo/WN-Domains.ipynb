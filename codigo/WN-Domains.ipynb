{
 "cells": [
  {
   "cell_type": "code",
   "execution_count": 1,
   "metadata": {},
   "outputs": [],
   "source": [
    "import pandas as pd\n",
    "from datasets import Dataset, load_metric\n",
    "from torch.utils.data import DataLoader\n",
    "from transformers import AutoModelForSequenceClassification, AutoTokenizer, DataCollatorWithPadding, get_scheduler\n",
    "import torch\n",
    "import matplotlib.pyplot as plt\n",
    "from tqdm.auto import tqdm\n",
    "import numpy as np\n",
    "from sklearn.metrics import accuracy_score, precision_recall_fscore_support\n",
    "import dill"
   ]
  },
  {
   "cell_type": "code",
   "execution_count": 2,
   "metadata": {},
   "outputs": [
    {
     "name": "stdout",
     "output_type": "stream",
     "text": [
      "cuda\n"
     ]
    }
   ],
   "source": [
    "device = 'cuda' if torch.cuda.is_available() else 'cpu'\n",
    "print(device)\n",
    "#torch.manual_seed(1)"
   ]
  },
  {
   "cell_type": "code",
   "execution_count": 3,
   "metadata": {},
   "outputs": [
    {
     "data": {
      "text/html": [
       "<div>\n",
       "<style scoped>\n",
       "    .dataframe tbody tr th:only-of-type {\n",
       "        vertical-align: middle;\n",
       "    }\n",
       "\n",
       "    .dataframe tbody tr th {\n",
       "        vertical-align: top;\n",
       "    }\n",
       "\n",
       "    .dataframe thead th {\n",
       "        text-align: right;\n",
       "    }\n",
       "</style>\n",
       "<table border=\"1\" class=\"dataframe\">\n",
       "  <thead>\n",
       "    <tr style=\"text-align: right;\">\n",
       "      <th></th>\n",
       "      <th>text</th>\n",
       "      <th>Domain</th>\n",
       "    </tr>\n",
       "  </thead>\n",
       "  <tbody>\n",
       "    <tr>\n",
       "      <th>0</th>\n",
       "      <td>the quality of being beneficial and generally ...</td>\n",
       "      <td>Philosophy and psychology</td>\n",
       "    </tr>\n",
       "    <tr>\n",
       "      <th>1</th>\n",
       "      <td>insure again by transferring to another insura...</td>\n",
       "      <td>Business, economics, and finance</td>\n",
       "    </tr>\n",
       "    <tr>\n",
       "      <th>2</th>\n",
       "      <td>foolish gibberish</td>\n",
       "      <td>Language and linguistics</td>\n",
       "    </tr>\n",
       "    <tr>\n",
       "      <th>3</th>\n",
       "      <td>the property of being a relatively small amoun...</td>\n",
       "      <td>Mathematics</td>\n",
       "    </tr>\n",
       "    <tr>\n",
       "      <th>4</th>\n",
       "      <td>an arrangement of a piece of music for perform...</td>\n",
       "      <td>Music</td>\n",
       "    </tr>\n",
       "  </tbody>\n",
       "</table>\n",
       "</div>"
      ],
      "text/plain": [
       "                                                text  \\\n",
       "0  the quality of being beneficial and generally ...   \n",
       "1  insure again by transferring to another insura...   \n",
       "2                                  foolish gibberish   \n",
       "3  the property of being a relatively small amoun...   \n",
       "4  an arrangement of a piece of music for perform...   \n",
       "\n",
       "                             Domain  \n",
       "0         Philosophy and psychology  \n",
       "1  Business, economics, and finance  \n",
       "2          Language and linguistics  \n",
       "3                       Mathematics  \n",
       "4                             Music  "
      ]
     },
     "execution_count": 3,
     "metadata": {},
     "output_type": "execute_result"
    }
   ],
   "source": [
    "df_train = pd.read_csv('./train.tsv', sep='\\t', names=['text', 'Domain'])\n",
    "df_train.head()"
   ]
  },
  {
   "cell_type": "code",
   "execution_count": 4,
   "metadata": {},
   "outputs": [
    {
     "data": {
      "text/html": [
       "<div>\n",
       "<style scoped>\n",
       "    .dataframe tbody tr th:only-of-type {\n",
       "        vertical-align: middle;\n",
       "    }\n",
       "\n",
       "    .dataframe tbody tr th {\n",
       "        vertical-align: top;\n",
       "    }\n",
       "\n",
       "    .dataframe thead th {\n",
       "        text-align: right;\n",
       "    }\n",
       "</style>\n",
       "<table border=\"1\" class=\"dataframe\">\n",
       "  <thead>\n",
       "    <tr style=\"text-align: right;\">\n",
       "      <th></th>\n",
       "      <th>text</th>\n",
       "      <th>Domain</th>\n",
       "    </tr>\n",
       "  </thead>\n",
       "  <tbody>\n",
       "    <tr>\n",
       "      <th>0</th>\n",
       "      <td>(physics) statistical law obeyed by a system o...</td>\n",
       "      <td>Physics and astronomy</td>\n",
       "    </tr>\n",
       "    <tr>\n",
       "      <th>1</th>\n",
       "      <td>(physics) the process in which incident radiat...</td>\n",
       "      <td>Physics and astronomy</td>\n",
       "    </tr>\n",
       "    <tr>\n",
       "      <th>2</th>\n",
       "      <td>(physics) the exponential return of a system t...</td>\n",
       "      <td>Physics and astronomy</td>\n",
       "    </tr>\n",
       "    <tr>\n",
       "      <th>3</th>\n",
       "      <td>(physics) a coefficient that expresses how muc...</td>\n",
       "      <td>Physics and astronomy</td>\n",
       "    </tr>\n",
       "    <tr>\n",
       "      <th>4</th>\n",
       "      <td>(physics) the point of minimum displacement in...</td>\n",
       "      <td>Physics and astronomy</td>\n",
       "    </tr>\n",
       "  </tbody>\n",
       "</table>\n",
       "</div>"
      ],
      "text/plain": [
       "                                                text                 Domain\n",
       "0  (physics) statistical law obeyed by a system o...  Physics and astronomy\n",
       "1  (physics) the process in which incident radiat...  Physics and astronomy\n",
       "2  (physics) the exponential return of a system t...  Physics and astronomy\n",
       "3  (physics) a coefficient that expresses how muc...  Physics and astronomy\n",
       "4  (physics) the point of minimum displacement in...  Physics and astronomy"
      ]
     },
     "execution_count": 4,
     "metadata": {},
     "output_type": "execute_result"
    }
   ],
   "source": [
    "df_test = pd.read_csv('./test.tsv', sep='\\t', names=['text', 'Domain'])\n",
    "df_test.head()"
   ]
  },
  {
   "cell_type": "code",
   "execution_count": 4,
   "metadata": {},
   "outputs": [],
   "source": [
    "# df_train.Domain.value_counts().plot(kind='pie', figsize=(8,8), title=\"Train partition\", ylabel='')"
   ]
  },
  {
   "cell_type": "code",
   "execution_count": 5,
   "metadata": {},
   "outputs": [],
   "source": [
    "# df_test.Domain.value_counts().plot(kind='pie', figsize=(8,8), title=\"Test partition\", ylabel='')"
   ]
  },
  {
   "cell_type": "code",
   "execution_count": 5,
   "metadata": {},
   "outputs": [
    {
     "data": {
      "text/html": [
       "<div>\n",
       "<style scoped>\n",
       "    .dataframe tbody tr th:only-of-type {\n",
       "        vertical-align: middle;\n",
       "    }\n",
       "\n",
       "    .dataframe tbody tr th {\n",
       "        vertical-align: top;\n",
       "    }\n",
       "\n",
       "    .dataframe thead th {\n",
       "        text-align: right;\n",
       "    }\n",
       "</style>\n",
       "<table border=\"1\" class=\"dataframe\">\n",
       "  <thead>\n",
       "    <tr style=\"text-align: right;\">\n",
       "      <th></th>\n",
       "      <th>text</th>\n",
       "      <th>labels</th>\n",
       "    </tr>\n",
       "  </thead>\n",
       "  <tbody>\n",
       "    <tr>\n",
       "      <th>0</th>\n",
       "      <td>the quality of being beneficial and generally ...</td>\n",
       "      <td>0</td>\n",
       "    </tr>\n",
       "    <tr>\n",
       "      <th>1</th>\n",
       "      <td>insure again by transferring to another insura...</td>\n",
       "      <td>1</td>\n",
       "    </tr>\n",
       "    <tr>\n",
       "      <th>2</th>\n",
       "      <td>foolish gibberish</td>\n",
       "      <td>2</td>\n",
       "    </tr>\n",
       "    <tr>\n",
       "      <th>3</th>\n",
       "      <td>the property of being a relatively small amoun...</td>\n",
       "      <td>3</td>\n",
       "    </tr>\n",
       "    <tr>\n",
       "      <th>4</th>\n",
       "      <td>an arrangement of a piece of music for perform...</td>\n",
       "      <td>4</td>\n",
       "    </tr>\n",
       "  </tbody>\n",
       "</table>\n",
       "</div>"
      ],
      "text/plain": [
       "                                                text  labels\n",
       "0  the quality of being beneficial and generally ...       0\n",
       "1  insure again by transferring to another insura...       1\n",
       "2                                  foolish gibberish       2\n",
       "3  the property of being a relatively small amoun...       3\n",
       "4  an arrangement of a piece of music for perform...       4"
      ]
     },
     "execution_count": 5,
     "metadata": {},
     "output_type": "execute_result"
    }
   ],
   "source": [
    "label2id = {}\n",
    "\n",
    "def encode_domain(x):\n",
    "    if x not in label2id.keys():\n",
    "        label2id[x]=len(label2id)\n",
    "    return label2id[x]\n",
    "\n",
    "df_train['labels'] = df_train['Domain'].apply(lambda x: encode_domain(x))\n",
    "assert df_train['labels'].max() == 33, \"The maximum encoded category should be 33\" #Hay 34 clases en total\n",
    "df_train = df_train.drop(columns='Domain')\n",
    "df_train.head()"
   ]
  },
  {
   "cell_type": "code",
   "execution_count": 6,
   "metadata": {},
   "outputs": [
    {
     "data": {
      "text/html": [
       "<div>\n",
       "<style scoped>\n",
       "    .dataframe tbody tr th:only-of-type {\n",
       "        vertical-align: middle;\n",
       "    }\n",
       "\n",
       "    .dataframe tbody tr th {\n",
       "        vertical-align: top;\n",
       "    }\n",
       "\n",
       "    .dataframe thead th {\n",
       "        text-align: right;\n",
       "    }\n",
       "</style>\n",
       "<table border=\"1\" class=\"dataframe\">\n",
       "  <thead>\n",
       "    <tr style=\"text-align: right;\">\n",
       "      <th></th>\n",
       "      <th>text</th>\n",
       "      <th>labels</th>\n",
       "    </tr>\n",
       "  </thead>\n",
       "  <tbody>\n",
       "    <tr>\n",
       "      <th>0</th>\n",
       "      <td>(physics) statistical law obeyed by a system o...</td>\n",
       "      <td>14</td>\n",
       "    </tr>\n",
       "    <tr>\n",
       "      <th>1</th>\n",
       "      <td>(physics) the process in which incident radiat...</td>\n",
       "      <td>14</td>\n",
       "    </tr>\n",
       "    <tr>\n",
       "      <th>2</th>\n",
       "      <td>(physics) the exponential return of a system t...</td>\n",
       "      <td>14</td>\n",
       "    </tr>\n",
       "    <tr>\n",
       "      <th>3</th>\n",
       "      <td>(physics) a coefficient that expresses how muc...</td>\n",
       "      <td>14</td>\n",
       "    </tr>\n",
       "    <tr>\n",
       "      <th>4</th>\n",
       "      <td>(physics) the point of minimum displacement in...</td>\n",
       "      <td>14</td>\n",
       "    </tr>\n",
       "  </tbody>\n",
       "</table>\n",
       "</div>"
      ],
      "text/plain": [
       "                                                text  labels\n",
       "0  (physics) statistical law obeyed by a system o...      14\n",
       "1  (physics) the process in which incident radiat...      14\n",
       "2  (physics) the exponential return of a system t...      14\n",
       "3  (physics) a coefficient that expresses how muc...      14\n",
       "4  (physics) the point of minimum displacement in...      14"
      ]
     },
     "execution_count": 6,
     "metadata": {},
     "output_type": "execute_result"
    }
   ],
   "source": [
    "df_test['labels'] = df_test['Domain'].apply(lambda x: encode_domain(x))\n",
    "assert df_test['labels'].max() == 33, \"The maximum encoded category should be 33\" #Hay 34 clases en total\n",
    "df_test = df_test.drop(columns='Domain')\n",
    "df_test.head()"
   ]
  },
  {
   "cell_type": "code",
   "execution_count": 7,
   "metadata": {},
   "outputs": [
    {
     "name": "stdout",
     "output_type": "stream",
     "text": [
      "{0: 'Philosophy and psychology', 1: 'Business, economics, and finance', 2: 'Language and linguistics', 3: 'Mathematics', 4: 'Music', 5: 'Animals', 6: 'Warfare and defense', 7: 'Literature and theatre', 8: 'Numismatics and currencies', 9: 'Religion, mysticism and mythology', 10: 'Biology', 11: 'Media', 12: 'Geography and places', 13: 'Education', 14: 'Physics and astronomy', 15: 'Health and medicine', 16: 'Heraldry, honors, and vexillology', 17: 'Engineering and technology', 18: 'Chemistry and mineralogy', 19: 'Law and crime', 20: 'Computing', 21: 'Art, architecture, and archaeology', 22: 'Food and drink', 23: 'Textile and clothing', 24: 'Sport and recreation', 25: 'Transport and travel', 26: 'Geology and geophysics', 27: 'Farming', 28: 'Politics and government', 29: 'Meteorology', 30: 'Royalty and nobility', 31: 'Culture and society', 32: 'Games and video games', 33: 'History'}\n"
     ]
    }
   ],
   "source": [
    "id2label = {index: label for label, index in label2id.items()}\n",
    "print(id2label)"
   ]
  },
  {
   "cell_type": "code",
   "execution_count": 10,
   "metadata": {},
   "outputs": [
    {
     "data": {
      "image/png": "[encoded data removed]",
      "text/plain": [
       "<Figure size 640x480 with 1 Axes>"
      ]
     },
     "metadata": {},
     "output_type": "display_data"
    }
   ],
   "source": [
    "longitudes = df_train['text'].apply(len)\n",
    "\n",
    "# Crear el histograma usando el método plot de pandas\n",
    "longitudes.plot(kind='hist', bins=30, color='skyblue', edgecolor='black')\n",
    "\n",
    "# Configurar el título y etiquetas de los ejes\n",
    "plt.title('Distribución de la longitud de las glosas')\n",
    "plt.xlabel('Longitud de la glosa')\n",
    "plt.ylabel('Frecuencia')\n",
    "\n",
    "# Mostrar el histograma\n",
    "plt.show()"
   ]
  },
  {
   "cell_type": "markdown",
   "metadata": {},
   "source": [
    "Vamos a crear la partición de validación y ya podemos crear los tres Datasets"
   ]
  },
  {
   "cell_type": "code",
   "execution_count": 11,
   "metadata": {},
   "outputs": [],
   "source": [
    "train_size = 0.85\n",
    "train=df_train.sample(frac=train_size,random_state=200).reset_index(drop=True)\n",
    "valid=df_train.drop(train.index).reset_index(drop=True)\n",
    "train_dataset = Dataset.from_pandas(train)\n",
    "valid_dataset = Dataset.from_pandas(valid)\n",
    "test_dataset = Dataset.from_pandas(df_test)"
   ]
  },
  {
   "cell_type": "markdown",
   "metadata": {},
   "source": [
    "## Búsqueda de hiperparametros"
   ]
  },
  {
   "cell_type": "code",
   "execution_count": 12,
   "metadata": {},
   "outputs": [],
   "source": [
    "model_ckpt='distilbert-base-uncased'\n",
    "tokenizer = AutoTokenizer.from_pretrained(model_ckpt)"
   ]
  },
  {
   "cell_type": "code",
   "execution_count": 14,
   "metadata": {},
   "outputs": [],
   "source": [
    "def preprocess_function(examples):\n",
    "    return tokenizer(examples[\"text\"],truncation=True, max_length = 512)"
   ]
  },
  {
   "cell_type": "code",
   "execution_count": 13,
   "metadata": {},
   "outputs": [
    {
     "data": {
      "application/vnd.jupyter.widget-view+json": {
       "model_id": "b4fc1014680e4acc8cbbc7a20f0a9b25",
       "version_major": 2,
       "version_minor": 0
      },
      "text/plain": [
       "Map:   0%|          | 0/10072 [00:00<?, ? examples/s]"
      ]
     },
     "metadata": {},
     "output_type": "display_data"
    },
    {
     "data": {
      "application/vnd.jupyter.widget-view+json": {
       "model_id": "8f7e35041ab4498cb7322efb21d1a520",
       "version_major": 2,
       "version_minor": 0
      },
      "text/plain": [
       "Map:   0%|          | 0/1777 [00:00<?, ? examples/s]"
      ]
     },
     "metadata": {},
     "output_type": "display_data"
    },
    {
     "data": {
      "application/vnd.jupyter.widget-view+json": {
       "model_id": "2d3d716965054144b6b57d3832263fde",
       "version_major": 2,
       "version_minor": 0
      },
      "text/plain": [
       "Map:   0%|          | 0/1540 [00:00<?, ? examples/s]"
      ]
     },
     "metadata": {},
     "output_type": "display_data"
    }
   ],
   "source": [
    "tokenized_train = train_dataset.map(preprocess_function, batched=True)\n",
    "tokenized_valid = valid_dataset.map(preprocess_function, batched=True)\n",
    "tokenized_test = test_dataset.map(preprocess_function, batched=True)\n",
    "tokenized_train = tokenized_train.remove_columns([\"text\"])\n",
    "tokenized_valid = tokenized_valid.remove_columns([\"text\"])\n",
    "tokenized_test = tokenized_test.remove_columns([\"text\"])\n",
    "\n",
    "tokenized_train.set_format(\"torch\")\n",
    "tokenized_valid.set_format(\"torch\")\n",
    "tokenized_test.set_format(\"torch\")\n",
    "data_collator = DataCollatorWithPadding(tokenizer=tokenizer)\n",
    "train_dataloader = DataLoader(tokenized_train, batch_size=32, shuffle=True, collate_fn=data_collator)\n",
    "valid_dataloader = DataLoader(tokenized_valid, batch_size=64, shuffle=False, collate_fn=data_collator)\n",
    "test_dataloader = DataLoader(tokenized_test, batch_size=64, shuffle=False, collate_fn=data_collator)"
   ]
  },
  {
   "cell_type": "code",
   "execution_count": 47,
   "metadata": {},
   "outputs": [
    {
     "name": "stderr",
     "output_type": "stream",
     "text": [
      "Some weights of DistilBertForSequenceClassification were not initialized from the model checkpoint at distilbert-base-uncased and are newly initialized: ['classifier.bias', 'classifier.weight', 'pre_classifier.bias', 'pre_classifier.weight']\n",
      "You should probably TRAIN this model on a down-stream task to be able to use it for predictions and inference.\n"
     ]
    },
    {
     "data": {
      "text/plain": [
       "DistilBertForSequenceClassification(\n",
       "  (distilbert): DistilBertModel(\n",
       "    (embeddings): Embeddings(\n",
       "      (word_embeddings): Embedding(30522, 768, padding_idx=0)\n",
       "      (position_embeddings): Embedding(512, 768)\n",
       "      (LayerNorm): LayerNorm((768,), eps=1e-12, elementwise_affine=True)\n",
       "      (dropout): Dropout(p=0.1, inplace=False)\n",
       "    )\n",
       "    (transformer): Transformer(\n",
       "      (layer): ModuleList(\n",
       "        (0-5): 6 x TransformerBlock(\n",
       "          (attention): MultiHeadSelfAttention(\n",
       "            (dropout): Dropout(p=0.1, inplace=False)\n",
       "            (q_lin): Linear(in_features=768, out_features=768, bias=True)\n",
       "            (k_lin): Linear(in_features=768, out_features=768, bias=True)\n",
       "            (v_lin): Linear(in_features=768, out_features=768, bias=True)\n",
       "            (out_lin): Linear(in_features=768, out_features=768, bias=True)\n",
       "          )\n",
       "          (sa_layer_norm): LayerNorm((768,), eps=1e-12, elementwise_affine=True)\n",
       "          (ffn): FFN(\n",
       "            (dropout): Dropout(p=0.1, inplace=False)\n",
       "            (lin1): Linear(in_features=768, out_features=3072, bias=True)\n",
       "            (lin2): Linear(in_features=3072, out_features=768, bias=True)\n",
       "            (activation): GELUActivation()\n",
       "          )\n",
       "          (output_layer_norm): LayerNorm((768,), eps=1e-12, elementwise_affine=True)\n",
       "        )\n",
       "      )\n",
       "    )\n",
       "  )\n",
       "  (pre_classifier): Linear(in_features=768, out_features=768, bias=True)\n",
       "  (classifier): Linear(in_features=768, out_features=34, bias=True)\n",
       "  (dropout): Dropout(p=0.2, inplace=False)\n",
       ")"
      ]
     },
     "execution_count": 47,
     "metadata": {},
     "output_type": "execute_result"
    }
   ],
   "source": [
    "num_labels=34\n",
    "model = AutoModelForSequenceClassification.from_pretrained(model_ckpt, num_labels=num_labels, id2label=id2label, label2id=label2id)\n",
    "optimizer = torch.optim.AdamW(model.parameters(), lr=5e-5)\n",
    "\n",
    "num_epochs = 6\n",
    "num_training_steps = num_epochs * len(train_dataloader)\n",
    "lr_scheduler = get_scheduler(\n",
    "    \"linear\",\n",
    "    optimizer=optimizer,\n",
    "    num_warmup_steps=0,\n",
    "    num_training_steps=num_training_steps\n",
    ")\n",
    "model.to(device)"
   ]
  },
  {
   "cell_type": "code",
   "execution_count": 12,
   "metadata": {},
   "outputs": [
    {
     "name": "stderr",
     "output_type": "stream",
     "text": [
      "/tmp/ipykernel_79063/2588679507.py:1: FutureWarning: load_metric is deprecated and will be removed in the next major version of datasets. Use 'evaluate.load' instead, from the new library 🤗 Evaluate: https://huggingface.co/docs/evaluate\n",
      "  metric = load_metric(\"accuracy\")\n"
     ]
    }
   ],
   "source": [
    "metric = load_metric(\"accuracy\")"
   ]
  },
  {
   "cell_type": "code",
   "execution_count": 48,
   "metadata": {},
   "outputs": [
    {
     "data": {
      "application/vnd.jupyter.widget-view+json": {
       "model_id": "ef4bbdfc1dba4e9a941e07691edb0a95",
       "version_major": 2,
       "version_minor": 0
      },
      "text/plain": [
       "  0%|          | 0/1890 [00:00<?, ?it/s]"
      ]
     },
     "metadata": {},
     "output_type": "display_data"
    },
    {
     "name": "stdout",
     "output_type": "stream",
     "text": [
      "Epoch 1, Iteration 50, Training Loss: 0.6644, Validation Loss: 1.9459, Validation Accuracy: 0.6089\n",
      "Epoch 1, Iteration 100, Training Loss: 0.3834, Validation Loss: 1.1575, Validation Accuracy: 0.7580\n",
      "Epoch 1, Iteration 150, Training Loss: 0.2491, Validation Loss: 0.8478, Validation Accuracy: 0.8120\n",
      "Epoch 1, Iteration 200, Training Loss: 0.2133, Validation Loss: 0.6764, Validation Accuracy: 0.8514\n",
      "Epoch 1, Iteration 250, Training Loss: 0.1822, Validation Loss: 0.5822, Validation Accuracy: 0.8633\n",
      "Epoch 1, Iteration 300, Training Loss: 0.1715, Validation Loss: 0.5156, Validation Accuracy: 0.8779\n",
      "Epoch 2, Iteration 50, Training Loss: 0.1180, Validation Loss: 0.4292, Validation Accuracy: 0.8959\n",
      "Epoch 2, Iteration 100, Training Loss: 0.0933, Validation Loss: 0.3751, Validation Accuracy: 0.9077\n",
      "Epoch 2, Iteration 150, Training Loss: 0.0959, Validation Loss: 0.3721, Validation Accuracy: 0.9105\n",
      "Epoch 2, Iteration 200, Training Loss: 0.0926, Validation Loss: 0.3130, Validation Accuracy: 0.9291\n",
      "Epoch 2, Iteration 250, Training Loss: 0.0926, Validation Loss: 0.3136, Validation Accuracy: 0.9274\n",
      "Epoch 2, Iteration 300, Training Loss: 0.0797, Validation Loss: 0.2600, Validation Accuracy: 0.9415\n",
      "Epoch 3, Iteration 50, Training Loss: 0.0520, Validation Loss: 0.2194, Validation Accuracy: 0.9482\n",
      "Epoch 3, Iteration 100, Training Loss: 0.0461, Validation Loss: 0.2140, Validation Accuracy: 0.9499\n",
      "Epoch 3, Iteration 150, Training Loss: 0.0420, Validation Loss: 0.2193, Validation Accuracy: 0.9533\n",
      "Epoch 3, Iteration 200, Training Loss: 0.0368, Validation Loss: 0.1902, Validation Accuracy: 0.9539\n",
      "Epoch 3, Iteration 250, Training Loss: 0.0442, Validation Loss: 0.1829, Validation Accuracy: 0.9589\n",
      "Epoch 3, Iteration 300, Training Loss: 0.0427, Validation Loss: 0.1663, Validation Accuracy: 0.9595\n",
      "Epoch 4, Iteration 50, Training Loss: 0.0284, Validation Loss: 0.1530, Validation Accuracy: 0.9623\n",
      "Epoch 4, Iteration 100, Training Loss: 0.0224, Validation Loss: 0.1471, Validation Accuracy: 0.9662\n",
      "Epoch 4, Iteration 150, Training Loss: 0.0204, Validation Loss: 0.1437, Validation Accuracy: 0.9629\n",
      "Epoch 4, Iteration 200, Training Loss: 0.0185, Validation Loss: 0.1359, Validation Accuracy: 0.9651\n",
      "Epoch 4, Iteration 250, Training Loss: 0.0191, Validation Loss: 0.1304, Validation Accuracy: 0.9685\n",
      "Epoch 4, Iteration 300, Training Loss: 0.0179, Validation Loss: 0.1270, Validation Accuracy: 0.9696\n",
      "Epoch 5, Iteration 50, Training Loss: 0.0169, Validation Loss: 0.1193, Validation Accuracy: 0.9696\n",
      "Epoch 5, Iteration 100, Training Loss: 0.0092, Validation Loss: 0.1183, Validation Accuracy: 0.9707\n",
      "Epoch 5, Iteration 150, Training Loss: 0.0095, Validation Loss: 0.1122, Validation Accuracy: 0.9752\n",
      "Epoch 5, Iteration 200, Training Loss: 0.0104, Validation Loss: 0.1095, Validation Accuracy: 0.9747\n",
      "Epoch 5, Iteration 250, Training Loss: 0.0118, Validation Loss: 0.1101, Validation Accuracy: 0.9736\n",
      "Epoch 5, Iteration 300, Training Loss: 0.0088, Validation Loss: 0.1087, Validation Accuracy: 0.9747\n",
      "Epoch 6, Iteration 50, Training Loss: 0.0115, Validation Loss: 0.1110, Validation Accuracy: 0.9719\n",
      "Epoch 6, Iteration 100, Training Loss: 0.0062, Validation Loss: 0.1096, Validation Accuracy: 0.9736\n",
      "Epoch 6, Iteration 150, Training Loss: 0.0072, Validation Loss: 0.1096, Validation Accuracy: 0.9741\n",
      "Epoch 6, Iteration 200, Training Loss: 0.0059, Validation Loss: 0.1078, Validation Accuracy: 0.9747\n",
      "Epoch 6, Iteration 250, Training Loss: 0.0054, Validation Loss: 0.1070, Validation Accuracy: 0.9752\n",
      "Epoch 6, Iteration 300, Training Loss: 0.0058, Validation Loss: 0.1066, Validation Accuracy: 0.9752\n"
     ]
    }
   ],
   "source": [
    "\n",
    "    \n",
    "progress_bar = tqdm(range(num_training_steps))\n",
    "train_losses=[]\n",
    "valid_losses=[]\n",
    "\n",
    "for epoch in range(num_epochs):    \n",
    "    train_loss=0.0\n",
    "    model.train()\n",
    "    if epoch ==4:\n",
    "        torch.save(model, \"./Pretrained/distilbertEpoch4Tasa5e-5\")\n",
    "    for batch_num, batch in enumerate(train_dataloader):\n",
    "        batch = {k: v.to(device) for k, v in batch.items()}\n",
    "        outputs = model(**batch)\n",
    "        loss = outputs.loss\n",
    "        loss.backward()\n",
    "        optimizer.step()\n",
    "        lr_scheduler.step()\n",
    "        optimizer.zero_grad()\n",
    "        progress_bar.update(1)\n",
    "\n",
    "        train_loss += loss.item()\n",
    "\n",
    "        if (batch_num + 1) % 50 == 0:\n",
    "            model.eval()  # Establecer el modelo en modo de evaluación\n",
    "            val_loss = 0.0\n",
    "\n",
    "            with torch.no_grad():\n",
    "                for val_batch in valid_dataloader:\n",
    "                    val_batch = {k: v.to(device) for k, v in val_batch.items()}\n",
    "                    val_outputs = model(**val_batch)\n",
    "                    val_loss += val_outputs.loss.item()\n",
    "                    logits = val_outputs.logits\n",
    "                    predictions = torch.argmax(logits, dim=-1)\n",
    "                    metric.add_batch(predictions=predictions, references=val_batch[\"labels\"])\n",
    "\n",
    "                val_acc = metric.compute()['accuracy']\n",
    "\n",
    "\n",
    "            # Calcular la pérdida de validación promedio\n",
    "            avg_val_loss = val_loss / len(valid_dataloader)\n",
    "\n",
    "            # Guardar los valores de pérdida\n",
    "            train_losses.append(train_loss / 50)\n",
    "            valid_losses.append(avg_val_loss)\n",
    "\n",
    "            print(f\"Epoch {epoch + 1}, Iteration {batch_num + 1}, Training Loss: {train_loss / 50:.4f}, Validation Loss: {avg_val_loss:.4f}, Validation Accuracy: {val_acc:.4f}\")\n",
    "            train_loss=0.0\n",
    "\n"
   ]
  },
  {
   "cell_type": "code",
   "execution_count": 22,
   "metadata": {},
   "outputs": [
    {
     "data": {
      "image/png": "[encoded data removed]",
      "text/plain": [
       "<Figure size 640x480 with 2 Axes>"
      ]
     },
     "metadata": {},
     "output_type": "display_data"
    }
   ],
   "source": [
    "iterations_x = np.arange(1, len(train_losses) + 1) * 50  # Crea un array de valores para cada 200 iteraciones\n",
    "\n",
    "epochs_x = np.arange(0, num_epochs)  # Crea un array de valores para las épocas\n",
    "\n",
    "fig, ax1 = plt.subplots()\n",
    "\n",
    "ax1.plot(iterations_x, train_losses, label='Training Loss', color='blue')\n",
    "ax1.plot(iterations_x, valid_losses, label='Validation Loss', color='orange')\n",
    "ax1.set_xlabel('Iterations')\n",
    "ax1.set_ylabel('Loss', color='black')\n",
    "ax1.legend(loc='upper right')\n",
    "ax1.xaxis.set_label_coords(0.15, -0.1)\n",
    "\n",
    "ax1.grid(True, linestyle='--', alpha=0.7)\n",
    "ax1.set_facecolor('#f0f0f0')\n",
    "\n",
    "# Crear un segundo eje x para las épocas\n",
    "ax2 = ax1.twiny()\n",
    "ax2.set_xticks(epochs_x)\n",
    "ax2.set_xlabel('Epochs')\n",
    "ax2.set_ylabel('Loss', color='black') \n",
    "ax2.xaxis.set_label_coords(0.15, 1.1)\n",
    "title = ax1.set_title(\"Training loop train_batch_size=32\")\n",
    "title.set_y(2)\n",
    "\n",
    "\n",
    "plt.show()"
   ]
  },
  {
   "cell_type": "code",
   "execution_count": 20,
   "metadata": {},
   "outputs": [],
   "source": [
    "\n",
    "def compute_metrics(preds, labels):\n",
    "\n",
    "    # Obtain predicted class labels by finding the column index with the maximum probability\n",
    "\n",
    "    # Compute macro precision, recall, and F1 score using sklearn's precision_recall_fscore_support function\n",
    "    precision, recall, f1, _ = precision_recall_fscore_support(labels, preds, average='weighted')\n",
    "\n",
    "    # Calculate the accuracy score using sklearn's accuracy_score function\n",
    "    acc = accuracy_score(labels, preds)\n",
    "\n",
    "    # Return the computed metrics as a dictionary\n",
    "\n",
    "    return {\n",
    "    'Accuracy': acc,\n",
    "    'F1': f1,\n",
    "    'Precision': precision,\n",
    "    'Recall': recall\n",
    "    }\n"
   ]
  },
  {
   "cell_type": "code",
   "execution_count": 26,
   "metadata": {},
   "outputs": [
    {
     "name": "stdout",
     "output_type": "stream",
     "text": [
      "{'Accuracy': 0.8792207792207792, 'F1': 0.8764749040816545, 'Precision': 0.8909582435735336, 'Recall': 0.8792207792207792}\n"
     ]
    },
    {
     "name": "stderr",
     "output_type": "stream",
     "text": [
      "/home/barama/1Cuatrimestre/PLN/Proyecto/codigo/.virtual/lib/python3.11/site-packages/sklearn/metrics/_classification.py:1471: UndefinedMetricWarning: Precision and F-score are ill-defined and being set to 0.0 in labels with no predicted samples. Use `zero_division` parameter to control this behavior.\n",
      "  _warn_prf(average, modifier, msg_start, len(result))\n",
      "/home/barama/1Cuatrimestre/PLN/Proyecto/codigo/.virtual/lib/python3.11/site-packages/sklearn/metrics/_classification.py:1471: UndefinedMetricWarning: Recall and F-score are ill-defined and being set to 0.0 in labels with no true samples. Use `zero_division` parameter to control this behavior.\n",
      "  _warn_prf(average, modifier, msg_start, len(result))\n"
     ]
    }
   ],
   "source": [
    "model = torch.load(\"./Pretrained/distilbertEpoch6Tasa5e-5WarmCos\")\n",
    "model.eval()\n",
    "\n",
    "all_preds = []\n",
    "all_labels = []\n",
    "\n",
    "with torch.no_grad():\n",
    "    for batch in test_dataloader:\n",
    "        batch = {k: v.to(device) for k, v in batch.items()}\n",
    "        outputs = model(**batch)\n",
    "        logits = outputs.logits\n",
    "        preds = logits.argmax(dim=-1).cpu().numpy()\n",
    "        labels = batch['labels'].cpu().numpy()\n",
    "\n",
    "        all_preds.extend(preds)\n",
    "        all_labels.extend(labels)\n",
    "\n",
    "metrics = compute_metrics(all_preds, all_labels)\n",
    "\n",
    "print(metrics)"
   ]
  },
  {
   "cell_type": "markdown",
   "metadata": {},
   "source": []
  },
  {
   "cell_type": "code",
   "execution_count": 27,
   "metadata": {},
   "outputs": [],
   "source": [
    "torch.save(model, \"./Pretrained/distilbertEpoch6Tasa8e-5WarmCos\")"
   ]
  },
  {
   "cell_type": "markdown",
   "metadata": {},
   "source": [
    "##### TrainFull"
   ]
  },
  {
   "cell_type": "code",
   "execution_count": 27,
   "metadata": {},
   "outputs": [
    {
     "data": {
      "application/vnd.jupyter.widget-view+json": {
       "model_id": "78c3b1d53ede4e3ba8d9184671e98726",
       "version_major": 2,
       "version_minor": 0
      },
      "text/plain": [
       "Map:   0%|          | 0/11849 [00:00<?, ? examples/s]"
      ]
     },
     "metadata": {},
     "output_type": "display_data"
    }
   ],
   "source": [
    "trainfull_dataset = Dataset.from_pandas(df_train)\n",
    "tokenizedfull_train = trainfull_dataset.map(preprocess_function, batched=True)\n",
    "tokenizedfull_train = tokenizedfull_train.remove_columns([\"text\"])\n",
    "\n",
    "tokenizedfull_train.set_format(\"torch\")\n",
    "trainfull_dataloader = DataLoader(tokenizedfull_train, batch_size=32, shuffle=True, collate_fn=data_collator)"
   ]
  },
  {
   "cell_type": "code",
   "execution_count": 28,
   "metadata": {},
   "outputs": [
    {
     "name": "stderr",
     "output_type": "stream",
     "text": [
      "Some weights of DistilBertForSequenceClassification were not initialized from the model checkpoint at distilbert-base-uncased and are newly initialized: ['pre_classifier.bias', 'pre_classifier.weight', 'classifier.bias', 'classifier.weight']\n",
      "You should probably TRAIN this model on a down-stream task to be able to use it for predictions and inference.\n"
     ]
    },
    {
     "data": {
      "text/plain": [
       "DistilBertForSequenceClassification(\n",
       "  (distilbert): DistilBertModel(\n",
       "    (embeddings): Embeddings(\n",
       "      (word_embeddings): Embedding(30522, 768, padding_idx=0)\n",
       "      (position_embeddings): Embedding(512, 768)\n",
       "      (LayerNorm): LayerNorm((768,), eps=1e-12, elementwise_affine=True)\n",
       "      (dropout): Dropout(p=0.1, inplace=False)\n",
       "    )\n",
       "    (transformer): Transformer(\n",
       "      (layer): ModuleList(\n",
       "        (0-5): 6 x TransformerBlock(\n",
       "          (attention): MultiHeadSelfAttention(\n",
       "            (dropout): Dropout(p=0.1, inplace=False)\n",
       "            (q_lin): Linear(in_features=768, out_features=768, bias=True)\n",
       "            (k_lin): Linear(in_features=768, out_features=768, bias=True)\n",
       "            (v_lin): Linear(in_features=768, out_features=768, bias=True)\n",
       "            (out_lin): Linear(in_features=768, out_features=768, bias=True)\n",
       "          )\n",
       "          (sa_layer_norm): LayerNorm((768,), eps=1e-12, elementwise_affine=True)\n",
       "          (ffn): FFN(\n",
       "            (dropout): Dropout(p=0.1, inplace=False)\n",
       "            (lin1): Linear(in_features=768, out_features=3072, bias=True)\n",
       "            (lin2): Linear(in_features=3072, out_features=768, bias=True)\n",
       "            (activation): GELUActivation()\n",
       "          )\n",
       "          (output_layer_norm): LayerNorm((768,), eps=1e-12, elementwise_affine=True)\n",
       "        )\n",
       "      )\n",
       "    )\n",
       "  )\n",
       "  (pre_classifier): Linear(in_features=768, out_features=768, bias=True)\n",
       "  (classifier): Linear(in_features=768, out_features=34, bias=True)\n",
       "  (dropout): Dropout(p=0.2, inplace=False)\n",
       ")"
      ]
     },
     "execution_count": 28,
     "metadata": {},
     "output_type": "execute_result"
    }
   ],
   "source": [
    "num_labels=34\n",
    "model = AutoModelForSequenceClassification.from_pretrained(model_ckpt, num_labels=num_labels, id2label=id2label, label2id=label2id)\n",
    "optimizer = torch.optim.AdamW(model.parameters(), lr=5e-5)\n",
    "\n",
    "num_epochs = 6\n",
    "num_training_steps = num_epochs * len(trainfull_dataloader)\n",
    "lr_scheduler = get_scheduler(\n",
    "    \"cosine\",\n",
    "    optimizer=optimizer,\n",
    "    num_warmup_steps=100,\n",
    "    num_training_steps=num_training_steps\n",
    ")\n",
    "model.to(device)"
   ]
  },
  {
   "cell_type": "code",
   "execution_count": 29,
   "metadata": {},
   "outputs": [
    {
     "data": {
      "application/vnd.jupyter.widget-view+json": {
       "model_id": "0803ffaf748d4f6b991173f8436c944c",
       "version_major": 2,
       "version_minor": 0
      },
      "text/plain": [
       "  0%|          | 0/1484 [00:00<?, ?it/s]"
      ]
     },
     "metadata": {},
     "output_type": "display_data"
    },
    {
     "name": "stdout",
     "output_type": "stream",
     "text": [
      "0.017824230194091798\n",
      "2.0305729013681413\n",
      "0.6258384090662003\n",
      "0.4471934324130416\n",
      "0.33715564765036105\n",
      "0.21126779564656317\n",
      "0.18925811927765607\n",
      "0.14559029729105533\n"
     ]
    }
   ],
   "source": [
    "progress_bar = tqdm(range(num_training_steps))\n",
    "train_loss=0.0\n",
    "model.train()\n",
    "for epoch in range(num_epochs):    \n",
    "    for batch_num, batch in enumerate(trainfull_dataloader):\n",
    "        batch = {k: v.to(device) for k, v in batch.items()}\n",
    "        outputs = model(**batch)\n",
    "        loss = outputs.loss\n",
    "        loss.backward()\n",
    "        optimizer.step()\n",
    "        lr_scheduler.step()\n",
    "        optimizer.zero_grad()\n",
    "        progress_bar.update(1)\n",
    "        train_loss += loss.item()\n",
    "        if batch_num%200==0:\n",
    "            print(train_loss/200)\n",
    "            train_loss=0.0\n",
    "\n"
   ]
  },
  {
   "cell_type": "code",
   "execution_count": 30,
   "metadata": {},
   "outputs": [
    {
     "name": "stdout",
     "output_type": "stream",
     "text": [
      "{'Accuracy': 0.8642857142857143, 'F1': 0.8607892204010892, 'Precision': 0.8788055107608939, 'Recall': 0.8642857142857143}\n"
     ]
    },
    {
     "name": "stderr",
     "output_type": "stream",
     "text": [
      "/home/barama/1Cuatrimestre/PLN/Proyecto/codigo/.virtual/lib/python3.11/site-packages/sklearn/metrics/_classification.py:1471: UndefinedMetricWarning: Precision and F-score are ill-defined and being set to 0.0 in labels with no predicted samples. Use `zero_division` parameter to control this behavior.\n",
      "  _warn_prf(average, modifier, msg_start, len(result))\n",
      "/home/barama/1Cuatrimestre/PLN/Proyecto/codigo/.virtual/lib/python3.11/site-packages/sklearn/metrics/_classification.py:1471: UndefinedMetricWarning: Recall and F-score are ill-defined and being set to 0.0 in labels with no true samples. Use `zero_division` parameter to control this behavior.\n",
      "  _warn_prf(average, modifier, msg_start, len(result))\n"
     ]
    }
   ],
   "source": [
    "model.eval()\n",
    "\n",
    "all_preds = []\n",
    "all_labels = []\n",
    "\n",
    "with torch.no_grad():\n",
    "    for batch in test_dataloader:\n",
    "        batch = {k: v.to(device) for k, v in batch.items()}\n",
    "        outputs = model(**batch)\n",
    "        logits = outputs.logits\n",
    "        preds = logits.argmax(dim=-1).cpu().numpy()\n",
    "        labels = batch['labels'].cpu().numpy()\n",
    "\n",
    "        all_preds.extend(preds)\n",
    "        all_labels.extend(labels)\n",
    "\n",
    "metrics = compute_metrics(all_preds, all_labels)\n",
    "\n",
    "print(metrics)"
   ]
  },
  {
   "cell_type": "code",
   "execution_count": 62,
   "metadata": {},
   "outputs": [
    {
     "name": "stdout",
     "output_type": "stream",
     "text": [
      "11872\n"
     ]
    }
   ],
   "source": [
    "print(len(trainfull_dataloader)*32)"
   ]
  },
  {
   "cell_type": "markdown",
   "metadata": {},
   "source": [
    "## Probando otros modelos\n",
    "#### Bert-Base"
   ]
  },
  {
   "cell_type": "code",
   "execution_count": 16,
   "metadata": {},
   "outputs": [
    {
     "data": {
      "application/vnd.jupyter.widget-view+json": {
       "model_id": "b5c820c37399450094e578ff8791ccaf",
       "version_major": 2,
       "version_minor": 0
      },
      "text/plain": [
       "Map:   0%|          | 0/10072 [00:00<?, ? examples/s]"
      ]
     },
     "metadata": {},
     "output_type": "display_data"
    },
    {
     "data": {
      "application/vnd.jupyter.widget-view+json": {
       "model_id": "66554db5c63c4019a8c407cdea7344ed",
       "version_major": 2,
       "version_minor": 0
      },
      "text/plain": [
       "Map:   0%|          | 0/1777 [00:00<?, ? examples/s]"
      ]
     },
     "metadata": {},
     "output_type": "display_data"
    },
    {
     "data": {
      "application/vnd.jupyter.widget-view+json": {
       "model_id": "be4031de5e4e430e84fbd827f3cd3589",
       "version_major": 2,
       "version_minor": 0
      },
      "text/plain": [
       "Map:   0%|          | 0/1540 [00:00<?, ? examples/s]"
      ]
     },
     "metadata": {},
     "output_type": "display_data"
    }
   ],
   "source": [
    "model_ckpt='bert-base-uncased'\n",
    "tokenizer = AutoTokenizer.from_pretrained(model_ckpt)\n",
    "def preprocess_function(examples):\n",
    "    return tokenizer(examples[\"text\"],truncation=True, max_length = 512)\n",
    "tokenized_train = train_dataset.map(preprocess_function, batched=True)\n",
    "tokenized_valid = valid_dataset.map(preprocess_function, batched=True)\n",
    "tokenized_test = test_dataset.map(preprocess_function, batched=True)\n",
    "tokenized_train = tokenized_train.remove_columns([\"text\"])\n",
    "tokenized_valid = tokenized_valid.remove_columns([\"text\"])\n",
    "tokenized_test = tokenized_test.remove_columns([\"text\"])\n",
    "\n",
    "tokenized_train.set_format(\"torch\")\n",
    "tokenized_valid.set_format(\"torch\")\n",
    "tokenized_test.set_format(\"torch\")\n",
    "data_collator = DataCollatorWithPadding(tokenizer=tokenizer)\n",
    "train_dataloader = DataLoader(tokenized_train, batch_size=32, shuffle=True, collate_fn=data_collator)\n",
    "valid_dataloader = DataLoader(tokenized_valid, batch_size=64, shuffle=False, collate_fn=data_collator)\n",
    "test_dataloader = DataLoader(tokenized_test, batch_size=64, shuffle=False, collate_fn=data_collator)\n"
   ]
  },
  {
   "cell_type": "code",
   "execution_count": 12,
   "metadata": {},
   "outputs": [
    {
     "name": "stderr",
     "output_type": "stream",
     "text": [
      "Some weights of BertForSequenceClassification were not initialized from the model checkpoint at bert-base-uncased and are newly initialized: ['classifier.weight', 'classifier.bias']\n",
      "You should probably TRAIN this model on a down-stream task to be able to use it for predictions and inference.\n"
     ]
    },
    {
     "ename": "KeyboardInterrupt",
     "evalue": "",
     "output_type": "error",
     "traceback": [
      "\u001b[0;31m---------------------------------------------------------------------------\u001b[0m",
      "\u001b[0;31mKeyboardInterrupt\u001b[0m                         Traceback (most recent call last)",
      "Cell \u001b[0;32mIn[12], line 3\u001b[0m\n\u001b[1;32m      1\u001b[0m num_labels\u001b[38;5;241m=\u001b[39m\u001b[38;5;241m34\u001b[39m\n\u001b[1;32m      2\u001b[0m model \u001b[38;5;241m=\u001b[39m AutoModelForSequenceClassification\u001b[38;5;241m.\u001b[39mfrom_pretrained(model_ckpt, num_labels\u001b[38;5;241m=\u001b[39mnum_labels, id2label\u001b[38;5;241m=\u001b[39mid2label, label2id\u001b[38;5;241m=\u001b[39mlabel2id)\n\u001b[0;32m----> 3\u001b[0m optimizer \u001b[38;5;241m=\u001b[39m \u001b[43mtorch\u001b[49m\u001b[38;5;241;43m.\u001b[39;49m\u001b[43moptim\u001b[49m\u001b[38;5;241;43m.\u001b[39;49m\u001b[43mAdamW\u001b[49m\u001b[43m(\u001b[49m\u001b[43mmodel\u001b[49m\u001b[38;5;241;43m.\u001b[39;49m\u001b[43mparameters\u001b[49m\u001b[43m(\u001b[49m\u001b[43m)\u001b[49m\u001b[43m,\u001b[49m\u001b[43m \u001b[49m\u001b[43mlr\u001b[49m\u001b[38;5;241;43m=\u001b[39;49m\u001b[38;5;241;43m3e-5\u001b[39;49m\u001b[43m)\u001b[49m\n\u001b[1;32m      5\u001b[0m num_epochs \u001b[38;5;241m=\u001b[39m \u001b[38;5;241m4\u001b[39m\n\u001b[1;32m      6\u001b[0m num_training_steps \u001b[38;5;241m=\u001b[39m num_epochs \u001b[38;5;241m*\u001b[39m \u001b[38;5;28mlen\u001b[39m(train_dataloader)\n",
      "File \u001b[0;32m~/1Cuatrimestre/PLN/Proyecto/codigo/.virtual/lib/python3.11/site-packages/torch/optim/adamw.py:52\u001b[0m, in \u001b[0;36mAdamW.__init__\u001b[0;34m(self, params, lr, betas, eps, weight_decay, amsgrad, maximize, foreach, capturable, differentiable, fused)\u001b[0m\n\u001b[1;32m     39\u001b[0m     \u001b[38;5;28;01mraise\u001b[39;00m \u001b[38;5;167;01mValueError\u001b[39;00m(\u001b[38;5;124mf\u001b[39m\u001b[38;5;124m\"\u001b[39m\u001b[38;5;124mInvalid weight_decay value: \u001b[39m\u001b[38;5;132;01m{\u001b[39;00mweight_decay\u001b[38;5;132;01m}\u001b[39;00m\u001b[38;5;124m\"\u001b[39m)\n\u001b[1;32m     40\u001b[0m defaults \u001b[38;5;241m=\u001b[39m \u001b[38;5;28mdict\u001b[39m(\n\u001b[1;32m     41\u001b[0m     lr\u001b[38;5;241m=\u001b[39mlr,\n\u001b[1;32m     42\u001b[0m     betas\u001b[38;5;241m=\u001b[39mbetas,\n\u001b[0;32m   (...)\u001b[0m\n\u001b[1;32m     50\u001b[0m     fused\u001b[38;5;241m=\u001b[39mfused,\n\u001b[1;32m     51\u001b[0m )\n\u001b[0;32m---> 52\u001b[0m \u001b[38;5;28;43msuper\u001b[39;49m\u001b[43m(\u001b[49m\u001b[43m)\u001b[49m\u001b[38;5;241;43m.\u001b[39;49m\u001b[38;5;21;43m__init__\u001b[39;49m\u001b[43m(\u001b[49m\u001b[43mparams\u001b[49m\u001b[43m,\u001b[49m\u001b[43m \u001b[49m\u001b[43mdefaults\u001b[49m\u001b[43m)\u001b[49m\n\u001b[1;32m     54\u001b[0m \u001b[38;5;28;01mif\u001b[39;00m fused:\n\u001b[1;32m     55\u001b[0m     \u001b[38;5;28;01mif\u001b[39;00m differentiable:\n",
      "File \u001b[0;32m~/1Cuatrimestre/PLN/Proyecto/codigo/.virtual/lib/python3.11/site-packages/torch/optim/optimizer.py:266\u001b[0m, in \u001b[0;36mOptimizer.__init__\u001b[0;34m(self, params, defaults)\u001b[0m\n\u001b[1;32m    263\u001b[0m     param_groups \u001b[38;5;241m=\u001b[39m [{\u001b[38;5;124m'\u001b[39m\u001b[38;5;124mparams\u001b[39m\u001b[38;5;124m'\u001b[39m: param_groups}]\n\u001b[1;32m    265\u001b[0m \u001b[38;5;28;01mfor\u001b[39;00m param_group \u001b[38;5;129;01min\u001b[39;00m param_groups:\n\u001b[0;32m--> 266\u001b[0m     \u001b[38;5;28;43mself\u001b[39;49m\u001b[38;5;241;43m.\u001b[39;49m\u001b[43madd_param_group\u001b[49m\u001b[43m(\u001b[49m\u001b[43mcast\u001b[49m\u001b[43m(\u001b[49m\u001b[38;5;28;43mdict\u001b[39;49m\u001b[43m,\u001b[49m\u001b[43m \u001b[49m\u001b[43mparam_group\u001b[49m\u001b[43m)\u001b[49m\u001b[43m)\u001b[49m\n\u001b[1;32m    268\u001b[0m \u001b[38;5;66;03m# Allows _cuda_graph_capture_health_check to rig a poor man's TORCH_WARN_ONCE in python,\u001b[39;00m\n\u001b[1;32m    269\u001b[0m \u001b[38;5;66;03m# which I don't think exists\u001b[39;00m\n\u001b[1;32m    270\u001b[0m \u001b[38;5;66;03m# https://github.com/pytorch/pytorch/issues/72948\u001b[39;00m\n\u001b[1;32m    271\u001b[0m \u001b[38;5;28mself\u001b[39m\u001b[38;5;241m.\u001b[39m_warned_capturable_if_run_uncaptured \u001b[38;5;241m=\u001b[39m \u001b[38;5;28;01mTrue\u001b[39;00m\n",
      "File \u001b[0;32m~/1Cuatrimestre/PLN/Proyecto/codigo/.virtual/lib/python3.11/site-packages/torch/_compile.py:22\u001b[0m, in \u001b[0;36m_disable_dynamo.<locals>.inner\u001b[0;34m(*args, **kwargs)\u001b[0m\n\u001b[1;32m     20\u001b[0m \u001b[38;5;129m@functools\u001b[39m\u001b[38;5;241m.\u001b[39mwraps(fn)\n\u001b[1;32m     21\u001b[0m \u001b[38;5;28;01mdef\u001b[39;00m \u001b[38;5;21minner\u001b[39m(\u001b[38;5;241m*\u001b[39margs, \u001b[38;5;241m*\u001b[39m\u001b[38;5;241m*\u001b[39mkwargs):\n\u001b[0;32m---> 22\u001b[0m     \u001b[38;5;28;01mimport\u001b[39;00m \u001b[38;5;21;01mtorch\u001b[39;00m\u001b[38;5;21;01m.\u001b[39;00m\u001b[38;5;21;01m_dynamo\u001b[39;00m\n\u001b[1;32m     24\u001b[0m     \u001b[38;5;28;01mreturn\u001b[39;00m torch\u001b[38;5;241m.\u001b[39m_dynamo\u001b[38;5;241m.\u001b[39mdisable(fn, recursive)(\u001b[38;5;241m*\u001b[39margs, \u001b[38;5;241m*\u001b[39m\u001b[38;5;241m*\u001b[39mkwargs)\n",
      "File \u001b[0;32m~/1Cuatrimestre/PLN/Proyecto/codigo/.virtual/lib/python3.11/site-packages/torch/_dynamo/__init__.py:2\u001b[0m\n\u001b[1;32m      1\u001b[0m \u001b[38;5;28;01mimport\u001b[39;00m \u001b[38;5;21;01mtorch\u001b[39;00m\n\u001b[0;32m----> 2\u001b[0m \u001b[38;5;28;01mfrom\u001b[39;00m \u001b[38;5;21;01m.\u001b[39;00m \u001b[38;5;28;01mimport\u001b[39;00m allowed_functions, convert_frame, eval_frame, resume_execution\n\u001b[1;32m      3\u001b[0m \u001b[38;5;28;01mfrom\u001b[39;00m \u001b[38;5;21;01m.\u001b[39;00m\u001b[38;5;21;01mbackends\u001b[39;00m\u001b[38;5;21;01m.\u001b[39;00m\u001b[38;5;21;01mregistry\u001b[39;00m \u001b[38;5;28;01mimport\u001b[39;00m list_backends, register_backend\n\u001b[1;32m      4\u001b[0m \u001b[38;5;28;01mfrom\u001b[39;00m \u001b[38;5;21;01m.\u001b[39;00m\u001b[38;5;21;01mconvert_frame\u001b[39;00m \u001b[38;5;28;01mimport\u001b[39;00m replay\n",
      "File \u001b[0;32m~/1Cuatrimestre/PLN/Proyecto/codigo/.virtual/lib/python3.11/site-packages/torch/_dynamo/allowed_functions.py:26\u001b[0m\n\u001b[1;32m     23\u001b[0m \u001b[38;5;28;01mimport\u001b[39;00m \u001b[38;5;21;01mtorch\u001b[39;00m\u001b[38;5;21;01m.\u001b[39;00m\u001b[38;5;21;01m_functorch\u001b[39;00m\u001b[38;5;21;01m.\u001b[39;00m\u001b[38;5;21;01mdeprecated\u001b[39;00m \u001b[38;5;28;01mas\u001b[39;00m \u001b[38;5;21;01mdeprecated_func\u001b[39;00m\n\u001b[1;32m     24\u001b[0m \u001b[38;5;28;01mfrom\u001b[39;00m \u001b[38;5;21;01mtorch\u001b[39;00m\u001b[38;5;21;01m.\u001b[39;00m\u001b[38;5;21;01mfx\u001b[39;00m\u001b[38;5;21;01m.\u001b[39;00m\u001b[38;5;21;01m_symbolic_trace\u001b[39;00m \u001b[38;5;28;01mimport\u001b[39;00m is_fx_tracing\n\u001b[0;32m---> 26\u001b[0m \u001b[38;5;28;01mfrom\u001b[39;00m \u001b[38;5;21;01m.\u001b[39;00m \u001b[38;5;28;01mimport\u001b[39;00m config\n\u001b[1;32m     27\u001b[0m \u001b[38;5;28;01mfrom\u001b[39;00m \u001b[38;5;21;01m.\u001b[39;00m\u001b[38;5;21;01mexternal_utils\u001b[39;00m \u001b[38;5;28;01mimport\u001b[39;00m is_compiling\n\u001b[1;32m     28\u001b[0m \u001b[38;5;28;01mfrom\u001b[39;00m \u001b[38;5;21;01m.\u001b[39;00m\u001b[38;5;21;01mutils\u001b[39;00m \u001b[38;5;28;01mimport\u001b[39;00m is_safe_constant, NP_SUPPORTED_MODULES\n",
      "File \u001b[0;32m~/1Cuatrimestre/PLN/Proyecto/codigo/.virtual/lib/python3.11/site-packages/torch/_dynamo/config.py:49\u001b[0m\n\u001b[1;32m     41\u001b[0m specialize_int \u001b[38;5;241m=\u001b[39m \u001b[38;5;28;01mFalse\u001b[39;00m\n\u001b[1;32m     43\u001b[0m \u001b[38;5;66;03m# Assume these functions return constants\u001b[39;00m\n\u001b[1;32m     44\u001b[0m constant_functions \u001b[38;5;241m=\u001b[39m {\n\u001b[1;32m     45\u001b[0m     torch\u001b[38;5;241m.\u001b[39mjit\u001b[38;5;241m.\u001b[39mis_scripting: \u001b[38;5;28;01mFalse\u001b[39;00m,\n\u001b[1;32m     46\u001b[0m     torch\u001b[38;5;241m.\u001b[39mjit\u001b[38;5;241m.\u001b[39mis_tracing: \u001b[38;5;28;01mFalse\u001b[39;00m,\n\u001b[1;32m     47\u001b[0m     torch\u001b[38;5;241m.\u001b[39m_C\u001b[38;5;241m.\u001b[39m_get_tracing_state: \u001b[38;5;28;01mNone\u001b[39;00m,\n\u001b[1;32m     48\u001b[0m     torch\u001b[38;5;241m.\u001b[39mfx\u001b[38;5;241m.\u001b[39m_symbolic_trace\u001b[38;5;241m.\u001b[39mis_fx_tracing: \u001b[38;5;28;01mFalse\u001b[39;00m,\n\u001b[0;32m---> 49\u001b[0m     \u001b[43mtorch\u001b[49m\u001b[38;5;241;43m.\u001b[39;49m\u001b[43monnx\u001b[49m\u001b[38;5;241m.\u001b[39mis_in_onnx_export: \u001b[38;5;28;01mFalse\u001b[39;00m,\n\u001b[1;32m     50\u001b[0m     external_utils\u001b[38;5;241m.\u001b[39mis_compiling: \u001b[38;5;28;01mTrue\u001b[39;00m,\n\u001b[1;32m     51\u001b[0m     torch\u001b[38;5;241m.\u001b[39m_utils\u001b[38;5;241m.\u001b[39mis_compiling: \u001b[38;5;28;01mTrue\u001b[39;00m,\n\u001b[1;32m     52\u001b[0m }\n\u001b[1;32m     54\u001b[0m \u001b[38;5;66;03m# legacy config, does nothing now!\u001b[39;00m\n\u001b[1;32m     55\u001b[0m dynamic_shapes \u001b[38;5;241m=\u001b[39m \u001b[38;5;28;01mTrue\u001b[39;00m\n",
      "File \u001b[0;32m~/1Cuatrimestre/PLN/Proyecto/codigo/.virtual/lib/python3.11/site-packages/torch/__init__.py:1831\u001b[0m, in \u001b[0;36m__getattr__\u001b[0;34m(name)\u001b[0m\n\u001b[1;32m   1829\u001b[0m \u001b[38;5;28;01mif\u001b[39;00m name \u001b[38;5;129;01min\u001b[39;00m _lazy_modules:\n\u001b[1;32m   1830\u001b[0m     \u001b[38;5;28;01mimport\u001b[39;00m \u001b[38;5;21;01mimportlib\u001b[39;00m\n\u001b[0;32m-> 1831\u001b[0m     \u001b[38;5;28;01mreturn\u001b[39;00m \u001b[43mimportlib\u001b[49m\u001b[38;5;241;43m.\u001b[39;49m\u001b[43mimport_module\u001b[49m\u001b[43m(\u001b[49m\u001b[38;5;124;43mf\u001b[39;49m\u001b[38;5;124;43m\"\u001b[39;49m\u001b[38;5;124;43m.\u001b[39;49m\u001b[38;5;132;43;01m{\u001b[39;49;00m\u001b[43mname\u001b[49m\u001b[38;5;132;43;01m}\u001b[39;49;00m\u001b[38;5;124;43m\"\u001b[39;49m\u001b[43m,\u001b[49m\u001b[43m \u001b[49m\u001b[38;5;18;43m__name__\u001b[39;49m\u001b[43m)\u001b[49m\n\u001b[1;32m   1833\u001b[0m \u001b[38;5;28;01mraise\u001b[39;00m \u001b[38;5;167;01mAttributeError\u001b[39;00m(\u001b[38;5;124mf\u001b[39m\u001b[38;5;124m\"\u001b[39m\u001b[38;5;124mmodule \u001b[39m\u001b[38;5;124m'\u001b[39m\u001b[38;5;132;01m{\u001b[39;00m\u001b[38;5;18m__name__\u001b[39m\u001b[38;5;132;01m}\u001b[39;00m\u001b[38;5;124m'\u001b[39m\u001b[38;5;124m has no attribute \u001b[39m\u001b[38;5;124m'\u001b[39m\u001b[38;5;132;01m{\u001b[39;00mname\u001b[38;5;132;01m}\u001b[39;00m\u001b[38;5;124m'\u001b[39m\u001b[38;5;124m\"\u001b[39m)\n",
      "File \u001b[0;32m/usr/lib/python3.11/importlib/__init__.py:126\u001b[0m, in \u001b[0;36mimport_module\u001b[0;34m(name, package)\u001b[0m\n\u001b[1;32m    124\u001b[0m             \u001b[38;5;28;01mbreak\u001b[39;00m\n\u001b[1;32m    125\u001b[0m         level \u001b[38;5;241m+\u001b[39m\u001b[38;5;241m=\u001b[39m \u001b[38;5;241m1\u001b[39m\n\u001b[0;32m--> 126\u001b[0m \u001b[38;5;28;01mreturn\u001b[39;00m \u001b[43m_bootstrap\u001b[49m\u001b[38;5;241;43m.\u001b[39;49m\u001b[43m_gcd_import\u001b[49m\u001b[43m(\u001b[49m\u001b[43mname\u001b[49m\u001b[43m[\u001b[49m\u001b[43mlevel\u001b[49m\u001b[43m:\u001b[49m\u001b[43m]\u001b[49m\u001b[43m,\u001b[49m\u001b[43m \u001b[49m\u001b[43mpackage\u001b[49m\u001b[43m,\u001b[49m\u001b[43m \u001b[49m\u001b[43mlevel\u001b[49m\u001b[43m)\u001b[49m\n",
      "File \u001b[0;32m~/1Cuatrimestre/PLN/Proyecto/codigo/.virtual/lib/python3.11/site-packages/torch/onnx/__init__.py:10\u001b[0m\n\u001b[1;32m      2\u001b[0m \u001b[38;5;28;01mfrom\u001b[39;00m \u001b[38;5;21;01mtorch\u001b[39;00m\u001b[38;5;21;01m.\u001b[39;00m\u001b[38;5;21;01m_C\u001b[39;00m \u001b[38;5;28;01mimport\u001b[39;00m _onnx \u001b[38;5;28;01mas\u001b[39;00m _C_onnx\n\u001b[1;32m      3\u001b[0m \u001b[38;5;28;01mfrom\u001b[39;00m \u001b[38;5;21;01mtorch\u001b[39;00m\u001b[38;5;21;01m.\u001b[39;00m\u001b[38;5;21;01m_C\u001b[39;00m\u001b[38;5;21;01m.\u001b[39;00m\u001b[38;5;21;01m_onnx\u001b[39;00m \u001b[38;5;28;01mimport\u001b[39;00m (\n\u001b[1;32m      4\u001b[0m     _CAFFE2_ATEN_FALLBACK,\n\u001b[1;32m      5\u001b[0m     OperatorExportTypes,\n\u001b[1;32m      6\u001b[0m     TensorProtoDataType,\n\u001b[1;32m      7\u001b[0m     TrainingMode,\n\u001b[1;32m      8\u001b[0m )\n\u001b[0;32m---> 10\u001b[0m \u001b[38;5;28;01mfrom\u001b[39;00m \u001b[38;5;21;01m.\u001b[39;00m \u001b[38;5;28;01mimport\u001b[39;00m (  \u001b[38;5;66;03m# usort:skip. Keep the order instead of sorting lexicographically\u001b[39;00m\n\u001b[1;32m     11\u001b[0m     _deprecation,\n\u001b[1;32m     12\u001b[0m     errors,\n\u001b[1;32m     13\u001b[0m     symbolic_caffe2,\n\u001b[1;32m     14\u001b[0m     symbolic_helper,\n\u001b[1;32m     15\u001b[0m     symbolic_opset7,\n\u001b[1;32m     16\u001b[0m     symbolic_opset8,\n\u001b[1;32m     17\u001b[0m     symbolic_opset9,\n\u001b[1;32m     18\u001b[0m     symbolic_opset10,\n\u001b[1;32m     19\u001b[0m     symbolic_opset11,\n\u001b[1;32m     20\u001b[0m     symbolic_opset12,\n\u001b[1;32m     21\u001b[0m     symbolic_opset13,\n\u001b[1;32m     22\u001b[0m     symbolic_opset14,\n\u001b[1;32m     23\u001b[0m     symbolic_opset15,\n\u001b[1;32m     24\u001b[0m     symbolic_opset16,\n\u001b[1;32m     25\u001b[0m     symbolic_opset17,\n\u001b[1;32m     26\u001b[0m     symbolic_opset18,\n\u001b[1;32m     27\u001b[0m     utils,\n\u001b[1;32m     28\u001b[0m )\n\u001b[1;32m     30\u001b[0m \u001b[38;5;66;03m# TODO(After 1.13 release): Remove the deprecated SymbolicContext\u001b[39;00m\n\u001b[1;32m     31\u001b[0m \u001b[38;5;28;01mfrom\u001b[39;00m \u001b[38;5;21;01m.\u001b[39;00m\u001b[38;5;21;01m_exporter_states\u001b[39;00m \u001b[38;5;28;01mimport\u001b[39;00m ExportTypes, SymbolicContext\n",
      "File \u001b[0;32m~/1Cuatrimestre/PLN/Proyecto/codigo/.virtual/lib/python3.11/site-packages/torch/onnx/errors.py:9\u001b[0m\n\u001b[1;32m      7\u001b[0m \u001b[38;5;28;01mfrom\u001b[39;00m \u001b[38;5;21;01mtorch\u001b[39;00m \u001b[38;5;28;01mimport\u001b[39;00m _C\n\u001b[1;32m      8\u001b[0m \u001b[38;5;28;01mfrom\u001b[39;00m \u001b[38;5;21;01mtorch\u001b[39;00m\u001b[38;5;21;01m.\u001b[39;00m\u001b[38;5;21;01monnx\u001b[39;00m \u001b[38;5;28;01mimport\u001b[39;00m _constants\n\u001b[0;32m----> 9\u001b[0m \u001b[38;5;28;01mfrom\u001b[39;00m \u001b[38;5;21;01mtorch\u001b[39;00m\u001b[38;5;21;01m.\u001b[39;00m\u001b[38;5;21;01monnx\u001b[39;00m\u001b[38;5;21;01m.\u001b[39;00m\u001b[38;5;21;01m_internal\u001b[39;00m \u001b[38;5;28;01mimport\u001b[39;00m diagnostics\n\u001b[1;32m     11\u001b[0m __all__ \u001b[38;5;241m=\u001b[39m [\n\u001b[1;32m     12\u001b[0m     \u001b[38;5;124m\"\u001b[39m\u001b[38;5;124mOnnxExporterError\u001b[39m\u001b[38;5;124m\"\u001b[39m,\n\u001b[1;32m     13\u001b[0m     \u001b[38;5;124m\"\u001b[39m\u001b[38;5;124mOnnxExporterWarning\u001b[39m\u001b[38;5;124m\"\u001b[39m,\n\u001b[0;32m   (...)\u001b[0m\n\u001b[1;32m     16\u001b[0m     \u001b[38;5;124m\"\u001b[39m\u001b[38;5;124mSymbolicValueError\u001b[39m\u001b[38;5;124m\"\u001b[39m,\n\u001b[1;32m     17\u001b[0m ]\n\u001b[1;32m     20\u001b[0m \u001b[38;5;28;01mclass\u001b[39;00m \u001b[38;5;21;01mOnnxExporterWarning\u001b[39;00m(\u001b[38;5;167;01mUserWarning\u001b[39;00m):\n",
      "File \u001b[0;32m~/1Cuatrimestre/PLN/Proyecto/codigo/.virtual/lib/python3.11/site-packages/torch/onnx/_internal/diagnostics/__init__.py:1\u001b[0m\n\u001b[0;32m----> 1\u001b[0m \u001b[38;5;28;01mfrom\u001b[39;00m \u001b[38;5;21;01m.\u001b[39;00m\u001b[38;5;21;01m_diagnostic\u001b[39;00m \u001b[38;5;28;01mimport\u001b[39;00m (\n\u001b[1;32m      2\u001b[0m     create_export_diagnostic_context,\n\u001b[1;32m      3\u001b[0m     diagnose,\n\u001b[1;32m      4\u001b[0m     engine,\n\u001b[1;32m      5\u001b[0m     export_context,\n\u001b[1;32m      6\u001b[0m     ExportDiagnosticEngine,\n\u001b[1;32m      7\u001b[0m     TorchScriptOnnxExportDiagnostic,\n\u001b[1;32m      8\u001b[0m )\n\u001b[1;32m      9\u001b[0m \u001b[38;5;28;01mfrom\u001b[39;00m \u001b[38;5;21;01m.\u001b[39;00m\u001b[38;5;21;01m_rules\u001b[39;00m \u001b[38;5;28;01mimport\u001b[39;00m rules\n\u001b[1;32m     10\u001b[0m \u001b[38;5;28;01mfrom\u001b[39;00m \u001b[38;5;21;01m.\u001b[39;00m\u001b[38;5;21;01minfra\u001b[39;00m \u001b[38;5;28;01mimport\u001b[39;00m levels\n",
      "File \u001b[0;32m~/1Cuatrimestre/PLN/Proyecto/codigo/.virtual/lib/python3.11/site-packages/torch/onnx/_internal/diagnostics/_diagnostic.py:11\u001b[0m\n\u001b[1;32m      7\u001b[0m \u001b[38;5;28;01mfrom\u001b[39;00m \u001b[38;5;21;01mtyping\u001b[39;00m \u001b[38;5;28;01mimport\u001b[39;00m List, Optional\n\u001b[1;32m      9\u001b[0m \u001b[38;5;28;01mimport\u001b[39;00m \u001b[38;5;21;01mtorch\u001b[39;00m\n\u001b[0;32m---> 11\u001b[0m \u001b[38;5;28;01mfrom\u001b[39;00m \u001b[38;5;21;01mtorch\u001b[39;00m\u001b[38;5;21;01m.\u001b[39;00m\u001b[38;5;21;01monnx\u001b[39;00m\u001b[38;5;21;01m.\u001b[39;00m\u001b[38;5;21;01m_internal\u001b[39;00m\u001b[38;5;21;01m.\u001b[39;00m\u001b[38;5;21;01mdiagnostics\u001b[39;00m \u001b[38;5;28;01mimport\u001b[39;00m infra\n\u001b[1;32m     12\u001b[0m \u001b[38;5;28;01mfrom\u001b[39;00m \u001b[38;5;21;01mtorch\u001b[39;00m\u001b[38;5;21;01m.\u001b[39;00m\u001b[38;5;21;01monnx\u001b[39;00m\u001b[38;5;21;01m.\u001b[39;00m\u001b[38;5;21;01m_internal\u001b[39;00m\u001b[38;5;21;01m.\u001b[39;00m\u001b[38;5;21;01mdiagnostics\u001b[39;00m\u001b[38;5;21;01m.\u001b[39;00m\u001b[38;5;21;01minfra\u001b[39;00m \u001b[38;5;28;01mimport\u001b[39;00m formatter, sarif\n\u001b[1;32m     13\u001b[0m \u001b[38;5;28;01mfrom\u001b[39;00m \u001b[38;5;21;01mtorch\u001b[39;00m\u001b[38;5;21;01m.\u001b[39;00m\u001b[38;5;21;01monnx\u001b[39;00m\u001b[38;5;21;01m.\u001b[39;00m\u001b[38;5;21;01m_internal\u001b[39;00m\u001b[38;5;21;01m.\u001b[39;00m\u001b[38;5;21;01mdiagnostics\u001b[39;00m\u001b[38;5;21;01m.\u001b[39;00m\u001b[38;5;21;01minfra\u001b[39;00m\u001b[38;5;21;01m.\u001b[39;00m\u001b[38;5;21;01msarif\u001b[39;00m \u001b[38;5;28;01mimport\u001b[39;00m version \u001b[38;5;28;01mas\u001b[39;00m sarif_version\n",
      "File \u001b[0;32m~/1Cuatrimestre/PLN/Proyecto/codigo/.virtual/lib/python3.11/site-packages/torch/onnx/_internal/diagnostics/infra/__init__.py:1\u001b[0m\n\u001b[0;32m----> 1\u001b[0m \u001b[38;5;28;01mfrom\u001b[39;00m \u001b[38;5;21;01m.\u001b[39;00m\u001b[38;5;21;01m_infra\u001b[39;00m \u001b[38;5;28;01mimport\u001b[39;00m (\n\u001b[1;32m      2\u001b[0m     DiagnosticOptions,\n\u001b[1;32m      3\u001b[0m     Graph,\n\u001b[1;32m      4\u001b[0m     Invocation,\n\u001b[1;32m      5\u001b[0m     Level,\n\u001b[1;32m      6\u001b[0m     levels,\n\u001b[1;32m      7\u001b[0m     Location,\n\u001b[1;32m      8\u001b[0m     Rule,\n\u001b[1;32m      9\u001b[0m     RuleCollection,\n\u001b[1;32m     10\u001b[0m     Stack,\n\u001b[1;32m     11\u001b[0m     StackFrame,\n\u001b[1;32m     12\u001b[0m     Tag,\n\u001b[1;32m     13\u001b[0m     ThreadFlowLocation,\n\u001b[1;32m     14\u001b[0m )\n\u001b[1;32m     15\u001b[0m \u001b[38;5;28;01mfrom\u001b[39;00m \u001b[38;5;21;01m.\u001b[39;00m\u001b[38;5;21;01mcontext\u001b[39;00m \u001b[38;5;28;01mimport\u001b[39;00m Diagnostic, DiagnosticContext, RuntimeErrorWithDiagnostic\n\u001b[1;32m     17\u001b[0m __all__ \u001b[38;5;241m=\u001b[39m [\n\u001b[1;32m     18\u001b[0m     \u001b[38;5;124m\"\u001b[39m\u001b[38;5;124mDiagnostic\u001b[39m\u001b[38;5;124m\"\u001b[39m,\n\u001b[1;32m     19\u001b[0m     \u001b[38;5;124m\"\u001b[39m\u001b[38;5;124mDiagnosticContext\u001b[39m\u001b[38;5;124m\"\u001b[39m,\n\u001b[0;32m   (...)\u001b[0m\n\u001b[1;32m     32\u001b[0m     \u001b[38;5;124m\"\u001b[39m\u001b[38;5;124mThreadFlowLocation\u001b[39m\u001b[38;5;124m\"\u001b[39m,\n\u001b[1;32m     33\u001b[0m ]\n",
      "File \u001b[0;32m~/1Cuatrimestre/PLN/Proyecto/codigo/.virtual/lib/python3.11/site-packages/torch/onnx/_internal/diagnostics/infra/_infra.py:10\u001b[0m\n\u001b[1;32m      7\u001b[0m \u001b[38;5;28;01mimport\u001b[39;00m \u001b[38;5;21;01mlogging\u001b[39;00m\n\u001b[1;32m      8\u001b[0m \u001b[38;5;28;01mfrom\u001b[39;00m \u001b[38;5;21;01mtyping\u001b[39;00m \u001b[38;5;28;01mimport\u001b[39;00m FrozenSet, List, Mapping, Optional, Sequence, Tuple\n\u001b[0;32m---> 10\u001b[0m \u001b[38;5;28;01mfrom\u001b[39;00m \u001b[38;5;21;01mtorch\u001b[39;00m\u001b[38;5;21;01m.\u001b[39;00m\u001b[38;5;21;01monnx\u001b[39;00m\u001b[38;5;21;01m.\u001b[39;00m\u001b[38;5;21;01m_internal\u001b[39;00m\u001b[38;5;21;01m.\u001b[39;00m\u001b[38;5;21;01mdiagnostics\u001b[39;00m\u001b[38;5;21;01m.\u001b[39;00m\u001b[38;5;21;01minfra\u001b[39;00m \u001b[38;5;28;01mimport\u001b[39;00m formatter, sarif\n\u001b[1;32m     13\u001b[0m \u001b[38;5;28;01mclass\u001b[39;00m \u001b[38;5;21;01mLevel\u001b[39;00m(enum\u001b[38;5;241m.\u001b[39mIntEnum):\n\u001b[1;32m     14\u001b[0m \u001b[38;5;250m    \u001b[39m\u001b[38;5;124;03m\"\"\"The level of a diagnostic.\u001b[39;00m\n\u001b[1;32m     15\u001b[0m \n\u001b[1;32m     16\u001b[0m \u001b[38;5;124;03m    This class is used to represent the level of a diagnostic. The levels are defined\u001b[39;00m\n\u001b[0;32m   (...)\u001b[0m\n\u001b[1;32m     33\u001b[0m \u001b[38;5;124;03m        Level.ERROR = logging.ERROR = 40\u001b[39;00m\n\u001b[1;32m     34\u001b[0m \u001b[38;5;124;03m    \"\"\"\u001b[39;00m\n",
      "File \u001b[0;32m~/1Cuatrimestre/PLN/Proyecto/codigo/.virtual/lib/python3.11/site-packages/torch/onnx/_internal/diagnostics/infra/formatter.py:11\u001b[0m\n\u001b[1;32m      9\u001b[0m \u001b[38;5;28;01mfrom\u001b[39;00m \u001b[38;5;21;01mtorch\u001b[39;00m\u001b[38;5;21;01m.\u001b[39;00m\u001b[38;5;21;01m_logging\u001b[39;00m \u001b[38;5;28;01mimport\u001b[39;00m LazyString\n\u001b[1;32m     10\u001b[0m \u001b[38;5;28;01mfrom\u001b[39;00m \u001b[38;5;21;01mtorch\u001b[39;00m\u001b[38;5;21;01m.\u001b[39;00m\u001b[38;5;21;01monnx\u001b[39;00m\u001b[38;5;21;01m.\u001b[39;00m\u001b[38;5;21;01m_internal\u001b[39;00m \u001b[38;5;28;01mimport\u001b[39;00m _beartype\n\u001b[0;32m---> 11\u001b[0m \u001b[38;5;28;01mfrom\u001b[39;00m \u001b[38;5;21;01mtorch\u001b[39;00m\u001b[38;5;21;01m.\u001b[39;00m\u001b[38;5;21;01monnx\u001b[39;00m\u001b[38;5;21;01m.\u001b[39;00m\u001b[38;5;21;01m_internal\u001b[39;00m\u001b[38;5;21;01m.\u001b[39;00m\u001b[38;5;21;01mdiagnostics\u001b[39;00m\u001b[38;5;21;01m.\u001b[39;00m\u001b[38;5;21;01minfra\u001b[39;00m \u001b[38;5;28;01mimport\u001b[39;00m sarif\n\u001b[1;32m     14\u001b[0m \u001b[38;5;66;03m# A list of types in the SARIF module to support pretty printing.\u001b[39;00m\n\u001b[1;32m     15\u001b[0m \u001b[38;5;66;03m# This is solely for type annotation for the functions below.\u001b[39;00m\n\u001b[1;32m     16\u001b[0m _SarifClass \u001b[38;5;241m=\u001b[39m Union[\n\u001b[1;32m     17\u001b[0m     sarif\u001b[38;5;241m.\u001b[39mSarifLog,\n\u001b[1;32m     18\u001b[0m     sarif\u001b[38;5;241m.\u001b[39mRun,\n\u001b[1;32m     19\u001b[0m     sarif\u001b[38;5;241m.\u001b[39mReportingDescriptor,\n\u001b[1;32m     20\u001b[0m     sarif\u001b[38;5;241m.\u001b[39mResult,\n\u001b[1;32m     21\u001b[0m ]\n",
      "File \u001b[0;32m~/1Cuatrimestre/PLN/Proyecto/codigo/.virtual/lib/python3.11/site-packages/torch/onnx/_internal/diagnostics/infra/sarif/__init__.py:18\u001b[0m\n\u001b[1;32m     14\u001b[0m \u001b[38;5;28;01mfrom\u001b[39;00m \u001b[38;5;21;01mtorch\u001b[39;00m\u001b[38;5;21;01m.\u001b[39;00m\u001b[38;5;21;01monnx\u001b[39;00m\u001b[38;5;21;01m.\u001b[39;00m\u001b[38;5;21;01m_internal\u001b[39;00m\u001b[38;5;21;01m.\u001b[39;00m\u001b[38;5;21;01mdiagnostics\u001b[39;00m\u001b[38;5;21;01m.\u001b[39;00m\u001b[38;5;21;01minfra\u001b[39;00m\u001b[38;5;21;01m.\u001b[39;00m\u001b[38;5;21;01msarif\u001b[39;00m\u001b[38;5;21;01m.\u001b[39;00m\u001b[38;5;21;01m_code_flow\u001b[39;00m \u001b[38;5;28;01mimport\u001b[39;00m CodeFlow\n\u001b[1;32m     15\u001b[0m \u001b[38;5;28;01mfrom\u001b[39;00m \u001b[38;5;21;01mtorch\u001b[39;00m\u001b[38;5;21;01m.\u001b[39;00m\u001b[38;5;21;01monnx\u001b[39;00m\u001b[38;5;21;01m.\u001b[39;00m\u001b[38;5;21;01m_internal\u001b[39;00m\u001b[38;5;21;01m.\u001b[39;00m\u001b[38;5;21;01mdiagnostics\u001b[39;00m\u001b[38;5;21;01m.\u001b[39;00m\u001b[38;5;21;01minfra\u001b[39;00m\u001b[38;5;21;01m.\u001b[39;00m\u001b[38;5;21;01msarif\u001b[39;00m\u001b[38;5;21;01m.\u001b[39;00m\u001b[38;5;21;01m_configuration_override\u001b[39;00m \u001b[38;5;28;01mimport\u001b[39;00m (\n\u001b[1;32m     16\u001b[0m     ConfigurationOverride,\n\u001b[1;32m     17\u001b[0m )\n\u001b[0;32m---> 18\u001b[0m \u001b[38;5;28;01mfrom\u001b[39;00m \u001b[38;5;21;01mtorch\u001b[39;00m\u001b[38;5;21;01m.\u001b[39;00m\u001b[38;5;21;01monnx\u001b[39;00m\u001b[38;5;21;01m.\u001b[39;00m\u001b[38;5;21;01m_internal\u001b[39;00m\u001b[38;5;21;01m.\u001b[39;00m\u001b[38;5;21;01mdiagnostics\u001b[39;00m\u001b[38;5;21;01m.\u001b[39;00m\u001b[38;5;21;01minfra\u001b[39;00m\u001b[38;5;21;01m.\u001b[39;00m\u001b[38;5;21;01msarif\u001b[39;00m\u001b[38;5;21;01m.\u001b[39;00m\u001b[38;5;21;01m_conversion\u001b[39;00m \u001b[38;5;28;01mimport\u001b[39;00m Conversion\n\u001b[1;32m     19\u001b[0m \u001b[38;5;28;01mfrom\u001b[39;00m \u001b[38;5;21;01mtorch\u001b[39;00m\u001b[38;5;21;01m.\u001b[39;00m\u001b[38;5;21;01monnx\u001b[39;00m\u001b[38;5;21;01m.\u001b[39;00m\u001b[38;5;21;01m_internal\u001b[39;00m\u001b[38;5;21;01m.\u001b[39;00m\u001b[38;5;21;01mdiagnostics\u001b[39;00m\u001b[38;5;21;01m.\u001b[39;00m\u001b[38;5;21;01minfra\u001b[39;00m\u001b[38;5;21;01m.\u001b[39;00m\u001b[38;5;21;01msarif\u001b[39;00m\u001b[38;5;21;01m.\u001b[39;00m\u001b[38;5;21;01m_edge\u001b[39;00m \u001b[38;5;28;01mimport\u001b[39;00m Edge\n\u001b[1;32m     20\u001b[0m \u001b[38;5;28;01mfrom\u001b[39;00m \u001b[38;5;21;01mtorch\u001b[39;00m\u001b[38;5;21;01m.\u001b[39;00m\u001b[38;5;21;01monnx\u001b[39;00m\u001b[38;5;21;01m.\u001b[39;00m\u001b[38;5;21;01m_internal\u001b[39;00m\u001b[38;5;21;01m.\u001b[39;00m\u001b[38;5;21;01mdiagnostics\u001b[39;00m\u001b[38;5;21;01m.\u001b[39;00m\u001b[38;5;21;01minfra\u001b[39;00m\u001b[38;5;21;01m.\u001b[39;00m\u001b[38;5;21;01msarif\u001b[39;00m\u001b[38;5;21;01m.\u001b[39;00m\u001b[38;5;21;01m_edge_traversal\u001b[39;00m \u001b[38;5;28;01mimport\u001b[39;00m EdgeTraversal\n",
      "File \u001b[0;32m~/1Cuatrimestre/PLN/Proyecto/codigo/.virtual/lib/python3.11/site-packages/torch/onnx/_internal/diagnostics/infra/sarif/_conversion.py:9\u001b[0m\n\u001b[1;32m      6\u001b[0m \u001b[38;5;28;01mimport\u001b[39;00m \u001b[38;5;21;01mdataclasses\u001b[39;00m\n\u001b[1;32m      7\u001b[0m \u001b[38;5;28;01mfrom\u001b[39;00m \u001b[38;5;21;01mtyping\u001b[39;00m \u001b[38;5;28;01mimport\u001b[39;00m List, Optional\n\u001b[0;32m----> 9\u001b[0m \u001b[38;5;28;01mfrom\u001b[39;00m \u001b[38;5;21;01mtorch\u001b[39;00m\u001b[38;5;21;01m.\u001b[39;00m\u001b[38;5;21;01monnx\u001b[39;00m\u001b[38;5;21;01m.\u001b[39;00m\u001b[38;5;21;01m_internal\u001b[39;00m\u001b[38;5;21;01m.\u001b[39;00m\u001b[38;5;21;01mdiagnostics\u001b[39;00m\u001b[38;5;21;01m.\u001b[39;00m\u001b[38;5;21;01minfra\u001b[39;00m\u001b[38;5;21;01m.\u001b[39;00m\u001b[38;5;21;01msarif\u001b[39;00m \u001b[38;5;28;01mimport\u001b[39;00m (\n\u001b[1;32m     10\u001b[0m     _artifact_location,\n\u001b[1;32m     11\u001b[0m     _invocation,\n\u001b[1;32m     12\u001b[0m     _property_bag,\n\u001b[1;32m     13\u001b[0m     _tool,\n\u001b[1;32m     14\u001b[0m )\n\u001b[1;32m     17\u001b[0m \u001b[38;5;129m@dataclasses\u001b[39m\u001b[38;5;241m.\u001b[39mdataclass\n\u001b[1;32m     18\u001b[0m \u001b[38;5;28;01mclass\u001b[39;00m \u001b[38;5;21;01mConversion\u001b[39;00m(\u001b[38;5;28mobject\u001b[39m):\n\u001b[1;32m     19\u001b[0m \u001b[38;5;250m    \u001b[39m\u001b[38;5;124;03m\"\"\"Describes how a converter transformed the output of a static analysis tool from the analysis tool's native output format into the SARIF format.\"\"\"\u001b[39;00m\n",
      "File \u001b[0;32m~/1Cuatrimestre/PLN/Proyecto/codigo/.virtual/lib/python3.11/site-packages/torch/onnx/_internal/diagnostics/infra/sarif/_invocation.py:9\u001b[0m\n\u001b[1;32m      6\u001b[0m \u001b[38;5;28;01mimport\u001b[39;00m \u001b[38;5;21;01mdataclasses\u001b[39;00m\n\u001b[1;32m      7\u001b[0m \u001b[38;5;28;01mfrom\u001b[39;00m \u001b[38;5;21;01mtyping\u001b[39;00m \u001b[38;5;28;01mimport\u001b[39;00m Any, List, Optional\n\u001b[0;32m----> 9\u001b[0m \u001b[38;5;28;01mfrom\u001b[39;00m \u001b[38;5;21;01mtorch\u001b[39;00m\u001b[38;5;21;01m.\u001b[39;00m\u001b[38;5;21;01monnx\u001b[39;00m\u001b[38;5;21;01m.\u001b[39;00m\u001b[38;5;21;01m_internal\u001b[39;00m\u001b[38;5;21;01m.\u001b[39;00m\u001b[38;5;21;01mdiagnostics\u001b[39;00m\u001b[38;5;21;01m.\u001b[39;00m\u001b[38;5;21;01minfra\u001b[39;00m\u001b[38;5;21;01m.\u001b[39;00m\u001b[38;5;21;01msarif\u001b[39;00m \u001b[38;5;28;01mimport\u001b[39;00m (\n\u001b[1;32m     10\u001b[0m     _artifact_location,\n\u001b[1;32m     11\u001b[0m     _configuration_override,\n\u001b[1;32m     12\u001b[0m     _notification,\n\u001b[1;32m     13\u001b[0m     _property_bag,\n\u001b[1;32m     14\u001b[0m )\n\u001b[1;32m     17\u001b[0m \u001b[38;5;129m@dataclasses\u001b[39m\u001b[38;5;241m.\u001b[39mdataclass\n\u001b[1;32m     18\u001b[0m \u001b[38;5;28;01mclass\u001b[39;00m \u001b[38;5;21;01mInvocation\u001b[39;00m(\u001b[38;5;28mobject\u001b[39m):\n\u001b[1;32m     19\u001b[0m \u001b[38;5;250m    \u001b[39m\u001b[38;5;124;03m\"\"\"The runtime environment of the analysis tool run.\"\"\"\u001b[39;00m\n",
      "File \u001b[0;32m~/1Cuatrimestre/PLN/Proyecto/codigo/.virtual/lib/python3.11/site-packages/torch/onnx/_internal/diagnostics/infra/sarif/_notification.py:9\u001b[0m\n\u001b[1;32m      6\u001b[0m \u001b[38;5;28;01mimport\u001b[39;00m \u001b[38;5;21;01mdataclasses\u001b[39;00m\n\u001b[1;32m      7\u001b[0m \u001b[38;5;28;01mfrom\u001b[39;00m \u001b[38;5;21;01mtyping\u001b[39;00m \u001b[38;5;28;01mimport\u001b[39;00m List, Literal, Optional\n\u001b[0;32m----> 9\u001b[0m \u001b[38;5;28;01mfrom\u001b[39;00m \u001b[38;5;21;01mtorch\u001b[39;00m\u001b[38;5;21;01m.\u001b[39;00m\u001b[38;5;21;01monnx\u001b[39;00m\u001b[38;5;21;01m.\u001b[39;00m\u001b[38;5;21;01m_internal\u001b[39;00m\u001b[38;5;21;01m.\u001b[39;00m\u001b[38;5;21;01mdiagnostics\u001b[39;00m\u001b[38;5;21;01m.\u001b[39;00m\u001b[38;5;21;01minfra\u001b[39;00m\u001b[38;5;21;01m.\u001b[39;00m\u001b[38;5;21;01msarif\u001b[39;00m \u001b[38;5;28;01mimport\u001b[39;00m (\n\u001b[1;32m     10\u001b[0m     _exception,\n\u001b[1;32m     11\u001b[0m     _location,\n\u001b[1;32m     12\u001b[0m     _message,\n\u001b[1;32m     13\u001b[0m     _property_bag,\n\u001b[1;32m     14\u001b[0m     _reporting_descriptor_reference,\n\u001b[1;32m     15\u001b[0m )\n\u001b[1;32m     18\u001b[0m \u001b[38;5;129m@dataclasses\u001b[39m\u001b[38;5;241m.\u001b[39mdataclass\n\u001b[1;32m     19\u001b[0m \u001b[38;5;28;01mclass\u001b[39;00m \u001b[38;5;21;01mNotification\u001b[39;00m(\u001b[38;5;28mobject\u001b[39m):\n\u001b[1;32m     20\u001b[0m \u001b[38;5;250m    \u001b[39m\u001b[38;5;124;03m\"\"\"Describes a condition relevant to the tool itself, as opposed to being relevant to a target being analyzed by the tool.\"\"\"\u001b[39;00m\n",
      "File \u001b[0;32m<frozen importlib._bootstrap>:1176\u001b[0m, in \u001b[0;36m_find_and_load\u001b[0;34m(name, import_)\u001b[0m\n",
      "File \u001b[0;32m<frozen importlib._bootstrap>:1147\u001b[0m, in \u001b[0;36m_find_and_load_unlocked\u001b[0;34m(name, import_)\u001b[0m\n",
      "File \u001b[0;32m<frozen importlib._bootstrap>:666\u001b[0m, in \u001b[0;36m_load_unlocked\u001b[0;34m(spec)\u001b[0m\n",
      "\u001b[0;31mKeyboardInterrupt\u001b[0m: "
     ]
    }
   ],
   "source": [
    "\n",
    "num_labels=34\n",
    "model = AutoModelForSequenceClassification.from_pretrained(model_ckpt, num_labels=num_labels, id2label=id2label, label2id=label2id)\n",
    "optimizer = torch.optim.AdamW(model.parameters(), lr=3e-5)\n",
    "\n",
    "num_epochs = 4\n",
    "num_training_steps = num_epochs * len(train_dataloader)\n",
    "lr_scheduler = get_scheduler(\n",
    "    \"linear\",\n",
    "    optimizer=optimizer,\n",
    "    num_warmup_steps=100,\n",
    "    num_training_steps=num_training_steps\n",
    ")\n",
    "\n",
    "model.to(device)\n",
    "\n",
    "    \n",
    "    \n",
    "progress_bar = tqdm(range(num_training_steps))\n",
    "train_losses=[]\n",
    "valid_losses=[]\n",
    "\n",
    "for epoch in range(num_epochs):    \n",
    "    train_loss=0.0\n",
    "    model.train()\n",
    "    for batch_num, batch in enumerate(train_dataloader):\n",
    "        batch = {k: v.to(device) for k, v in batch.items()}\n",
    "        outputs = model(**batch)\n",
    "        loss = outputs.loss\n",
    "        loss.backward()\n",
    "        optimizer.step()\n",
    "        lr_scheduler.step()\n",
    "        optimizer.zero_grad()\n",
    "        progress_bar.update(1)\n",
    "\n",
    "        train_loss += loss.item()\n",
    "\n",
    "        if (batch_num + 1) % 50 == 0:\n",
    "            model.eval()  # Establecer el modelo en modo de evaluación\n",
    "            val_loss = 0.0\n",
    "\n",
    "            with torch.no_grad():\n",
    "                for val_batch in test_dataloader:\n",
    "                    val_batch = {k: v.to(device) for k, v in val_batch.items()}\n",
    "                    val_outputs = model(**val_batch)\n",
    "                    val_loss += val_outputs.loss.item()\n",
    "                    logits = val_outputs.logits\n",
    "                    predictions = torch.argmax(logits, dim=-1)\n",
    "                    metric.add_batch(predictions=predictions, references=val_batch[\"labels\"])\n",
    "\n",
    "                val_acc = metric.compute()['accuracy']\n",
    "\n",
    "\n",
    "            # Calcular la pérdida de validación promedio\n",
    "            avg_val_loss = val_loss / len(valid_dataloader)\n",
    "\n",
    "            # Guardar los valores de pérdida\n",
    "            train_losses.append(train_loss / 50)\n",
    "            valid_losses.append(avg_val_loss)\n",
    "\n",
    "            print(f\"Epoch {epoch + 1}, Iteration {batch_num + 1}, Training Loss: {train_loss / 50:.4f}, Validation Loss: {avg_val_loss:.4f}, Validation Accuracy: {val_acc:.4f}\")\n",
    "            train_loss=0.0\n"
   ]
  },
  {
   "cell_type": "code",
   "execution_count": 23,
   "metadata": {},
   "outputs": [
    {
     "name": "stdout",
     "output_type": "stream",
     "text": [
      "{'Accuracy': 0.8525974025974026, 'F1': 0.8555950315333186, 'Precision': 0.8800199189790212, 'Recall': 0.8525974025974026}\n"
     ]
    },
    {
     "name": "stderr",
     "output_type": "stream",
     "text": [
      "/home/barama/1Cuatrimestre/PLN/Proyecto/codigo/.virtual/lib/python3.11/site-packages/sklearn/metrics/_classification.py:1471: UndefinedMetricWarning: Precision and F-score are ill-defined and being set to 0.0 in labels with no predicted samples. Use `zero_division` parameter to control this behavior.\n",
      "  _warn_prf(average, modifier, msg_start, len(result))\n",
      "/home/barama/1Cuatrimestre/PLN/Proyecto/codigo/.virtual/lib/python3.11/site-packages/sklearn/metrics/_classification.py:1471: UndefinedMetricWarning: Recall and F-score are ill-defined and being set to 0.0 in labels with no true samples. Use `zero_division` parameter to control this behavior.\n",
      "  _warn_prf(average, modifier, msg_start, len(result))\n"
     ]
    }
   ],
   "source": [
    "\n",
    "model = torch.load(\"./Pretrained/bertEpoch4Tasa5e-5CosineWarm100\")\n",
    "model.eval()\n",
    "\n",
    "all_preds = []\n",
    "all_labels = []\n",
    "\n",
    "with torch.no_grad():\n",
    "    for batch in test_dataloader:\n",
    "        batch = {k: v.to(device) for k, v in batch.items()}\n",
    "        outputs = model(**batch)\n",
    "        logits = outputs.logits\n",
    "        preds = logits.argmax(dim=-1).cpu().numpy()\n",
    "        labels = batch['labels'].cpu().numpy()\n",
    "\n",
    "        all_preds.extend(preds)\n",
    "        all_labels.extend(labels)\n",
    "\n",
    "metrics = compute_metrics(all_preds, all_labels)\n",
    "print(metrics)\n"
   ]
  },
  {
   "cell_type": "code",
   "execution_count": 44,
   "metadata": {},
   "outputs": [],
   "source": [
    "torch.save(model, \"./Pretrained/bertEpoch4Tasa3e-5LinealWarm100\")"
   ]
  },
  {
   "cell_type": "markdown",
   "metadata": {},
   "source": [
    "##### TrainFull"
   ]
  },
  {
   "cell_type": "code",
   "execution_count": 17,
   "metadata": {},
   "outputs": [
    {
     "data": {
      "application/vnd.jupyter.widget-view+json": {
       "model_id": "0fdf109b5e3549e3915255d2b66417fd",
       "version_major": 2,
       "version_minor": 0
      },
      "text/plain": [
       "Map:   0%|          | 0/11849 [00:00<?, ? examples/s]"
      ]
     },
     "metadata": {},
     "output_type": "display_data"
    }
   ],
   "source": [
    "model_ckpt = \"bert-base-uncased\"\n",
    "trainfull_dataset = Dataset.from_pandas(df_train)\n",
    "tokenizedfull_train = trainfull_dataset.map(preprocess_function, batched=True)\n",
    "tokenizedfull_train = tokenizedfull_train.remove_columns([\"text\"])\n",
    "\n",
    "tokenizedfull_train.set_format(\"torch\")\n",
    "trainfull_dataloader = DataLoader(tokenizedfull_train, batch_size=32, shuffle=True, collate_fn=data_collator)"
   ]
  },
  {
   "cell_type": "code",
   "execution_count": 18,
   "metadata": {},
   "outputs": [
    {
     "name": "stderr",
     "output_type": "stream",
     "text": [
      "Some weights of BertForSequenceClassification were not initialized from the model checkpoint at bert-base-uncased and are newly initialized: ['classifier.weight', 'classifier.bias']\n",
      "You should probably TRAIN this model on a down-stream task to be able to use it for predictions and inference.\n",
      "huggingface/tokenizers: The current process just got forked, after parallelism has already been used. Disabling parallelism to avoid deadlocks...\n",
      "To disable this warning, you can either:\n",
      "\t- Avoid using `tokenizers` before the fork if possible\n",
      "\t- Explicitly set the environment variable TOKENIZERS_PARALLELISM=(true | false)\n",
      "huggingface/tokenizers: The current process just got forked, after parallelism has already been used. Disabling parallelism to avoid deadlocks...\n",
      "To disable this warning, you can either:\n",
      "\t- Avoid using `tokenizers` before the fork if possible\n",
      "\t- Explicitly set the environment variable TOKENIZERS_PARALLELISM=(true | false)\n"
     ]
    },
    {
     "data": {
      "application/vnd.jupyter.widget-view+json": {
       "model_id": "77062cd92b8d46d2b94f9b214f35cd35",
       "version_major": 2,
       "version_minor": 0
      },
      "text/plain": [
       "  0%|          | 0/1484 [00:00<?, ?it/s]"
      ]
     },
     "metadata": {},
     "output_type": "display_data"
    },
    {
     "name": "stderr",
     "output_type": "stream",
     "text": [
      "You're using a BertTokenizerFast tokenizer. Please note that with a fast tokenizer, using the `__call__` method is faster than using a method to encode the text followed by a call to the `pad` method to get a padded encoding.\n"
     ]
    },
    {
     "name": "stdout",
     "output_type": "stream",
     "text": [
      "0.01781702518463135\n",
      "1.9852690252661704\n",
      "0.693440227508545\n",
      "0.47142112378031015\n",
      "0.35483070092275737\n",
      "0.23915977058932186\n",
      "0.16609195677563549\n",
      "0.14207945662550628\n"
     ]
    }
   ],
   "source": [
    "\n",
    "num_labels=34\n",
    "model = AutoModelForSequenceClassification.from_pretrained(model_ckpt, num_labels=num_labels, id2label=id2label, label2id=label2id)\n",
    "optimizer = torch.optim.AdamW(model.parameters(), lr=5e-5)\n",
    "\n",
    "num_epochs = 4\n",
    "num_training_steps = num_epochs * len(trainfull_dataloader)\n",
    "lr_scheduler = get_scheduler(\n",
    "    \"cosine\",\n",
    "    optimizer=optimizer,\n",
    "    num_warmup_steps=100,\n",
    "    num_training_steps=num_training_steps\n",
    ")\n",
    "model.to(device)\n",
    "progress_bar = tqdm(range(num_training_steps))\n",
    "train_loss=0.0\n",
    "model.train()\n",
    "for epoch in range(num_epochs):    \n",
    "    for batch_num, batch in enumerate(trainfull_dataloader):\n",
    "        batch = {k: v.to(device) for k, v in batch.items()}\n",
    "        outputs = model(**batch)\n",
    "        loss = outputs.loss\n",
    "        loss.backward()\n",
    "        optimizer.step()\n",
    "        lr_scheduler.step()\n",
    "        optimizer.zero_grad()\n",
    "        progress_bar.update(1)\n",
    "        train_loss += loss.item()\n",
    "        if (batch_num+1)%200==0:\n",
    "            print(train_loss/200)\n",
    "            train_loss=0.0\n",
    "\n"
   ]
  },
  {
   "cell_type": "code",
   "execution_count": 19,
   "metadata": {},
   "outputs": [
    {
     "ename": "NameError",
     "evalue": "name 'compute_metrics' is not defined",
     "output_type": "error",
     "traceback": [
      "\u001b[0;31m---------------------------------------------------------------------------\u001b[0m",
      "\u001b[0;31mNameError\u001b[0m                                 Traceback (most recent call last)",
      "Cell \u001b[0;32mIn[19], line 17\u001b[0m\n\u001b[1;32m     14\u001b[0m         all_preds\u001b[38;5;241m.\u001b[39mextend(preds)\n\u001b[1;32m     15\u001b[0m         all_labels\u001b[38;5;241m.\u001b[39mextend(labels)\n\u001b[0;32m---> 17\u001b[0m metrics \u001b[38;5;241m=\u001b[39m \u001b[43mcompute_metrics\u001b[49m(all_preds, all_labels)\n\u001b[1;32m     19\u001b[0m \u001b[38;5;28mprint\u001b[39m(metrics)\n",
      "\u001b[0;31mNameError\u001b[0m: name 'compute_metrics' is not defined"
     ]
    }
   ],
   "source": [
    "\n",
    "model.eval()\n",
    "\n",
    "all_preds = []\n",
    "all_labels = []\n",
    "\n",
    "with torch.no_grad():\n",
    "    for batch in test_dataloader:\n",
    "        batch = {k: v.to(device) for k, v in batch.items()}\n",
    "        outputs = model(**batch)\n",
    "        logits = outputs.logits\n",
    "        preds = logits.argmax(dim=-1).cpu().numpy()\n",
    "        labels = batch['labels'].cpu().numpy()\n",
    "\n",
    "        all_preds.extend(preds)\n",
    "        all_labels.extend(labels)\n",
    "\n",
    "metrics = compute_metrics(all_preds, all_labels)\n",
    "\n",
    "print(metrics)"
   ]
  },
  {
   "cell_type": "markdown",
   "metadata": {},
   "source": [
    "#### Roberta"
   ]
  },
  {
   "cell_type": "code",
   "execution_count": 22,
   "metadata": {},
   "outputs": [
    {
     "data": {
      "application/vnd.jupyter.widget-view+json": {
       "model_id": "259366a650404349bd0616392fbcfa5b",
       "version_major": 2,
       "version_minor": 0
      },
      "text/plain": [
       "Map:   0%|          | 0/10072 [00:00<?, ? examples/s]"
      ]
     },
     "metadata": {},
     "output_type": "display_data"
    },
    {
     "data": {
      "application/vnd.jupyter.widget-view+json": {
       "model_id": "4a28a6f3d4574129bf9dfa2fa3c3d1d3",
       "version_major": 2,
       "version_minor": 0
      },
      "text/plain": [
       "Map:   0%|          | 0/1777 [00:00<?, ? examples/s]"
      ]
     },
     "metadata": {},
     "output_type": "display_data"
    },
    {
     "data": {
      "application/vnd.jupyter.widget-view+json": {
       "model_id": "c429884c4c564b51a963d99b52a60585",
       "version_major": 2,
       "version_minor": 0
      },
      "text/plain": [
       "Map:   0%|          | 0/1540 [00:00<?, ? examples/s]"
      ]
     },
     "metadata": {},
     "output_type": "display_data"
    }
   ],
   "source": [
    "model_ckpt='roberta-base'\n",
    "tokenizer = AutoTokenizer.from_pretrained(model_ckpt)\n",
    "def preprocess_function(examples):\n",
    "    return tokenizer(examples[\"text\"],truncation=True, max_length = 512)\n",
    "tokenized_train = train_dataset.map(preprocess_function, batched=True)\n",
    "tokenized_valid = valid_dataset.map(preprocess_function, batched=True)\n",
    "tokenized_test = test_dataset.map(preprocess_function, batched=True)\n",
    "tokenized_train = tokenized_train.remove_columns([\"text\"])\n",
    "tokenized_valid = tokenized_valid.remove_columns([\"text\"])\n",
    "tokenized_test = tokenized_test.remove_columns([\"text\"])\n",
    "\n",
    "tokenized_train.set_format(\"torch\")\n",
    "tokenized_valid.set_format(\"torch\")\n",
    "tokenized_test.set_format(\"torch\")\n",
    "data_collator = DataCollatorWithPadding(tokenizer=tokenizer)\n",
    "train_dataloader = DataLoader(tokenized_train, batch_size=32, shuffle=True, collate_fn=data_collator)\n",
    "valid_dataloader = DataLoader(tokenized_valid, batch_size=64, shuffle=False, collate_fn=data_collator)\n",
    "test_dataloader = DataLoader(tokenized_test, batch_size=64, shuffle=False, collate_fn=data_collator)\n"
   ]
  },
  {
   "cell_type": "code",
   "execution_count": 36,
   "metadata": {},
   "outputs": [
    {
     "name": "stderr",
     "output_type": "stream",
     "text": [
      "Some weights of RobertaForSequenceClassification were not initialized from the model checkpoint at roberta-base and are newly initialized: ['classifier.out_proj.weight', 'classifier.out_proj.bias', 'classifier.dense.weight', 'classifier.dense.bias']\n",
      "You should probably TRAIN this model on a down-stream task to be able to use it for predictions and inference.\n"
     ]
    },
    {
     "data": {
      "application/vnd.jupyter.widget-view+json": {
       "model_id": "93f74257afdf4caea8479323d2bcab2b",
       "version_major": 2,
       "version_minor": 0
      },
      "text/plain": [
       "  0%|          | 0/1890 [00:00<?, ?it/s]"
      ]
     },
     "metadata": {},
     "output_type": "display_data"
    },
    {
     "name": "stderr",
     "output_type": "stream",
     "text": [
      "You're using a RobertaTokenizerFast tokenizer. Please note that with a fast tokenizer, using the `__call__` method is faster than using a method to encode the text followed by a call to the `pad` method to get a padded encoding.\n"
     ]
    },
    {
     "name": "stdout",
     "output_type": "stream",
     "text": [
      "Epoch 1, Iteration 50, Training Loss: 3.2331, Validation Loss: 2.6914, Validation Accuracy: 0.2645\n",
      "Epoch 1, Iteration 100, Training Loss: 1.9133, Validation Loss: 1.2353, Validation Accuracy: 0.7349\n",
      "Epoch 1, Iteration 150, Training Loss: 1.0843, Validation Loss: 0.8515, Validation Accuracy: 0.8109\n",
      "Epoch 1, Iteration 200, Training Loss: 0.8959, Validation Loss: 0.7820, Validation Accuracy: 0.8177\n",
      "Epoch 1, Iteration 250, Training Loss: 0.8245, Validation Loss: 0.6621, Validation Accuracy: 0.8374\n",
      "Epoch 1, Iteration 300, Training Loss: 0.7084, Validation Loss: 0.5507, Validation Accuracy: 0.8672\n",
      "Epoch 2, Iteration 50, Training Loss: 0.5877, Validation Loss: 0.4721, Validation Accuracy: 0.8869\n",
      "Epoch 2, Iteration 100, Training Loss: 0.4483, Validation Loss: 0.4534, Validation Accuracy: 0.8807\n",
      "Epoch 2, Iteration 150, Training Loss: 0.4526, Validation Loss: 0.4044, Validation Accuracy: 0.9010\n",
      "Epoch 2, Iteration 200, Training Loss: 0.4509, Validation Loss: 0.3562, Validation Accuracy: 0.9128\n",
      "Epoch 2, Iteration 250, Training Loss: 0.4507, Validation Loss: 0.3062, Validation Accuracy: 0.9263\n",
      "Epoch 2, Iteration 300, Training Loss: 0.3670, Validation Loss: 0.2980, Validation Accuracy: 0.9207\n",
      "Epoch 3, Iteration 50, Training Loss: 0.3093, Validation Loss: 0.2779, Validation Accuracy: 0.9268\n",
      "Epoch 3, Iteration 100, Training Loss: 0.1945, Validation Loss: 0.2622, Validation Accuracy: 0.9347\n",
      "Epoch 3, Iteration 150, Training Loss: 0.2115, Validation Loss: 0.2316, Validation Accuracy: 0.9426\n",
      "Epoch 3, Iteration 200, Training Loss: 0.2306, Validation Loss: 0.2173, Validation Accuracy: 0.9437\n",
      "Epoch 3, Iteration 250, Training Loss: 0.2505, Validation Loss: 0.2200, Validation Accuracy: 0.9454\n",
      "Epoch 3, Iteration 300, Training Loss: 0.2249, Validation Loss: 0.1781, Validation Accuracy: 0.9572\n",
      "Epoch 4, Iteration 50, Training Loss: 0.1674, Validation Loss: 0.1748, Validation Accuracy: 0.9623\n",
      "Epoch 4, Iteration 100, Training Loss: 0.1158, Validation Loss: 0.1724, Validation Accuracy: 0.9578\n",
      "Epoch 4, Iteration 150, Training Loss: 0.0928, Validation Loss: 0.1608, Validation Accuracy: 0.9623\n",
      "Epoch 4, Iteration 200, Training Loss: 0.1143, Validation Loss: 0.1535, Validation Accuracy: 0.9629\n",
      "Epoch 4, Iteration 250, Training Loss: 0.0911, Validation Loss: 0.1337, Validation Accuracy: 0.9702\n",
      "Epoch 4, Iteration 300, Training Loss: 0.1110, Validation Loss: 0.1323, Validation Accuracy: 0.9707\n",
      "Epoch 5, Iteration 50, Training Loss: 0.0866, Validation Loss: 0.1279, Validation Accuracy: 0.9730\n",
      "Epoch 5, Iteration 100, Training Loss: 0.0418, Validation Loss: 0.1387, Validation Accuracy: 0.9690\n",
      "Epoch 5, Iteration 150, Training Loss: 0.0496, Validation Loss: 0.1246, Validation Accuracy: 0.9724\n",
      "Epoch 5, Iteration 200, Training Loss: 0.0531, Validation Loss: 0.1341, Validation Accuracy: 0.9685\n",
      "Epoch 5, Iteration 250, Training Loss: 0.0522, Validation Loss: 0.1214, Validation Accuracy: 0.9674\n",
      "Epoch 5, Iteration 300, Training Loss: 0.0422, Validation Loss: 0.1139, Validation Accuracy: 0.9724\n",
      "Epoch 6, Iteration 50, Training Loss: 0.0605, Validation Loss: 0.1135, Validation Accuracy: 0.9741\n",
      "Epoch 6, Iteration 100, Training Loss: 0.0148, Validation Loss: 0.1079, Validation Accuracy: 0.9741\n",
      "Epoch 6, Iteration 150, Training Loss: 0.0197, Validation Loss: 0.1094, Validation Accuracy: 0.9747\n",
      "Epoch 6, Iteration 200, Training Loss: 0.0302, Validation Loss: 0.1090, Validation Accuracy: 0.9747\n",
      "Epoch 6, Iteration 250, Training Loss: 0.0123, Validation Loss: 0.1044, Validation Accuracy: 0.9758\n",
      "Epoch 6, Iteration 300, Training Loss: 0.0231, Validation Loss: 0.1029, Validation Accuracy: 0.9758\n"
     ]
    }
   ],
   "source": [
    "\n",
    "num_labels=34\n",
    "model = AutoModelForSequenceClassification.from_pretrained(model_ckpt, num_labels=num_labels, id2label=id2label, label2id=label2id)\n",
    "optimizer = torch.optim.AdamW(model.parameters(), lr=5e-5)\n",
    "\n",
    "num_epochs = 6 ##Hyperparameter\n",
    "num_training_steps = num_epochs * len(train_dataloader)\n",
    "lr_scheduler = get_scheduler(\n",
    "    \"cosine\",\n",
    "    optimizer=optimizer,\n",
    "    num_warmup_steps=100,\n",
    "    num_training_steps=num_training_steps\n",
    ")\n",
    "\n",
    "model.to(device)\n",
    "\n",
    "    \n",
    "progress_bar = tqdm(range(num_training_steps))\n",
    "train_losses=[]\n",
    "valid_losses=[]\n",
    "\n",
    "for epoch in range(num_epochs):    \n",
    "    train_loss=0.0\n",
    "    model.train()\n",
    "    if epoch==4:\n",
    "        torch.save(model, \"robertaEpoch4Tasa5e-5CosineWarm\")\n",
    "    for batch_num, batch in enumerate(train_dataloader):\n",
    "        batch = {k: v.to(device) for k, v in batch.items()}\n",
    "        outputs = model(**batch)\n",
    "        loss = outputs.loss\n",
    "        loss.backward()\n",
    "        optimizer.step()\n",
    "        lr_scheduler.step()\n",
    "        optimizer.zero_grad()\n",
    "        progress_bar.update(1)\n",
    "\n",
    "        train_loss += loss.item()\n",
    "        if (batch_num + 1) % 50 == 0:\n",
    "            model.eval()  # Establecer el modelo en modo de evaluación\n",
    "            val_loss = 0.0\n",
    "\n",
    "            with torch.no_grad():\n",
    "                for val_batch in valid_dataloader:\n",
    "                    val_batch = {k: v.to(device) for k, v in val_batch.items()}\n",
    "                    val_outputs = model(**val_batch)\n",
    "                    val_loss += val_outputs.loss.item()\n",
    "                    logits = val_outputs.logits\n",
    "                    predictions = torch.argmax(logits, dim=-1)\n",
    "                    metric.add_batch(predictions=predictions, references=val_batch[\"labels\"])\n",
    "\n",
    "                val_acc = metric.compute()['accuracy']\n",
    "\n",
    "\n",
    "            # Calcular la pérdida de validación promedio\n",
    "            avg_val_loss = val_loss / len(valid_dataloader)\n",
    "\n",
    "            # Guardar los valores de pérdida\n",
    "            train_losses.append(train_loss / 50)\n",
    "            valid_losses.append(avg_val_loss)\n",
    "\n",
    "            print(f\"Epoch {epoch + 1}, Iteration {batch_num + 1}, Training Loss: {train_loss / 50:.4f}, Validation Loss: {avg_val_loss:.4f}, Validation Accuracy: {val_acc:.4f}\")\n",
    "            train_loss=0.0\n"
   ]
  },
  {
   "cell_type": "code",
   "execution_count": 26,
   "metadata": {},
   "outputs": [
    {
     "name": "stdout",
     "output_type": "stream",
     "text": [
      "{'Accuracy': 0.8467532467532467, 'F1': 0.8482724013352022, 'Precision': 0.8690815985370052, 'Recall': 0.8467532467532467}\n"
     ]
    },
    {
     "name": "stderr",
     "output_type": "stream",
     "text": [
      "/home/barama/1Cuatrimestre/PLN/Proyecto/codigo/.virtual/lib/python3.11/site-packages/sklearn/metrics/_classification.py:1471: UndefinedMetricWarning: Precision and F-score are ill-defined and being set to 0.0 in labels with no predicted samples. Use `zero_division` parameter to control this behavior.\n",
      "  _warn_prf(average, modifier, msg_start, len(result))\n",
      "/home/barama/1Cuatrimestre/PLN/Proyecto/codigo/.virtual/lib/python3.11/site-packages/sklearn/metrics/_classification.py:1471: UndefinedMetricWarning: Recall and F-score are ill-defined and being set to 0.0 in labels with no true samples. Use `zero_division` parameter to control this behavior.\n",
      "  _warn_prf(average, modifier, msg_start, len(result))\n"
     ]
    }
   ],
   "source": [
    "\n",
    "\n",
    "model = torch.load(\"./Pretrained/robertaEpoch6Tasa5e-5CosineWarm\")\n",
    "model.eval()\n",
    "\n",
    "all_preds = []\n",
    "all_labels = []\n",
    "\n",
    "with torch.no_grad():\n",
    "    for batch in test_dataloader:\n",
    "        batch = {k: v.to(device) for k, v in batch.items()}\n",
    "        outputs = model(**batch)\n",
    "        logits = outputs.logits\n",
    "        preds = logits.argmax(dim=-1).cpu().numpy()\n",
    "        labels = batch['labels'].cpu().numpy()\n",
    "\n",
    "        all_preds.extend(preds)\n",
    "        all_labels.extend(labels)\n",
    "\n",
    "metrics = compute_metrics(all_preds, all_labels)\n",
    "print(metrics)\n"
   ]
  },
  {
   "cell_type": "code",
   "execution_count": 38,
   "metadata": {},
   "outputs": [],
   "source": [
    "\n",
    "\n",
    "#torch.save(model, \"./Pretrained/robertaEpoch6Tasa5e-5CosineWarm\")"
   ]
  },
  {
   "cell_type": "markdown",
   "metadata": {},
   "source": [
    "##### TrainFull"
   ]
  },
  {
   "cell_type": "code",
   "execution_count": 23,
   "metadata": {},
   "outputs": [
    {
     "data": {
      "application/vnd.jupyter.widget-view+json": {
       "model_id": "567462cc1d244ef7b861205ccf8c9b89",
       "version_major": 2,
       "version_minor": 0
      },
      "text/plain": [
       "Map:   0%|          | 0/11849 [00:00<?, ? examples/s]"
      ]
     },
     "metadata": {},
     "output_type": "display_data"
    }
   ],
   "source": [
    "model_ckpt = \"roberta-base\"\n",
    "trainfull_dataset = Dataset.from_pandas(df_train)\n",
    "tokenizedfull_train = trainfull_dataset.map(preprocess_function, batched=True)\n",
    "tokenizedfull_train = tokenizedfull_train.remove_columns([\"text\"])\n",
    "\n",
    "tokenizedfull_train.set_format(\"torch\")\n",
    "trainfull_dataloader = DataLoader(tokenizedfull_train, batch_size=32, shuffle=True, collate_fn=data_collator)\n"
   ]
  },
  {
   "cell_type": "code",
   "execution_count": 24,
   "metadata": {},
   "outputs": [
    {
     "name": "stderr",
     "output_type": "stream",
     "text": [
      "Some weights of RobertaForSequenceClassification were not initialized from the model checkpoint at roberta-base and are newly initialized: ['classifier.out_proj.bias', 'classifier.dense.weight', 'classifier.out_proj.weight', 'classifier.dense.bias']\n",
      "You should probably TRAIN this model on a down-stream task to be able to use it for predictions and inference.\n"
     ]
    },
    {
     "data": {
      "application/vnd.jupyter.widget-view+json": {
       "model_id": "8521b03b0abe4432910b02921ffe44f6",
       "version_major": 2,
       "version_minor": 0
      },
      "text/plain": [
       "  0%|          | 0/2226 [00:00<?, ?it/s]"
      ]
     },
     "metadata": {},
     "output_type": "display_data"
    },
    {
     "name": "stderr",
     "output_type": "stream",
     "text": [
      "You're using a RobertaTokenizerFast tokenizer. Please note that with a fast tokenizer, using the `__call__` method is faster than using a method to encode the text followed by a call to the `pad` method to get a padded encoding.\n"
     ]
    },
    {
     "name": "stdout",
     "output_type": "stream",
     "text": [
      "2.241199581623077\n",
      "1.5040226589888335\n",
      "0.9416740147769451\n",
      "0.6508070577681064\n",
      "0.5078435648977756\n",
      "0.4019292965345085\n"
     ]
    }
   ],
   "source": [
    "\n",
    "num_labels=34\n",
    "model = AutoModelForSequenceClassification.from_pretrained(model_ckpt, num_labels=num_labels, id2label=id2label, label2id=label2id)\n",
    "optimizer = torch.optim.AdamW(model.parameters(), lr=2e-5)\n",
    "\n",
    "num_epochs = 6\n",
    "num_training_steps = num_epochs * len(trainfull_dataloader)\n",
    "lr_scheduler = get_scheduler(\n",
    "    \"cosine\",\n",
    "    optimizer=optimizer,\n",
    "    num_warmup_steps=100,\n",
    "    num_training_steps=num_training_steps\n",
    ")\n",
    "model.to(device)\n",
    "progress_bar = tqdm(range(num_training_steps))\n",
    "train_loss=0.0\n",
    "model.train()\n",
    "for epoch in range(num_epochs):    \n",
    "    for batch_num, batch in enumerate(trainfull_dataloader):\n",
    "        batch = {k: v.to(device) for k, v in batch.items()}\n",
    "        outputs = model(**batch)\n",
    "        loss = outputs.loss\n",
    "        loss.backward()\n",
    "        optimizer.step()\n",
    "        lr_scheduler.step()\n",
    "        optimizer.zero_grad()\n",
    "        progress_bar.update(1)\n",
    "        train_loss += loss.item()\n",
    "        if (batch_num+1)%200==0:\n",
    "            print(train_loss/200)\n",
    "            train_loss=0.0\n",
    "\n"
   ]
  },
  {
   "cell_type": "code",
   "execution_count": 25,
   "metadata": {},
   "outputs": [
    {
     "name": "stdout",
     "output_type": "stream",
     "text": [
      "{'Accuracy': 0.8597402597402597, 'F1': 0.8593325220089794, 'Precision': 0.8766411737983689, 'Recall': 0.8597402597402597}\n"
     ]
    },
    {
     "name": "stderr",
     "output_type": "stream",
     "text": [
      "/home/barama/1Cuatrimestre/PLN/Proyecto/codigo/.virtual/lib/python3.11/site-packages/sklearn/metrics/_classification.py:1471: UndefinedMetricWarning: Precision and F-score are ill-defined and being set to 0.0 in labels with no predicted samples. Use `zero_division` parameter to control this behavior.\n",
      "  _warn_prf(average, modifier, msg_start, len(result))\n",
      "/home/barama/1Cuatrimestre/PLN/Proyecto/codigo/.virtual/lib/python3.11/site-packages/sklearn/metrics/_classification.py:1471: UndefinedMetricWarning: Recall and F-score are ill-defined and being set to 0.0 in labels with no true samples. Use `zero_division` parameter to control this behavior.\n",
      "  _warn_prf(average, modifier, msg_start, len(result))\n"
     ]
    }
   ],
   "source": [
    "\n",
    "\n",
    "model.eval()\n",
    "\n",
    "all_preds = []\n",
    "all_labels = []\n",
    "\n",
    "with torch.no_grad():\n",
    "    for batch in test_dataloader:\n",
    "        batch = {k: v.to(device) for k, v in batch.items()}\n",
    "        outputs = model(**batch)\n",
    "        logits = outputs.logits\n",
    "        preds = logits.argmax(dim=-1).cpu().numpy()\n",
    "        labels = batch['labels'].cpu().numpy()\n",
    "\n",
    "        all_preds.extend(preds)\n",
    "        all_labels.extend(labels)\n",
    "\n",
    "metrics = compute_metrics(all_preds, all_labels)\n",
    "\n",
    "print(metrics)"
   ]
  },
  {
   "cell_type": "code",
   "execution_count": null,
   "metadata": {},
   "outputs": [],
   "source": []
  },
  {
   "cell_type": "markdown",
   "metadata": {},
   "source": [
    "### Few-Shot"
   ]
  },
  {
   "cell_type": "code",
   "execution_count": 15,
   "metadata": {},
   "outputs": [
    {
     "data": {
      "text/html": [
       "<div>\n",
       "<style scoped>\n",
       "    .dataframe tbody tr th:only-of-type {\n",
       "        vertical-align: middle;\n",
       "    }\n",
       "\n",
       "    .dataframe tbody tr th {\n",
       "        vertical-align: top;\n",
       "    }\n",
       "\n",
       "    .dataframe thead th {\n",
       "        text-align: right;\n",
       "    }\n",
       "</style>\n",
       "<table border=\"1\" class=\"dataframe\">\n",
       "  <thead>\n",
       "    <tr style=\"text-align: right;\">\n",
       "      <th></th>\n",
       "      <th>text</th>\n",
       "      <th>labels</th>\n",
       "    </tr>\n",
       "  </thead>\n",
       "  <tbody>\n",
       "    <tr>\n",
       "      <th>0</th>\n",
       "      <td>the quality of being beneficial and generally ...</td>\n",
       "      <td>0</td>\n",
       "    </tr>\n",
       "    <tr>\n",
       "      <th>1</th>\n",
       "      <td>insure again by transferring to another insura...</td>\n",
       "      <td>1</td>\n",
       "    </tr>\n",
       "    <tr>\n",
       "      <th>2</th>\n",
       "      <td>foolish gibberish</td>\n",
       "      <td>2</td>\n",
       "    </tr>\n",
       "    <tr>\n",
       "      <th>3</th>\n",
       "      <td>the property of being a relatively small amoun...</td>\n",
       "      <td>3</td>\n",
       "    </tr>\n",
       "    <tr>\n",
       "      <th>4</th>\n",
       "      <td>an arrangement of a piece of music for perform...</td>\n",
       "      <td>4</td>\n",
       "    </tr>\n",
       "  </tbody>\n",
       "</table>\n",
       "</div>"
      ],
      "text/plain": [
       "                                                text  labels\n",
       "0  the quality of being beneficial and generally ...       0\n",
       "1  insure again by transferring to another insura...       1\n",
       "2                                  foolish gibberish       2\n",
       "3  the property of being a relatively small amoun...       3\n",
       "4  an arrangement of a piece of music for perform...       4"
      ]
     },
     "execution_count": 15,
     "metadata": {},
     "output_type": "execute_result"
    }
   ],
   "source": [
    "df_5 = df_train.groupby('labels').head(5)\n",
    "#df_5.labels.value_counts().plot(kind='pie', figsize=(8,8), title=\"Train partition\", ylabel='')\n",
    "df_5.head(5)"
   ]
  },
  {
   "cell_type": "code",
   "execution_count": 31,
   "metadata": {},
   "outputs": [
    {
     "data": {
      "text/plain": [
       "<Axes: title={'center': 'Train partition'}>"
      ]
     },
     "execution_count": 31,
     "metadata": {},
     "output_type": "execute_result"
    },
    {
     "data": {
      "image/png": "[encoded data removed]",
      "text/plain": [
       "<Figure size 800x800 with 1 Axes>"
      ]
     },
     "metadata": {},
     "output_type": "display_data"
    }
   ],
   "source": [
    "df_10 = df_train.groupby('labels').head(10)\n",
    "df_10.labels.value_counts().plot(kind='pie', figsize=(8,8), title=\"Train partition\", ylabel='')"
   ]
  },
  {
   "cell_type": "code",
   "execution_count": 32,
   "metadata": {},
   "outputs": [
    {
     "data": {
      "text/plain": [
       "<Axes: title={'center': 'Train partition'}>"
      ]
     },
     "execution_count": 32,
     "metadata": {},
     "output_type": "execute_result"
    },
    {
     "data": {
      "image/png": "[encoded data removed]",
      "text/plain": [
       "<Figure size 800x800 with 1 Axes>"
      ]
     },
     "metadata": {},
     "output_type": "display_data"
    }
   ],
   "source": [
    "df_20 = df_train.groupby('labels').head(20)\n",
    "df_20.labels.value_counts().plot(kind='pie', figsize=(8,8), title=\"Train partition\", ylabel='')"
   ]
  },
  {
   "cell_type": "code",
   "execution_count": null,
   "metadata": {},
   "outputs": [],
   "source": []
  },
  {
   "cell_type": "markdown",
   "metadata": {},
   "source": [
    "#### DistilBERT 5"
   ]
  },
  {
   "cell_type": "code",
   "execution_count": 16,
   "metadata": {},
   "outputs": [
    {
     "name": "stdout",
     "output_type": "stream",
     "text": [
      "Dataset({\n",
      "    features: ['text', 'labels', '__index_level_0__'],\n",
      "    num_rows: 168\n",
      "})\n"
     ]
    }
   ],
   "source": [
    "train_dataset = Dataset.from_pandas(df_5)\n",
    "test_dataset = Dataset.from_pandas(df_test)\n",
    "print(train_dataset)"
   ]
  },
  {
   "cell_type": "code",
   "execution_count": 26,
   "metadata": {},
   "outputs": [
    {
     "data": {
      "application/vnd.jupyter.widget-view+json": {
       "model_id": "129decc319b349ed872991f7708e863e",
       "version_major": 2,
       "version_minor": 0
      },
      "text/plain": [
       "Map:   0%|          | 0/168 [00:00<?, ? examples/s]"
      ]
     },
     "metadata": {},
     "output_type": "display_data"
    },
    {
     "data": {
      "application/vnd.jupyter.widget-view+json": {
       "model_id": "37706f25792746c5a8e24a6ee6656443",
       "version_major": 2,
       "version_minor": 0
      },
      "text/plain": [
       "Map:   0%|          | 0/1540 [00:00<?, ? examples/s]"
      ]
     },
     "metadata": {},
     "output_type": "display_data"
    }
   ],
   "source": [
    "model_ckpt='distilbert-base-uncased'\n",
    "tokenizer = AutoTokenizer.from_pretrained(model_ckpt)\n",
    "def preprocess_function(examples):\n",
    "    return tokenizer(examples[\"text\"],truncation=True, max_length = 512)\n",
    "\n",
    "tokenized_train = train_dataset.map(preprocess_function, batched=True)\n",
    "tokenized_test = test_dataset.map(preprocess_function, batched=True)\n",
    "tokenized_train = tokenized_train.remove_columns([\"text\"])\n",
    "tokenized_train = tokenized_train.remove_columns([\"__index_level_0__\"])\n",
    "\n",
    "tokenized_test = tokenized_test.remove_columns([\"text\"])\n",
    "\n",
    "tokenized_train.set_format(\"torch\")\n",
    "tokenized_test.set_format(\"torch\")\n",
    "data_collator = DataCollatorWithPadding(tokenizer=tokenizer)\n",
    "train_dataloader = DataLoader(tokenized_train, batch_size=1, shuffle=True, collate_fn=data_collator)\n",
    "test_dataloader = DataLoader(tokenized_test, batch_size=64, shuffle=False, collate_fn=data_collator)\n"
   ]
  },
  {
   "cell_type": "code",
   "execution_count": 27,
   "metadata": {},
   "outputs": [
    {
     "name": "stderr",
     "output_type": "stream",
     "text": [
      "Some weights of DistilBertForSequenceClassification were not initialized from the model checkpoint at distilbert-base-uncased and are newly initialized: ['classifier.weight', 'classifier.bias', 'pre_classifier.weight', 'pre_classifier.bias']\n",
      "You should probably TRAIN this model on a down-stream task to be able to use it for predictions and inference.\n"
     ]
    },
    {
     "data": {
      "application/vnd.jupyter.widget-view+json": {
       "model_id": "1d59606abb8a4ab3a490fd94d0392c18",
       "version_major": 2,
       "version_minor": 0
      },
      "text/plain": [
       "  0%|          | 0/3360 [00:00<?, ?it/s]"
      ]
     },
     "metadata": {},
     "output_type": "display_data"
    },
    {
     "name": "stderr",
     "output_type": "stream",
     "text": [
      "You're using a DistilBertTokenizerFast tokenizer. Please note that with a fast tokenizer, using the `__call__` method is faster than using a method to encode the text followed by a call to the `pad` method to get a padded encoding.\n"
     ]
    },
    {
     "name": "stdout",
     "output_type": "stream",
     "text": [
      "Epoch 1, Training Loss: 3.5194, Validation Loss: 3.2755, Validation Accuracy: 0.2110\n",
      "Epoch 2, Training Loss: 2.7450, Validation Loss: 2.4323, Validation Accuracy: 0.5831\n",
      "Epoch 3, Training Loss: 1.6279, Validation Loss: 1.7334, Validation Accuracy: 0.6636\n",
      "Epoch 4, Training Loss: 0.8729, Validation Loss: 1.2429, Validation Accuracy: 0.7818\n",
      "Epoch 5, Training Loss: 0.3908, Validation Loss: 1.1506, Validation Accuracy: 0.7552\n",
      "Epoch 6, Training Loss: 0.1915, Validation Loss: 1.0428, Validation Accuracy: 0.7351\n",
      "Epoch 7, Training Loss: 0.1141, Validation Loss: 0.9479, Validation Accuracy: 0.7714\n",
      "Epoch 8, Training Loss: 0.0843, Validation Loss: 0.9316, Validation Accuracy: 0.7656\n",
      "Epoch 9, Training Loss: 0.0635, Validation Loss: 0.9143, Validation Accuracy: 0.7708\n",
      "Epoch 10, Training Loss: 0.0523, Validation Loss: 0.9088, Validation Accuracy: 0.7695\n",
      "Epoch 11, Training Loss: 0.0438, Validation Loss: 0.9049, Validation Accuracy: 0.7688\n",
      "Epoch 12, Training Loss: 0.0368, Validation Loss: 0.9002, Validation Accuracy: 0.7747\n",
      "Epoch 13, Training Loss: 0.0333, Validation Loss: 0.9013, Validation Accuracy: 0.7753\n",
      "Epoch 14, Training Loss: 0.0291, Validation Loss: 0.9064, Validation Accuracy: 0.7740\n",
      "Epoch 15, Training Loss: 0.0271, Validation Loss: 0.9119, Validation Accuracy: 0.7708\n",
      "Epoch 16, Training Loss: 0.0230, Validation Loss: 0.9084, Validation Accuracy: 0.7747\n",
      "Epoch 17, Training Loss: 0.0235, Validation Loss: 0.9061, Validation Accuracy: 0.7740\n",
      "Epoch 18, Training Loss: 0.0217, Validation Loss: 0.9048, Validation Accuracy: 0.7773\n",
      "Epoch 19, Training Loss: 0.0211, Validation Loss: 0.9058, Validation Accuracy: 0.7766\n",
      "Epoch 20, Training Loss: 0.0211, Validation Loss: 0.9066, Validation Accuracy: 0.7766\n"
     ]
    }
   ],
   "source": [
    "\n",
    "num_labels=34\n",
    "model = AutoModelForSequenceClassification.from_pretrained(model_ckpt, num_labels=num_labels, id2label=id2label, label2id=label2id)\n",
    "optimizer = torch.optim.AdamW(model.parameters(), lr=5e-5)\n",
    "\n",
    "num_epochs = 20\n",
    "num_training_steps = num_epochs * len(train_dataloader)\n",
    "lr_scheduler = get_scheduler(\n",
    "    \"linear\",\n",
    "    optimizer=optimizer,\n",
    "    num_warmup_steps=0,\n",
    "    num_training_steps=num_training_steps\n",
    ")\n",
    "model.to(device)\n",
    "metric = load_metric(\"accuracy\")\n",
    "\n",
    "    \n",
    "progress_bar = tqdm(range(num_training_steps))\n",
    "train_losses=[]\n",
    "valid_losses=[]\n",
    "\n",
    "for epoch in range(num_epochs):    \n",
    "    train_loss=0.0\n",
    "    model.train()\n",
    "    # if epoch ==4:\n",
    "    #     torch.save(model, \"./Pretrained/distilbertEpoch4Tasa5e-5\")\n",
    "    for batch_num, batch in enumerate(train_dataloader):\n",
    "        batch = {k: v.to(device) for k, v in batch.items()}\n",
    "        outputs = model(**batch)\n",
    "        loss = outputs.loss\n",
    "        loss.backward()\n",
    "        optimizer.step()\n",
    "        lr_scheduler.step()\n",
    "        optimizer.zero_grad()\n",
    "        progress_bar.update(1)\n",
    "\n",
    "        train_loss += loss.item()\n",
    "\n",
    "        \n",
    "    model.eval()  # Establecer el modelo en modo de evaluación\n",
    "    val_loss = 0.0\n",
    "\n",
    "    with torch.no_grad():\n",
    "        for val_batch in test_dataloader:\n",
    "            val_batch = {k: v.to(device) for k, v in val_batch.items()}\n",
    "            val_outputs = model(**val_batch)\n",
    "            val_loss += val_outputs.loss.item()\n",
    "            logits = val_outputs.logits\n",
    "            predictions = torch.argmax(logits, dim=-1)\n",
    "            metric.add_batch(predictions=predictions, references=val_batch[\"labels\"])\n",
    "\n",
    "        val_acc = metric.compute()['accuracy']\n",
    "\n",
    "\n",
    "    # Calcular la pérdida de validación promedio\n",
    "    avg_val_loss = val_loss / len(test_dataloader)\n",
    "\n",
    "    # Guardar los valores de pérdida\n",
    "    train_losses.append(train_loss / len(train_dataloader))\n",
    "    valid_losses.append(avg_val_loss)\n",
    "\n",
    "    print(f\"Epoch {epoch + 1}, Training Loss: {train_loss / len(train_dataloader):.4f}, Validation Loss: {avg_val_loss:.4f}, Validation Accuracy: {val_acc:.4f}\")\n",
    "    train_loss=0.0\n"
   ]
  },
  {
   "cell_type": "code",
   "execution_count": 29,
   "metadata": {},
   "outputs": [],
   "source": [
    "\n",
    "def compute_metrics(preds, labels):\n",
    "\n",
    "    # Obtain predicted class labels by finding the column index with the maximum probability\n",
    "\n",
    "    # Compute macro precision, recall, and F1 score using sklearn's precision_recall_fscore_support function\n",
    "    precision, recall, f1, _ = precision_recall_fscore_support(labels, preds, average='weighted')\n",
    "\n",
    "    # Calculate the accuracy score using sklearn's accuracy_score function\n",
    "    acc = accuracy_score(labels, preds)\n",
    "\n",
    "    # Return the computed metrics as a dictionary\n",
    "\n",
    "    return {\n",
    "    'Accuracy': acc,\n",
    "    'F1': f1,\n",
    "    'Precision': precision,\n",
    "    'Recall': recall\n",
    "    }\n"
   ]
  },
  {
   "cell_type": "code",
   "execution_count": 30,
   "metadata": {},
   "outputs": [
    {
     "name": "stdout",
     "output_type": "stream",
     "text": [
      "{'Accuracy': 0.7766233766233767, 'F1': 0.7969333439112938, 'Precision': 0.8479023738777426, 'Recall': 0.7766233766233767}\n"
     ]
    },
    {
     "name": "stderr",
     "output_type": "stream",
     "text": [
      "/home/barama/1Cuatrimestre/PLN/Proyecto/codigo/.virtual/lib/python3.11/site-packages/sklearn/metrics/_classification.py:1471: UndefinedMetricWarning: Recall and F-score are ill-defined and being set to 0.0 in labels with no true samples. Use `zero_division` parameter to control this behavior.\n",
      "  _warn_prf(average, modifier, msg_start, len(result))\n"
     ]
    }
   ],
   "source": [
    "\n",
    "\n",
    "\n",
    "#model = torch.load(\"./Pretrained/distilbertEpoch6Tasa5e-5WarmCos\")\n",
    "model.eval()\n",
    "\n",
    "all_preds = []\n",
    "all_labels = []\n",
    "\n",
    "with torch.no_grad():\n",
    "    for batch in test_dataloader:\n",
    "        batch = {k: v.to(device) for k, v in batch.items()}\n",
    "        outputs = model(**batch)\n",
    "        logits = outputs.logits\n",
    "        preds = logits.argmax(dim=-1).cpu().numpy()\n",
    "        labels = batch['labels'].cpu().numpy()\n",
    "\n",
    "        all_preds.extend(preds)\n",
    "        all_labels.extend(labels)\n",
    "\n",
    "metrics = compute_metrics(all_preds, all_labels)\n",
    "\n",
    "print(metrics)"
   ]
  },
  {
   "cell_type": "markdown",
   "metadata": {},
   "source": [
    "#### DistilBERT 10"
   ]
  },
  {
   "cell_type": "code",
   "execution_count": 34,
   "metadata": {},
   "outputs": [
    {
     "name": "stdout",
     "output_type": "stream",
     "text": [
      "Dataset({\n",
      "    features: ['text', 'labels', '__index_level_0__'],\n",
      "    num_rows: 332\n",
      "})\n"
     ]
    },
    {
     "data": {
      "application/vnd.jupyter.widget-view+json": {
       "model_id": "9050f552941442269e3e758fa9d1b167",
       "version_major": 2,
       "version_minor": 0
      },
      "text/plain": [
       "Map:   0%|          | 0/332 [00:00<?, ? examples/s]"
      ]
     },
     "metadata": {},
     "output_type": "display_data"
    },
    {
     "data": {
      "application/vnd.jupyter.widget-view+json": {
       "model_id": "f95725b3fbf840d2818e341d9c2c0f32",
       "version_major": 2,
       "version_minor": 0
      },
      "text/plain": [
       "Map:   0%|          | 0/1540 [00:00<?, ? examples/s]"
      ]
     },
     "metadata": {},
     "output_type": "display_data"
    },
    {
     "name": "stderr",
     "output_type": "stream",
     "text": [
      "Some weights of DistilBertForSequenceClassification were not initialized from the model checkpoint at distilbert-base-uncased and are newly initialized: ['classifier.weight', 'classifier.bias', 'pre_classifier.weight', 'pre_classifier.bias']\n",
      "You should probably TRAIN this model on a down-stream task to be able to use it for predictions and inference.\n"
     ]
    },
    {
     "data": {
      "application/vnd.jupyter.widget-view+json": {
       "model_id": "0991aacc88d241eeae02574e6008045a",
       "version_major": 2,
       "version_minor": 0
      },
      "text/plain": [
       "  0%|          | 0/1660 [00:00<?, ?it/s]"
      ]
     },
     "metadata": {},
     "output_type": "display_data"
    },
    {
     "name": "stderr",
     "output_type": "stream",
     "text": [
      "You're using a DistilBertTokenizerFast tokenizer. Please note that with a fast tokenizer, using the `__call__` method is faster than using a method to encode the text followed by a call to the `pad` method to get a padded encoding.\n"
     ]
    },
    {
     "name": "stdout",
     "output_type": "stream",
     "text": [
      "Epoch 1, Training Loss: 3.4892, Validation Loss: 3.1452, Validation Accuracy: 0.1617\n",
      "Epoch 2, Training Loss: 2.7586, Validation Loss: 2.3315, Validation Accuracy: 0.6727\n",
      "Epoch 3, Training Loss: 1.6497, Validation Loss: 1.6064, Validation Accuracy: 0.7162\n",
      "Epoch 4, Training Loss: 0.8195, Validation Loss: 1.2399, Validation Accuracy: 0.7188\n",
      "Epoch 5, Training Loss: 0.3945, Validation Loss: 1.0577, Validation Accuracy: 0.7513\n",
      "Epoch 6, Training Loss: 0.2095, Validation Loss: 1.0064, Validation Accuracy: 0.7494\n",
      "Epoch 7, Training Loss: 0.1288, Validation Loss: 0.9850, Validation Accuracy: 0.7513\n",
      "Epoch 8, Training Loss: 0.0923, Validation Loss: 0.9775, Validation Accuracy: 0.7519\n",
      "Epoch 9, Training Loss: 0.0718, Validation Loss: 0.9681, Validation Accuracy: 0.7545\n",
      "Epoch 10, Training Loss: 0.0589, Validation Loss: 0.9772, Validation Accuracy: 0.7552\n",
      "Epoch 11, Training Loss: 0.0494, Validation Loss: 0.9704, Validation Accuracy: 0.7571\n",
      "Epoch 12, Training Loss: 0.0416, Validation Loss: 0.9770, Validation Accuracy: 0.7591\n",
      "Epoch 13, Training Loss: 0.0403, Validation Loss: 0.9812, Validation Accuracy: 0.7571\n",
      "Epoch 14, Training Loss: 0.0343, Validation Loss: 0.9921, Validation Accuracy: 0.7571\n",
      "Epoch 15, Training Loss: 0.0317, Validation Loss: 0.9954, Validation Accuracy: 0.7578\n",
      "Epoch 16, Training Loss: 0.0289, Validation Loss: 0.9944, Validation Accuracy: 0.7584\n",
      "Epoch 17, Training Loss: 0.0276, Validation Loss: 0.9960, Validation Accuracy: 0.7584\n",
      "Epoch 18, Training Loss: 0.0262, Validation Loss: 0.9972, Validation Accuracy: 0.7591\n",
      "Epoch 19, Training Loss: 0.0253, Validation Loss: 0.9983, Validation Accuracy: 0.7597\n",
      "Epoch 20, Training Loss: 0.0262, Validation Loss: 0.9993, Validation Accuracy: 0.7597\n",
      "{'Accuracy': 0.7597402597402597, 'F1': 0.7756984965149575, 'Precision': 0.8363704709063483, 'Recall': 0.7597402597402597}\n"
     ]
    },
    {
     "name": "stderr",
     "output_type": "stream",
     "text": [
      "/home/barama/1Cuatrimestre/PLN/Proyecto/codigo/.virtual/lib/python3.11/site-packages/sklearn/metrics/_classification.py:1471: UndefinedMetricWarning: Precision and F-score are ill-defined and being set to 0.0 in labels with no predicted samples. Use `zero_division` parameter to control this behavior.\n",
      "  _warn_prf(average, modifier, msg_start, len(result))\n",
      "/home/barama/1Cuatrimestre/PLN/Proyecto/codigo/.virtual/lib/python3.11/site-packages/sklearn/metrics/_classification.py:1471: UndefinedMetricWarning: Recall and F-score are ill-defined and being set to 0.0 in labels with no true samples. Use `zero_division` parameter to control this behavior.\n",
      "  _warn_prf(average, modifier, msg_start, len(result))\n"
     ]
    }
   ],
   "source": [
    "train_dataset = Dataset.from_pandas(df_10)\n",
    "test_dataset = Dataset.from_pandas(df_test)\n",
    "print(train_dataset)\n",
    "model_ckpt='distilbert-base-uncased'\n",
    "tokenizer = AutoTokenizer.from_pretrained(model_ckpt)\n",
    "def preprocess_function(examples):\n",
    "    return tokenizer(examples[\"text\"],truncation=True, max_length = 512)\n",
    "\n",
    "tokenized_train = train_dataset.map(preprocess_function, batched=True)\n",
    "tokenized_test = test_dataset.map(preprocess_function, batched=True)\n",
    "tokenized_train = tokenized_train.remove_columns([\"text\"])\n",
    "tokenized_train = tokenized_train.remove_columns([\"__index_level_0__\"])\n",
    "\n",
    "tokenized_test = tokenized_test.remove_columns([\"text\"])\n",
    "\n",
    "tokenized_train.set_format(\"torch\")\n",
    "tokenized_test.set_format(\"torch\")\n",
    "data_collator = DataCollatorWithPadding(tokenizer=tokenizer)\n",
    "train_dataloader = DataLoader(tokenized_train, batch_size=4, shuffle=True, collate_fn=data_collator)\n",
    "test_dataloader = DataLoader(tokenized_test, batch_size=64, shuffle=False, collate_fn=data_collator)\n",
    "\n",
    "\n",
    "num_labels=34\n",
    "model = AutoModelForSequenceClassification.from_pretrained(model_ckpt, num_labels=num_labels, id2label=id2label, label2id=label2id)\n",
    "optimizer = torch.optim.AdamW(model.parameters(), lr=5e-5)\n",
    "\n",
    "num_epochs = 20\n",
    "num_training_steps = num_epochs * len(train_dataloader)\n",
    "lr_scheduler = get_scheduler(\n",
    "    \"linear\",\n",
    "    optimizer=optimizer,\n",
    "    num_warmup_steps=0,\n",
    "    num_training_steps=num_training_steps\n",
    ")\n",
    "model.to(device)\n",
    "metric = load_metric(\"accuracy\")\n",
    "\n",
    "    \n",
    "progress_bar = tqdm(range(num_training_steps))\n",
    "train_losses=[]\n",
    "valid_losses=[]\n",
    "\n",
    "for epoch in range(num_epochs):    \n",
    "    train_loss=0.0\n",
    "    model.train()\n",
    "    # if epoch ==4:\n",
    "    #     torch.save(model, \"./Pretrained/distilbertEpoch4Tasa5e-5\")\n",
    "    for batch_num, batch in enumerate(train_dataloader):\n",
    "        batch = {k: v.to(device) for k, v in batch.items()}\n",
    "        outputs = model(**batch)\n",
    "        loss = outputs.loss\n",
    "        loss.backward()\n",
    "        optimizer.step()\n",
    "        lr_scheduler.step()\n",
    "        optimizer.zero_grad()\n",
    "        progress_bar.update(1)\n",
    "\n",
    "        train_loss += loss.item()\n",
    "\n",
    "        \n",
    "    model.eval()  # Establecer el modelo en modo de evaluación\n",
    "    val_loss = 0.0\n",
    "\n",
    "    with torch.no_grad():\n",
    "        for val_batch in test_dataloader:\n",
    "            val_batch = {k: v.to(device) for k, v in val_batch.items()}\n",
    "            val_outputs = model(**val_batch)\n",
    "            val_loss += val_outputs.loss.item()\n",
    "            logits = val_outputs.logits\n",
    "            predictions = torch.argmax(logits, dim=-1)\n",
    "            metric.add_batch(predictions=predictions, references=val_batch[\"labels\"])\n",
    "\n",
    "        val_acc = metric.compute()['accuracy']\n",
    "\n",
    "\n",
    "    # Calcular la pérdida de validación promedio\n",
    "    avg_val_loss = val_loss / len(test_dataloader)\n",
    "\n",
    "    # Guardar los valores de pérdida\n",
    "    train_losses.append(train_loss / len(train_dataloader))\n",
    "    valid_losses.append(avg_val_loss)\n",
    "\n",
    "    print(f\"Epoch {epoch + 1}, Training Loss: {train_loss / len(train_dataloader):.4f}, Validation Loss: {avg_val_loss:.4f}, Validation Accuracy: {val_acc:.4f}\")\n",
    "    train_loss=0.0\n",
    "\n",
    "\n",
    "\n",
    "\n",
    "#model = torch.load(\"./Pretrained/distilbertEpoch6Tasa5e-5WarmCos\")\n",
    "model.eval()\n",
    "\n",
    "all_preds = []\n",
    "all_labels = []\n",
    "\n",
    "with torch.no_grad():\n",
    "    for batch in test_dataloader:\n",
    "        batch = {k: v.to(device) for k, v in batch.items()}\n",
    "        outputs = model(**batch)\n",
    "        logits = outputs.logits\n",
    "        preds = logits.argmax(dim=-1).cpu().numpy()\n",
    "        labels = batch['labels'].cpu().numpy()\n",
    "\n",
    "        all_preds.extend(preds)\n",
    "        all_labels.extend(labels)\n",
    "\n",
    "metrics = compute_metrics(all_preds, all_labels)\n",
    "\n",
    "print(metrics)"
   ]
  },
  {
   "cell_type": "markdown",
   "metadata": {},
   "source": [
    "#### DistilBERT 20"
   ]
  },
  {
   "cell_type": "code",
   "execution_count": 35,
   "metadata": {},
   "outputs": [
    {
     "name": "stdout",
     "output_type": "stream",
     "text": [
      "Dataset({\n",
      "    features: ['text', 'labels', '__index_level_0__'],\n",
      "    num_rows: 652\n",
      "})\n"
     ]
    },
    {
     "data": {
      "application/vnd.jupyter.widget-view+json": {
       "model_id": "ec6c494c48954265b08a9789b40e5880",
       "version_major": 2,
       "version_minor": 0
      },
      "text/plain": [
       "Map:   0%|          | 0/652 [00:00<?, ? examples/s]"
      ]
     },
     "metadata": {},
     "output_type": "display_data"
    },
    {
     "data": {
      "application/vnd.jupyter.widget-view+json": {
       "model_id": "2f67815ef86d40f291fe471aa21457f2",
       "version_major": 2,
       "version_minor": 0
      },
      "text/plain": [
       "Map:   0%|          | 0/1540 [00:00<?, ? examples/s]"
      ]
     },
     "metadata": {},
     "output_type": "display_data"
    },
    {
     "name": "stderr",
     "output_type": "stream",
     "text": [
      "Some weights of DistilBertForSequenceClassification were not initialized from the model checkpoint at distilbert-base-uncased and are newly initialized: ['classifier.weight', 'classifier.bias', 'pre_classifier.weight', 'pre_classifier.bias']\n",
      "You should probably TRAIN this model on a down-stream task to be able to use it for predictions and inference.\n"
     ]
    },
    {
     "data": {
      "application/vnd.jupyter.widget-view+json": {
       "model_id": "1bdfb43032b242cb988eca957e372806",
       "version_major": 2,
       "version_minor": 0
      },
      "text/plain": [
       "  0%|          | 0/3260 [00:00<?, ?it/s]"
      ]
     },
     "metadata": {},
     "output_type": "display_data"
    },
    {
     "name": "stderr",
     "output_type": "stream",
     "text": [
      "You're using a DistilBertTokenizerFast tokenizer. Please note that with a fast tokenizer, using the `__call__` method is faster than using a method to encode the text followed by a call to the `pad` method to get a padded encoding.\n"
     ]
    },
    {
     "name": "stdout",
     "output_type": "stream",
     "text": [
      "Epoch 1, Training Loss: 3.0090, Validation Loss: 2.0683, Validation Accuracy: 0.8045\n",
      "Epoch 2, Training Loss: 1.4752, Validation Loss: 1.1932, Validation Accuracy: 0.8253\n",
      "Epoch 3, Training Loss: 0.6391, Validation Loss: 0.8919, Validation Accuracy: 0.8545\n",
      "Epoch 4, Training Loss: 0.2876, Validation Loss: 0.8298, Validation Accuracy: 0.8494\n",
      "Epoch 5, Training Loss: 0.1417, Validation Loss: 1.0369, Validation Accuracy: 0.7831\n",
      "Epoch 6, Training Loss: 0.0740, Validation Loss: 0.9926, Validation Accuracy: 0.7948\n",
      "Epoch 7, Training Loss: 0.0459, Validation Loss: 0.8845, Validation Accuracy: 0.8234\n",
      "Epoch 8, Training Loss: 0.0295, Validation Loss: 0.9114, Validation Accuracy: 0.8214\n",
      "Epoch 9, Training Loss: 0.0233, Validation Loss: 0.9269, Validation Accuracy: 0.8234\n",
      "Epoch 10, Training Loss: 0.0188, Validation Loss: 0.9321, Validation Accuracy: 0.8253\n",
      "Epoch 11, Training Loss: 0.0161, Validation Loss: 0.9399, Validation Accuracy: 0.8234\n",
      "Epoch 12, Training Loss: 0.0140, Validation Loss: 0.9500, Validation Accuracy: 0.8240\n",
      "Epoch 13, Training Loss: 0.0123, Validation Loss: 0.9561, Validation Accuracy: 0.8260\n",
      "Epoch 14, Training Loss: 0.0110, Validation Loss: 0.9620, Validation Accuracy: 0.8273\n",
      "Epoch 15, Training Loss: 0.0102, Validation Loss: 0.9678, Validation Accuracy: 0.8286\n",
      "Epoch 16, Training Loss: 0.0093, Validation Loss: 0.9751, Validation Accuracy: 0.8273\n",
      "Epoch 17, Training Loss: 0.0087, Validation Loss: 0.9793, Validation Accuracy: 0.8279\n",
      "Epoch 18, Training Loss: 0.0084, Validation Loss: 0.9818, Validation Accuracy: 0.8279\n",
      "Epoch 19, Training Loss: 0.0079, Validation Loss: 0.9829, Validation Accuracy: 0.8279\n",
      "Epoch 20, Training Loss: 0.0081, Validation Loss: 0.9834, Validation Accuracy: 0.8279\n",
      "{'Accuracy': 0.827922077922078, 'F1': 0.8433856269269577, 'Precision': 0.8786667400767847, 'Recall': 0.827922077922078}\n"
     ]
    },
    {
     "name": "stderr",
     "output_type": "stream",
     "text": [
      "/home/barama/1Cuatrimestre/PLN/Proyecto/codigo/.virtual/lib/python3.11/site-packages/sklearn/metrics/_classification.py:1471: UndefinedMetricWarning: Recall and F-score are ill-defined and being set to 0.0 in labels with no true samples. Use `zero_division` parameter to control this behavior.\n",
      "  _warn_prf(average, modifier, msg_start, len(result))\n"
     ]
    }
   ],
   "source": [
    "train_dataset = Dataset.from_pandas(df_20)\n",
    "test_dataset = Dataset.from_pandas(df_test)\n",
    "print(train_dataset)\n",
    "model_ckpt='distilbert-base-uncased'\n",
    "tokenizer = AutoTokenizer.from_pretrained(model_ckpt)\n",
    "def preprocess_function(examples):\n",
    "    return tokenizer(examples[\"text\"],truncation=True, max_length = 512)\n",
    "\n",
    "tokenized_train = train_dataset.map(preprocess_function, batched=True)\n",
    "tokenized_test = test_dataset.map(preprocess_function, batched=True)\n",
    "tokenized_train = tokenized_train.remove_columns([\"text\"])\n",
    "tokenized_train = tokenized_train.remove_columns([\"__index_level_0__\"])\n",
    "\n",
    "tokenized_test = tokenized_test.remove_columns([\"text\"])\n",
    "\n",
    "tokenized_train.set_format(\"torch\")\n",
    "tokenized_test.set_format(\"torch\")\n",
    "data_collator = DataCollatorWithPadding(tokenizer=tokenizer)\n",
    "train_dataloader = DataLoader(tokenized_train, batch_size=4, shuffle=True, collate_fn=data_collator)\n",
    "test_dataloader = DataLoader(tokenized_test, batch_size=64, shuffle=False, collate_fn=data_collator)\n",
    "\n",
    "\n",
    "num_labels=34\n",
    "model = AutoModelForSequenceClassification.from_pretrained(model_ckpt, num_labels=num_labels, id2label=id2label, label2id=label2id)\n",
    "optimizer = torch.optim.AdamW(model.parameters(), lr=5e-5)\n",
    "\n",
    "num_epochs = 20\n",
    "num_training_steps = num_epochs * len(train_dataloader)\n",
    "lr_scheduler = get_scheduler(\n",
    "    \"linear\",\n",
    "    optimizer=optimizer,\n",
    "    num_warmup_steps=0,\n",
    "    num_training_steps=num_training_steps\n",
    ")\n",
    "model.to(device)\n",
    "metric = load_metric(\"accuracy\")\n",
    "\n",
    "    \n",
    "progress_bar = tqdm(range(num_training_steps))\n",
    "train_losses=[]\n",
    "valid_losses=[]\n",
    "\n",
    "for epoch in range(num_epochs):    \n",
    "    train_loss=0.0\n",
    "    model.train()\n",
    "    # if epoch ==4:\n",
    "    #     torch.save(model, \"./Pretrained/distilbertEpoch4Tasa5e-5\")\n",
    "    for batch_num, batch in enumerate(train_dataloader):\n",
    "        batch = {k: v.to(device) for k, v in batch.items()}\n",
    "        outputs = model(**batch)\n",
    "        loss = outputs.loss\n",
    "        loss.backward()\n",
    "        optimizer.step()\n",
    "        lr_scheduler.step()\n",
    "        optimizer.zero_grad()\n",
    "        progress_bar.update(1)\n",
    "\n",
    "        train_loss += loss.item()\n",
    "\n",
    "        \n",
    "    model.eval()  # Establecer el modelo en modo de evaluación\n",
    "    val_loss = 0.0\n",
    "\n",
    "    with torch.no_grad():\n",
    "        for val_batch in test_dataloader:\n",
    "            val_batch = {k: v.to(device) for k, v in val_batch.items()}\n",
    "            val_outputs = model(**val_batch)\n",
    "            val_loss += val_outputs.loss.item()\n",
    "            logits = val_outputs.logits\n",
    "            predictions = torch.argmax(logits, dim=-1)\n",
    "            metric.add_batch(predictions=predictions, references=val_batch[\"labels\"])\n",
    "\n",
    "        val_acc = metric.compute()['accuracy']\n",
    "\n",
    "\n",
    "    # Calcular la pérdida de validación promedio\n",
    "    avg_val_loss = val_loss / len(test_dataloader)\n",
    "\n",
    "    # Guardar los valores de pérdida\n",
    "    train_losses.append(train_loss / len(train_dataloader))\n",
    "    valid_losses.append(avg_val_loss)\n",
    "\n",
    "    print(f\"Epoch {epoch + 1}, Training Loss: {train_loss / len(train_dataloader):.4f}, Validation Loss: {avg_val_loss:.4f}, Validation Accuracy: {val_acc:.4f}\")\n",
    "    train_loss=0.0\n",
    "\n",
    "\n",
    "\n",
    "\n",
    "#model = torch.load(\"./Pretrained/distilbertEpoch6Tasa5e-5WarmCos\")\n",
    "model.eval()\n",
    "\n",
    "all_preds = []\n",
    "all_labels = []\n",
    "\n",
    "with torch.no_grad():\n",
    "    for batch in test_dataloader:\n",
    "        batch = {k: v.to(device) for k, v in batch.items()}\n",
    "        outputs = model(**batch)\n",
    "        logits = outputs.logits\n",
    "        preds = logits.argmax(dim=-1).cpu().numpy()\n",
    "        labels = batch['labels'].cpu().numpy()\n",
    "\n",
    "        all_preds.extend(preds)\n",
    "        all_labels.extend(labels)\n",
    "\n",
    "metrics = compute_metrics(all_preds, all_labels)\n",
    "\n",
    "print(metrics)"
   ]
  }
 ],
 "metadata": {
  "kernelspec": {
   "display_name": ".virtual",
   "language": "python",
   "name": "python3"
  },
  "language_info": {
   "codemirror_mode": {
    "name": "ipython",
    "version": 3
   },
   "file_extension": ".py",
   "mimetype": "text/x-python",
   "name": "python",
   "nbconvert_exporter": "python",
   "pygments_lexer": "ipython3",
   "version": "3.11.6"
  }
 },
 "nbformat": 4,
 "nbformat_minor": 2
}
